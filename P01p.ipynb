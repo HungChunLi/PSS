{
 "cells": [
  {
   "cell_type": "markdown",
   "id": "07504fdd",
   "metadata": {},
   "source": [
    "# Self-Quiz: Counting departments\n",
    "以下的stu_list為一群修課生的科系，現在要列數每個科系有多少人修課。"
   ]
  },
  {
   "cell_type": "code",
   "execution_count": 11,
   "id": "32dcb749",
   "metadata": {},
   "outputs": [],
   "source": [
    "stu_dict = {}\n",
    "stu_list = [\"soc\", \"soc\", \"econ\", \"bio\", \"psy\", \"psy\", \"econ\", \"poli\", \"econ\"]"
   ]
  },
  {
   "cell_type": "markdown",
   "id": "a858cb7f",
   "metadata": {},
   "source": [
    "## Counting with for-loop\n",
    "以下為其中一種可能的寫法，不盡然要照著邏輯寫，可以自己寫寫看。\n",
    "```\n",
    "Output:\n",
    "{'soc': 2, 'econ': 3, 'bio': 1, 'psy': 2, 'poli': 1}`\n",
    "```"
   ]
  },
  {
   "cell_type": "code",
   "execution_count": 13,
   "id": "3a68eb70",
   "metadata": {},
   "outputs": [
    {
     "name": "stdout",
     "output_type": "stream",
     "text": [
      "{'soc': 2, 'econ': 3, 'bio': 1, 'psy': 2, 'poli': 1}\n"
     ]
    }
   ],
   "source": [
    "\n",
    "\n",
    "\n",
    "\n"
   ]
  },
  {
   "cell_type": "markdown",
   "id": "380189fd",
   "metadata": {},
   "source": [
    "## Print out all keys and value()\n",
    "```\n",
    "Output：\n",
    "dict_keys(['soc', 'econ', 'bio', 'psy', 'poli'])\n",
    "dict_values([2, 3, 1, 2, 1])\n",
    "```"
   ]
  },
  {
   "cell_type": "code",
   "execution_count": 15,
   "id": "8166313d",
   "metadata": {},
   "outputs": [
    {
     "name": "stdout",
     "output_type": "stream",
     "text": [
      "dict_keys(['soc', 'econ', 'bio', 'psy', 'poli'])\n",
      "dict_values([2, 3, 1, 2, 1])\n"
     ]
    }
   ],
   "source": [
    "\n"
   ]
  },
  {
   "cell_type": "markdown",
   "id": "6186ae31",
   "metadata": {},
   "source": [
    "## Print out all pairs by items()\n",
    "```\n",
    "Output: \n",
    "dict_items([('soc', 2), ('econ', 3), ('bio', 1), ('psy', 2), ('poli', 1)])\n",
    "```"
   ]
  },
  {
   "cell_type": "code",
   "execution_count": 14,
   "id": "f559b6f3",
   "metadata": {},
   "outputs": [
    {
     "name": "stdout",
     "output_type": "stream",
     "text": [
      "dict_items([('soc', 2), ('econ', 3), ('bio', 1), ('psy', 2), ('poli', 1)])\n"
     ]
    }
   ],
   "source": []
  },
  {
   "cell_type": "markdown",
   "id": "1384b167",
   "metadata": {},
   "source": [
    "## Counting by Counter()\n",
    "```\n",
    "Output:\n",
    "Counter({'econ': 3, 'soc': 2, 'psy': 2, 'bio': 1, 'poli': 1})\n",
    "econ 3\n",
    "soc 2\n",
    "psy 2\n",
    "bio 1\n",
    "poli 1\n",
    "```"
   ]
  },
  {
   "cell_type": "code",
   "execution_count": 18,
   "id": "165e5f21",
   "metadata": {},
   "outputs": [
    {
     "name": "stdout",
     "output_type": "stream",
     "text": [
      "Counter({'econ': 3, 'soc': 2, 'psy': 2, 'bio': 1, 'poli': 1})\n",
      "econ 3\n",
      "soc 2\n",
      "psy 2\n",
      "bio 1\n",
      "poli 1\n"
     ]
    }
   ],
   "source": [
    "\n",
    "\n",
    "\n",
    "\n",
    "\n"
   ]
  }
 ],
 "metadata": {
  "kernelspec": {
   "display_name": "Python 3",
   "language": "python",
   "name": "python3"
  },
  "language_info": {
   "codemirror_mode": {
    "name": "ipython",
    "version": 3
   },
   "file_extension": ".py",
   "mimetype": "text/x-python",
   "name": "python",
   "nbconvert_exporter": "python",
   "pygments_lexer": "ipython3",
   "version": "3.7.6"
  }
 },
 "nbformat": 4,
 "nbformat_minor": 5
}
