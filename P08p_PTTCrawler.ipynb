{
 "cells": [
  {
   "cell_type": "markdown",
   "metadata": {},
   "source": [
    "# Crawling PTT\n",
    "\n",
    "* Using BeautifulSoup Extract Text without Tags http://stackoverflow.com/questions/23380171/using-beautifulsoup-extract-text-without-tags\n",
    "* Scraper: [comparing beautifulsoup vs. scrapy](https://stackoverflow.com/questions/19687421/difference-between-beautifulsoup-and-scrapy-crawler)\n",
    "* [comparing beautifulsoup vs. scrapy 2](https://blog.michaelyin.info/scrapy-tutorial-1-scrapy-vs-beautiful-soup/)"
   ]
  },
  {
   "cell_type": "markdown",
   "metadata": {},
   "source": [
    "## (Review) Get url content by requests\n",
    "* try to get the following links (click and observe them, get them by request.get())\n",
    "    * https://www.ptt.cc/bbs/Boy-Girl/index.html\n",
    "    * https://www.ptt.cc/bbs/Gossiping/index.html\n",
    "    * http://ecshweb.pchome.com.tw/search/v3.3/?q=iphone"
   ]
  },
  {
   "cell_type": "code",
   "execution_count": 10,
   "metadata": {},
   "outputs": [
    {
     "name": "stdout",
     "output_type": "stream",
     "text": [
      "https://www.ptt.cc/bbs/Boy-Girl/index.html\n",
      "<!DOCTYPE html>\n",
      "<html>\n",
      "\t<head>\n",
      "\t\t<meta charset=\"utf-8\">\n",
      "\t\t\n",
      "\n",
      "<meta name=\"viewport\" content=\"width=device-width, initial-scale=1\">\n",
      "\n",
      "<title>看板 Boy-Girl 文章列表 - 批踢踢實業坊</title>\n",
      "\n",
      "<link rel=\"stylesheet\" type=\"text/css\" href=\"//images.ptt.cc/bbs/v2.27/bbs-common.css\">\n",
      "<link rel=\"stylesheet\" type=\"text/css\" href=\"//images.ptt.cc/bbs/v2.27/bbs-base.css\" media=\"screen\">\n",
      "<link rel=\"stylesheet\" type=\"text/css\" href=\"//images.ptt.cc/bbs/v2.27/bbs-custom.css\">\n",
      "<link rel=\"stylesheet\" type=\"text/css\" href=\"//images.ptt.cc/bbs/v2.27/pushstream.css\" media=\"screen\">\n",
      "<link rel=\"stylesheet\" type=\"text/css\" href=\"//images.ptt.cc/bbs/v2.27/bbs-print.css\" media=\"print\">\n",
      "\n",
      "\n",
      "\n",
      "\n",
      "\t</head>\n",
      "    <body>\n",
      "\t\t\n",
      "<div id=\"topbar-container\">\n",
      "\t<div id=\"topbar\" class=\"bbs-content\">\n",
      "\t\t<a id=\"logo\" href=\"/bbs/\">批踢踢實業坊</a>\n",
      "\t\t<span>&rsaquo;</span>\n",
      "\t\t<a class=\"board\" href=\"/bbs/Boy-Girl/index.html\"><span class=\"board-label\">看板 </span>Boy-Girl</a>\n",
      "\t\t<a class=\"right small\" href=\"/about.html\">關於我們</a>\n",
      "\t\t<a class=\"right small\" href=\"/conta\n"
     ]
    }
   ],
   "source": [
    "import requests\n",
    "url = 'https://www.ptt.cc/bbs/Boy-Girl/index.html'\n",
    "print(url)\n",
    "\n",
    "response = requests.get(url, timeout=(2, 3))\n",
    "print(response.text[:1000])"
   ]
  },
  {
   "cell_type": "markdown",
   "metadata": {},
   "source": [
    "## Using Chrome DevTools to get right elements\n",
    "[Slide: Inspecting HTML by Chrome DevTools](https://docs.google.com/presentation/d/e/2PACX-1vSrIfJQJpr_24wwIjMaTMKiq_xrhZ5n-J26G7xbXC1HIMMKWfMsm6zFWOsX8NxNEN_S46z9PnsASj32/pub?start=false&loop=false&delayms=3000)\n",
    "\n",
    "## Parsing url content by beautifulsoup\n",
    "Beautifulsoup4 https://www.crummy.com/software/BeautifulSoup/bs4/doc/"
   ]
  },
  {
   "cell_type": "markdown",
   "metadata": {},
   "source": [
    "# Scraping and Parsing HTML"
   ]
  },
  {
   "cell_type": "markdown",
   "metadata": {},
   "source": [
    "## Getting response"
   ]
  },
  {
   "cell_type": "code",
   "execution_count": 11,
   "metadata": {},
   "outputs": [],
   "source": [
    "import requests\n",
    "from bs4 import BeautifulSoup\n",
    "\n",
    "url = 'https://www.ptt.cc/bbs/Boy-Girl/index.html'\n",
    "response = requests.get(url, timeout=(2, 3))"
   ]
  },
  {
   "cell_type": "markdown",
   "metadata": {},
   "source": [
    "## Converting webpage to a soup object"
   ]
  },
  {
   "cell_type": "code",
   "execution_count": 5,
   "metadata": {
    "collapsed": true,
    "jupyter": {
     "outputs_hidden": true
    },
    "tags": []
   },
   "outputs": [
    {
     "name": "stdout",
     "output_type": "stream",
     "text": [
      "<class 'bs4.BeautifulSoup'>\n",
      "<!DOCTYPE html>\n",
      "<html>\n",
      " <head>\n",
      "  <meta charset=\"utf-8\"/>\n",
      "  <meta content=\"width=device-width, initial-scale=1\" name=\"viewport\"/>\n",
      "  <title>\n",
      "   看板 Boy-Girl 文章列表 - 批踢踢實業坊\n",
      "  </title>\n",
      "  <link href=\"//images.ptt.cc/bbs/v2.27/bbs-common.css\" rel=\"stylesheet\" type=\"text/css\"/>\n",
      "  <link href=\"//images.ptt.cc/bbs/v2.27/bbs-base.css\" media=\"screen\" rel=\"stylesheet\" type=\"text/css\"/>\n",
      "  <link href=\"//images.ptt.cc/bbs/v2.27/bbs-custom.css\" rel=\"stylesheet\" type=\"text/css\"/>\n",
      "  <link href=\"//images.ptt.cc/bbs/v2.27/pushstream.css\" media=\"screen\" rel=\"stylesheet\" type=\"text/css\"/>\n",
      "  <link href=\"//images.ptt.cc/bbs/v2.27/bbs-print.css\" media=\"print\" rel=\"stylesheet\" type=\"text/css\"/>\n",
      " </head>\n",
      " <body>\n",
      "  <div id=\"topbar-container\">\n",
      "   <div class=\"bbs-content\" id=\"topbar\">\n",
      "    <a href=\"/bbs/\" id=\"logo\">\n",
      "     批踢踢實業坊\n",
      "    </a>\n",
      "    <span>\n",
      "     ›\n",
      "    </span>\n",
      "    <a class=\"board\" href=\"/bbs/Boy-Girl/index.html\">\n",
      "     <span class=\"board-label\">\n",
      "      看板\n",
      "     </span>\n",
      "     Boy-Girl\n",
      "    </a>\n",
      "    <a class=\"right small\" href=\"/about.html\">\n",
      "     關於我們\n",
      "    </a>\n",
      "    <a class=\"right small\" href=\"/contact.html\">\n",
      "     聯絡資訊\n",
      "    </a>\n",
      "   </div>\n",
      "  </div>\n",
      "  <div id=\"main-container\">\n",
      "   <div id=\"action-bar-container\">\n",
      "    <div class=\"action-bar\">\n",
      "     <div class=\"btn-group btn-group-dir\">\n",
      "      <a class=\"btn selected\" href=\"/bbs/Boy-Girl/index.html\">\n",
      "       看板\n",
      "      </a>\n",
      "      <a class=\"btn\" href=\"/man/Boy-Girl/index.html\">\n",
      "       精華區\n",
      "      </a>\n",
      "     </div>\n",
      "     <div class=\"btn-group btn-group-paging\">\n",
      "      <a class=\"btn wide\" href=\"/bbs/Boy-Girl/index1.html\">\n",
      "       最舊\n",
      "      </a>\n",
      "      <a class=\"btn wide\" href=\"/bbs/Boy-Girl/index5303.html\">\n",
      "       ‹ 上頁\n",
      "      </a>\n",
      "      <a class=\"btn wide disabled\">\n",
      "       下頁 ›\n",
      "      </a>\n",
      "      <a class=\"btn wide\" href=\"/bbs/Boy-Girl/index.html\">\n",
      "       最新\n",
      "      </a>\n",
      "     </div>\n",
      "    </div>\n",
      "   </div>\n",
      "   <div class=\"r-list-container action-bar-margin bbs-screen\">\n",
      "    <div class=\"search-bar\">\n",
      "     <form action=\"search\" id=\"search-bar\" type=\"get\">\n",
      "      <input class=\"query\" name=\"q\" placeholder=\"搜尋文章⋯\" type=\"text\" value=\"\"/>\n",
      "     </form>\n",
      "    </div>\n",
      "    <div class=\"r-ent\">\n",
      "     <div class=\"nrec\">\n",
      "      <span class=\"hl f2\">\n",
      "       5\n",
      "      </span>\n",
      "     </div>\n",
      "     <div class=\"title\">\n",
      "      <a href=\"/bbs/Boy-Girl/M.1617846288.A.FD8.html\">\n",
      "       Re: [心情] 被將就的複雜心情\n",
      "      </a>\n",
      "     </div>\n",
      "     <div class=\"meta\">\n",
      "      <div class=\"author\">\n",
      "       salmouson\n",
      "      </div>\n",
      "      <div class=\"article-menu\">\n",
      "       <div class=\"trigger\">\n",
      "        ⋯\n",
      "       </div>\n",
      "       <div class=\"dropdown\">\n",
      "        <div class=\"item\">\n",
      "         <a href=\"/bbs/Boy-Girl/search?q=thread%3A%5B%E5%BF%83%E6%83%85%5D+%E8%A2%AB%E5%B0%87%E5%B0%B1%E7%9A%84%E8%A4%87%E9%9B%9C%E5%BF%83%E6%83%85\">\n",
      "          搜尋同標題文章\n",
      "         </a>\n",
      "        </div>\n",
      "        <div class=\"item\">\n",
      "         <a href=\"/bbs/Boy-Girl/search?q=author%3Asalmouson\">\n",
      "          搜尋看板內 salmouson 的文章\n",
      "         </a>\n",
      "        </div>\n",
      "       </div>\n",
      "      </div>\n",
      "      <div class=\"date\">\n",
      "       4/08\n",
      "      </div>\n",
      "      <div class=\"mark\">\n",
      "      </div>\n",
      "     </div>\n",
      "    </div>\n",
      "    <div class=\"r-ent\">\n",
      "     <div class=\"nrec\">\n",
      "     </div>\n",
      "     <div class=\"title\">\n",
      "      <a href=\"/bbs/Boy-Girl/M.1617848527.A.81C.html\">\n",
      "       Re: [討論] \"有感情經驗\"作為一種條件 有效嗎？\n",
      "      </a>\n",
      "     </div>\n",
      "     <div class=\"meta\">\n",
      "      <div class=\"author\">\n",
      "       sumade\n",
      "      </div>\n",
      "      <div class=\"article-menu\">\n",
      "       <div class=\"trigger\">\n",
      "        ⋯\n",
      "       </div>\n",
      "       <div class=\"dropdown\">\n",
      "        <div class=\"item\">\n",
      "         <a href=\"/bbs/Boy-Girl/search?q=thread%3A%5B%E8%A8%8E%E8%AB%96%5D+%22%E6%9C%89%E6%84%9F%E6%83%85%E7%B6%93%E9%A9%97%22%E4%BD%9C%E7%82%BA%E4%B8%80%E7%A8%AE%E6%A2%9D%E4%BB%B6+%E6%9C%89%E6%95%88%E5%97%8E%EF%BC%9F\">\n",
      "          搜尋同標題文章\n",
      "         </a>\n",
      "        </div>\n",
      "        <div class=\"item\">\n",
      "         <a href=\"/bbs/Boy-Girl/search?q=author%3Asumade\">\n",
      "          搜尋看板內 sumade 的文章\n",
      "         </a>\n",
      "        </div>\n",
      "       </div>\n",
      "      </div>\n",
      "      <div class=\"date\">\n",
      "       4/08\n",
      "      </div>\n",
      "      <div class=\"mark\">\n",
      "      </div>\n",
      "     </div>\n",
      "    </div>\n",
      "    <div class=\"r-ent\">\n",
      "     <div class=\"nrec\">\n",
      "      <span class=\"hl f2\">\n",
      "       7\n",
      "      </span>\n",
      "     </div>\n",
      "     <div class=\"title\">\n",
      "      <a href=\"/bbs/Boy-Girl/M.1617848543.A.787.html\">\n",
      "       Re: [心情] 被將就的複雜心情\n",
      "      </a>\n",
      "     </div>\n",
      "     <div class=\"meta\">\n",
      "      <div class=\"author\">\n",
      "       gymfantasy\n",
      "      </div>\n",
      "      <div class=\"article-menu\">\n",
      "       <div class=\"trigger\">\n",
      "        ⋯\n",
      "       </div>\n",
      "       <div class=\"dropdown\">\n",
      "        <div class=\"item\">\n",
      "         <a href=\"/bbs/Boy-Girl/search?q=thread%3A%5B%E5%BF%83%E6%83%85%5D+%E8%A2%AB%E5%B0%87%E5%B0%B1%E7%9A%84%E8%A4%87%E9%9B%9C%E5%BF%83%E6%83%85\">\n",
      "          搜尋同標題文章\n",
      "         </a>\n",
      "        </div>\n",
      "        <div class=\"item\">\n",
      "         <a href=\"/bbs/Boy-Girl/search?q=author%3Agymfantasy\">\n",
      "          搜尋看板內 gymfantasy 的文章\n",
      "         </a>\n",
      "        </div>\n",
      "       </div>\n",
      "      </div>\n",
      "      <div class=\"date\">\n",
      "       4/08\n",
      "      </div>\n",
      "      <div class=\"mark\">\n",
      "      </div>\n",
      "     </div>\n",
      "    </div>\n",
      "    <div class=\"r-ent\">\n",
      "     <div class=\"nrec\">\n",
      "      <span class=\"hl f2\">\n",
      "       4\n",
      "      </span>\n",
      "     </div>\n",
      "     <div class=\"title\">\n",
      "      <a href=\"/bbs/Boy-Girl/M.1617850539.A.EE0.html\">\n",
      "       該怎麼清醒\n",
      "      </a>\n",
      "     </div>\n",
      "     <div class=\"meta\">\n",
      "      <div class=\"author\">\n",
      "       hanbangbang\n",
      "      </div>\n",
      "      <div class=\"article-menu\">\n",
      "       <div class=\"trigger\">\n",
      "        ⋯\n",
      "       </div>\n",
      "       <div class=\"dropdown\">\n",
      "        <div class=\"item\">\n",
      "         <a href=\"/bbs/Boy-Girl/search?q=thread%3A%E8%A9%B2%E6%80%8E%E9%BA%BC%E6%B8%85%E9%86%92\">\n",
      "          搜尋同標題文章\n",
      "         </a>\n",
      "        </div>\n",
      "        <div class=\"item\">\n",
      "         <a href=\"/bbs/Boy-Girl/search?q=author%3Ahanbangbang\">\n",
      "          搜尋看板內 hanbangbang 的文章\n",
      "         </a>\n",
      "        </div>\n",
      "       </div>\n",
      "      </div>\n",
      "      <div class=\"date\">\n",
      "       4/08\n",
      "      </div>\n",
      "      <div class=\"mark\">\n",
      "      </div>\n",
      "     </div>\n",
      "    </div>\n",
      "    <div class=\"r-ent\">\n",
      "     <div class=\"nrec\">\n",
      "     </div>\n",
      "     <div class=\"title\">\n",
      "      <a href=\"/bbs/Boy-Girl/M.1617853388.A.8B2.html\">\n",
      "       Re: [心情] 被將就的複雜心情\n",
      "      </a>\n",
      "     </div>\n",
      "     <div class=\"meta\">\n",
      "      <div class=\"author\">\n",
      "       sweetsss111\n",
      "      </div>\n",
      "      <div class=\"article-menu\">\n",
      "       <div class=\"trigger\">\n",
      "        ⋯\n",
      "       </div>\n",
      "       <div class=\"dropdown\">\n",
      "        <div class=\"item\">\n",
      "         <a href=\"/bbs/Boy-Girl/search?q=thread%3A%5B%E5%BF%83%E6%83%85%5D+%E8%A2%AB%E5%B0%87%E5%B0%B1%E7%9A%84%E8%A4%87%E9%9B%9C%E5%BF%83%E6%83%85\">\n",
      "          搜尋同標題文章\n",
      "         </a>\n",
      "        </div>\n",
      "        <div class=\"item\">\n",
      "         <a href=\"/bbs/Boy-Girl/search?q=author%3Asweetsss111\">\n",
      "          搜尋看板內 sweetsss111 的文章\n",
      "         </a>\n",
      "        </div>\n",
      "       </div>\n",
      "      </div>\n",
      "      <div class=\"date\">\n",
      "       4/08\n",
      "      </div>\n",
      "      <div class=\"mark\">\n",
      "      </div>\n",
      "     </div>\n",
      "    </div>\n",
      "    <div class=\"r-ent\">\n",
      "     <div class=\"nrec\">\n",
      "      <span class=\"hl f2\">\n",
      "       1\n",
      "      </span>\n",
      "     </div>\n",
      "     <div class=\"title\">\n",
      "      <a href=\"/bbs/Boy-Girl/M.1617854744.A.907.html\">\n",
      "       Re: [心情] 被將就的複雜心情\n",
      "      </a>\n",
      "     </div>\n",
      "     <div class=\"meta\">\n",
      "      <div class=\"author\">\n",
      "       lacoste216\n",
      "      </div>\n",
      "      <div class=\"article-menu\">\n",
      "       <div class=\"trigger\">\n",
      "        ⋯\n",
      "       </div>\n",
      "       <div class=\"dropdown\">\n",
      "        <div class=\"item\">\n",
      "         <a href=\"/bbs/Boy-Girl/search?q=thread%3A%5B%E5%BF%83%E6%83%85%5D+%E8%A2%AB%E5%B0%87%E5%B0%B1%E7%9A%84%E8%A4%87%E9%9B%9C%E5%BF%83%E6%83%85\">\n",
      "          搜尋同標題文章\n",
      "         </a>\n",
      "        </div>\n",
      "        <div class=\"item\">\n",
      "         <a href=\"/bbs/Boy-Girl/search?q=author%3Alacoste216\">\n",
      "          搜尋看板內 lacoste216 的文章\n",
      "         </a>\n",
      "        </div>\n",
      "       </div>\n",
      "      </div>\n",
      "      <div class=\"date\">\n",
      "       4/08\n",
      "      </div>\n",
      "      <div class=\"mark\">\n",
      "      </div>\n",
      "     </div>\n",
      "    </div>\n",
      "    <div class=\"r-list-sep\">\n",
      "    </div>\n",
      "    <div class=\"r-ent\">\n",
      "     <div class=\"nrec\">\n",
      "      <span class=\"hl f2\">\n",
      "       6\n",
      "      </span>\n",
      "     </div>\n",
      "     <div class=\"title\">\n",
      "      <a href=\"/bbs/Boy-Girl/M.1399818891.A.D72.html\">\n",
      "       [公告] 關於新制板規說明（必讀）\n",
      "      </a>\n",
      "     </div>\n",
      "     <div class=\"meta\">\n",
      "      <div class=\"author\">\n",
      "       snda\n",
      "      </div>\n",
      "      <div class=\"article-menu\">\n",
      "       <div class=\"trigger\">\n",
      "        ⋯\n",
      "       </div>\n",
      "       <div class=\"dropdown\">\n",
      "        <div class=\"item\">\n",
      "         <a href=\"/bbs/Boy-Girl/search?q=thread%3A%5B%E5%85%AC%E5%91%8A%5D+%E9%97%9C%E6%96%BC%E6%96%B0%E5%88%B6%E6%9D%BF%E8%A6%8F%E8%AA%AA%E6%98%8E%EF%BC%88%E5%BF%85%E8%AE%80%EF%BC%89\">\n",
      "          搜尋同標題文章\n",
      "         </a>\n",
      "        </div>\n",
      "        <div class=\"item\">\n",
      "         <a href=\"/bbs/Boy-Girl/search?q=author%3Asnda\">\n",
      "          搜尋看板內 snda 的文章\n",
      "         </a>\n",
      "        </div>\n",
      "       </div>\n",
      "      </div>\n",
      "      <div class=\"date\">\n",
      "       5/11\n",
      "      </div>\n",
      "      <div class=\"mark\">\n",
      "       !\n",
      "      </div>\n",
      "     </div>\n",
      "    </div>\n",
      "    <div class=\"r-ent\">\n",
      "     <div class=\"nrec\">\n",
      "     </div>\n",
      "     <div class=\"title\">\n",
      "      <a href=\"/bbs/Boy-Girl/M.1554727003.A.986.html\">\n",
      "       [公告] 檢舉格式教學\n",
      "      </a>\n",
      "     </div>\n",
      "     <div class=\"meta\">\n",
      "      <div class=\"author\">\n",
      "       ChenDao\n",
      "      </div>\n",
      "      <div class=\"article-menu\">\n",
      "       <div class=\"trigger\">\n",
      "        ⋯\n",
      "       </div>\n",
      "       <div class=\"dropdown\">\n",
      "        <div class=\"item\">\n",
      "         <a href=\"/bbs/Boy-Girl/search?q=thread%3A%5B%E5%85%AC%E5%91%8A%5D+%E6%AA%A2%E8%88%89%E6%A0%BC%E5%BC%8F%E6%95%99%E5%AD%B8\">\n",
      "          搜尋同標題文章\n",
      "         </a>\n",
      "        </div>\n",
      "        <div class=\"item\">\n",
      "         <a href=\"/bbs/Boy-Girl/search?q=author%3AChenDao\">\n",
      "          搜尋看板內 ChenDao 的文章\n",
      "         </a>\n",
      "        </div>\n",
      "       </div>\n",
      "      </div>\n",
      "      <div class=\"date\">\n",
      "       4/08\n",
      "      </div>\n",
      "      <div class=\"mark\">\n",
      "       !\n",
      "      </div>\n",
      "     </div>\n",
      "    </div>\n",
      "    <div class=\"r-ent\">\n",
      "     <div class=\"nrec\">\n",
      "     </div>\n",
      "     <div class=\"title\">\n",
      "      <a href=\"/bbs/Boy-Girl/M.1560802697.A.8E6.html\">\n",
      "       [公告] 有關於\"問卷文申請\"\n",
      "      </a>\n",
      "     </div>\n",
      "     <div class=\"meta\">\n",
      "      <div class=\"author\">\n",
      "       ChenDao\n",
      "      </div>\n",
      "      <div class=\"article-menu\">\n",
      "       <div class=\"trigger\">\n",
      "        ⋯\n",
      "       </div>\n",
      "       <div class=\"dropdown\">\n",
      "        <div class=\"item\">\n",
      "         <a href=\"/bbs/Boy-Girl/search?q=thread%3A%5B%E5%85%AC%E5%91%8A%5D+%E6%9C%89%E9%97%9C%E6%96%BC%22%E5%95%8F%E5%8D%B7%E6%96%87%E7%94%B3%E8%AB%8B%22\">\n",
      "          搜尋同標題文章\n",
      "         </a>\n",
      "        </div>\n",
      "        <div class=\"item\">\n",
      "         <a href=\"/bbs/Boy-Girl/search?q=author%3AChenDao\">\n",
      "          搜尋看板內 ChenDao 的文章\n",
      "         </a>\n",
      "        </div>\n",
      "       </div>\n",
      "      </div>\n",
      "      <div class=\"date\">\n",
      "       6/18\n",
      "      </div>\n",
      "      <div class=\"mark\">\n",
      "       !\n",
      "      </div>\n",
      "     </div>\n",
      "    </div>\n",
      "    <div class=\"r-ent\">\n",
      "     <div class=\"nrec\">\n",
      "     </div>\n",
      "     <div class=\"title\">\n",
      "      <a href=\"/bbs/Boy-Girl/M.1565730811.A.BDC.html\">\n",
      "       [公告] 男女板板規\n",
      "      </a>\n",
      "     </div>\n",
      "     <div class=\"meta\">\n",
      "      <div class=\"author\">\n",
      "       ChenDao\n",
      "      </div>\n",
      "      <div class=\"article-menu\">\n",
      "       <div class=\"trigger\">\n",
      "        ⋯\n",
      "       </div>\n",
      "       <div class=\"dropdown\">\n",
      "        <div class=\"item\">\n",
      "         <a href=\"/bbs/Boy-Girl/search?q=thread%3A%5B%E5%85%AC%E5%91%8A%5D+%E7%94%B7%E5%A5%B3%E6%9D%BF%E6%9D%BF%E8%A6%8F\">\n",
      "          搜尋同標題文章\n",
      "         </a>\n",
      "        </div>\n",
      "        <div class=\"item\">\n",
      "         <a href=\"/bbs/Boy-Girl/search?q=author%3AChenDao\">\n",
      "          搜尋看板內 ChenDao 的文章\n",
      "         </a>\n",
      "        </div>\n",
      "       </div>\n",
      "      </div>\n",
      "      <div class=\"date\">\n",
      "       8/14\n",
      "      </div>\n",
      "      <div class=\"mark\">\n",
      "       !\n",
      "      </div>\n",
      "     </div>\n",
      "    </div>\n",
      "    <div class=\"r-ent\">\n",
      "     <div class=\"nrec\">\n",
      "      <span class=\"hl f3\">\n",
      "       11\n",
      "      </span>\n",
      "     </div>\n",
      "     <div class=\"title\">\n",
      "      <a href=\"/bbs/Boy-Girl/M.1612859347.A.C7A.html\">\n",
      "       [公告] 板務公告\n",
      "      </a>\n",
      "     </div>\n",
      "     <div class=\"meta\">\n",
      "      <div class=\"author\">\n",
      "       ChenDao\n",
      "      </div>\n",
      "      <div class=\"article-menu\">\n",
      "       <div class=\"trigger\">\n",
      "        ⋯\n",
      "       </div>\n",
      "       <div class=\"dropdown\">\n",
      "        <div class=\"item\">\n",
      "         <a href=\"/bbs/Boy-Girl/search?q=thread%3A%5B%E5%85%AC%E5%91%8A%5D+%E6%9D%BF%E5%8B%99%E5%85%AC%E5%91%8A\">\n",
      "          搜尋同標題文章\n",
      "         </a>\n",
      "        </div>\n",
      "        <div class=\"item\">\n",
      "         <a href=\"/bbs/Boy-Girl/search?q=author%3AChenDao\">\n",
      "          搜尋看板內 ChenDao 的文章\n",
      "         </a>\n",
      "        </div>\n",
      "       </div>\n",
      "      </div>\n",
      "      <div class=\"date\">\n",
      "       2/09\n",
      "      </div>\n",
      "      <div class=\"mark\">\n",
      "       M\n",
      "      </div>\n",
      "     </div>\n",
      "    </div>\n",
      "   </div>\n",
      "  </div>\n",
      "  <script>\n",
      "   (function(i,s,o,g,r,a,m){i['GoogleAnalyticsObject']=r;i[r]=i[r]||function(){\n",
      "  (i[r].q=i[r].q||[]).push(arguments)},i[r].l=1*new Date();a=s.createElement(o),\n",
      "  m=s.getElementsByTagName(o)[0];a.async=1;a.src=g;m.parentNode.insertBefore(a,m)\n",
      "  })(window,document,'script','https://www.google-analytics.com/analytics.js','ga');\n",
      "\n",
      "  ga('create', 'UA-32365737-1', {\n",
      "    cookieDomain: 'ptt.cc',\n",
      "    legacyCookieDomain: 'ptt.cc'\n",
      "  });\n",
      "  ga('send', 'pageview');\n",
      "  </script>\n",
      "  <script src=\"//ajax.googleapis.com/ajax/libs/jquery/2.1.1/jquery.min.js\">\n",
      "  </script>\n",
      "  <script src=\"//images.ptt.cc/bbs/v2.27/bbs.js\">\n",
      "  </script>\n",
      " </body>\n",
      "</html>\n",
      "\n"
     ]
    }
   ],
   "source": [
    "soup = BeautifulSoup(response.text, 'html.parser')\n",
    "print(type(soup))\n",
    "print(soup.prettify())"
   ]
  },
  {
   "cell_type": "markdown",
   "metadata": {},
   "source": [
    "## Traversing an html file by soup"
   ]
  },
  {
   "cell_type": "code",
   "execution_count": 6,
   "metadata": {},
   "outputs": [
    {
     "name": "stdout",
     "output_type": "stream",
     "text": [
      "<title>看板 Boy-Girl 文章列表 - 批踢踢實業坊</title>\n",
      "title\n",
      "看板 Boy-Girl 文章列表 - 批踢踢實業坊\n",
      "head\n"
     ]
    }
   ],
   "source": [
    "print(soup.title)\n",
    "print(soup.title.name)\n",
    "print(soup.title.string)\n",
    "print(soup.title.parent.name)"
   ]
  },
  {
   "cell_type": "markdown",
   "metadata": {},
   "source": [
    "## Finding elements: finding all links in the doc"
   ]
  },
  {
   "cell_type": "code",
   "execution_count": 9,
   "metadata": {},
   "outputs": [
    {
     "name": "stdout",
     "output_type": "stream",
     "text": [
      "<class 'bs4.element.ResultSet'>\n",
      "43\n"
     ]
    },
    {
     "data": {
      "text/plain": [
       "[<a href=\"/bbs/\" id=\"logo\">批踢踢實業坊</a>,\n",
       " <a class=\"board\" href=\"/bbs/Boy-Girl/index.html\"><span class=\"board-label\">看板 </span>Boy-Girl</a>,\n",
       " <a class=\"right small\" href=\"/about.html\">關於我們</a>,\n",
       " <a class=\"right small\" href=\"/contact.html\">聯絡資訊</a>,\n",
       " <a class=\"btn selected\" href=\"/bbs/Boy-Girl/index.html\">看板</a>]"
      ]
     },
     "execution_count": 9,
     "metadata": {},
     "output_type": "execute_result"
    }
   ],
   "source": [
    "print(type(soup.find_all(\"a\")))\n",
    "print(len(soup.find_all(\"a\")))\n",
    "soup.find_all(\"a\")[:5]"
   ]
  },
  {
   "cell_type": "markdown",
   "metadata": {},
   "source": [
    "## Extracting element content and attribute"
   ]
  },
  {
   "cell_type": "code",
   "execution_count": 54,
   "metadata": {},
   "outputs": [
    {
     "name": "stdout",
     "output_type": "stream",
     "text": [
      "<a href=\"/bbs/\" id=\"logo\">批踢踢實業坊</a>\n",
      "批踢踢實業坊\n",
      "/bbs/\n"
     ]
    }
   ],
   "source": [
    "nodes_a = soup.find_all('a')\n",
    "\n",
    "# print the first found nodes\n",
    "print(nodes_a[0])\n",
    "\n",
    "# print the text of the 1st node\n",
    "print(nodes_a[0].text)\n",
    "\n",
    "# print the `href` attribute of the 1st node\n",
    "print(nodes_a[0].get('href'))"
   ]
  },
  {
   "cell_type": "code",
   "execution_count": 55,
   "metadata": {},
   "outputs": [
    {
     "name": "stdout",
     "output_type": "stream",
     "text": [
      "/bbs/\n",
      "/bbs/Boy-Girl/index.html\n",
      "/about.html\n",
      "/contact.html\n",
      "/bbs/Boy-Girl/index.html\n"
     ]
    }
   ],
   "source": [
    "# print all link\n",
    "for link in soup.find_all('a')[:5]:\n",
    "    print(link.get('href'))"
   ]
  },
  {
   "cell_type": "markdown",
   "metadata": {},
   "source": [
    "## append() links into a list"
   ]
  },
  {
   "cell_type": "code",
   "execution_count": 13,
   "metadata": {},
   "outputs": [
    {
     "name": "stdout",
     "output_type": "stream",
     "text": [
      "43\n"
     ]
    }
   ],
   "source": [
    "links = []\n",
    "for link in soup.find_all('a'):\n",
    "    links.append(link.get('href'))\n",
    "print(len(links))"
   ]
  },
  {
   "cell_type": "markdown",
   "metadata": {},
   "source": [
    "# Scraping PTT I: Get links from the first page\n",
    "* 注意這行code的class的寫法`for link in soup.find_all(class_ = \"r-ent\"):`\n",
    "* `str.strip()`可以幫你把一個字串前後的空白拿掉。\n",
    "```\n",
    "astring = \"     123123   \\n123123     \"\n",
    "astring.strip()\n",
    "[out]:\"123123   \\n123123\"\n",
    "```\n",
    "\n"
   ]
  },
  {
   "cell_type": "markdown",
   "metadata": {},
   "source": [
    "## Get element by specific class\n",
    "- `.find_all(class_ = '...')` to specify class\n",
    "- `.select(css_selector)` to use css selector"
   ]
  },
  {
   "cell_type": "code",
   "execution_count": 23,
   "metadata": {},
   "outputs": [],
   "source": [
    "# Just re-run this\n",
    "url = 'https://www.ptt.cc/bbs/Boy-Girl/index.html'\n",
    "response = requests.get(url, timeout=(2, 3))\n",
    "soup = BeautifulSoup(response.text, 'html.parser')"
   ]
  },
  {
   "cell_type": "code",
   "execution_count": 25,
   "metadata": {},
   "outputs": [
    {
     "name": "stdout",
     "output_type": "stream",
     "text": [
      "<div class=\"r-ent\">\n",
      " <div class=\"nrec\">\n",
      "  <span class=\"hl f2\">\n",
      "   5\n",
      "  </span>\n",
      " </div>\n",
      " <div class=\"title\">\n",
      "  <a href=\"/bbs/Boy-Girl/M.1617846288.A.FD8.html\">\n",
      "   Re: [心情] 被將就的複雜心情\n",
      "  </a>\n",
      " </div>\n",
      " <div class=\"meta\">\n",
      "  <div class=\"author\">\n",
      "   salmouson\n",
      "  </div>\n",
      "  <div class=\"article-menu\">\n",
      "   <div class=\"trigger\">\n",
      "    ⋯\n",
      "   </div>\n",
      "   <div class=\"dropdown\">\n",
      "    <div class=\"item\">\n",
      "     <a href=\"/bbs/Boy-Girl/search?q=thread%3A%5B%E5%BF%83%E6%83%85%5D+%E8%A2%AB%E5%B0%87%E5%B0%B1%E7%9A%84%E8%A4%87%E9%9B%9C%E5%BF%83%E6%83%85\">\n",
      "      搜尋同標題文章\n",
      "     </a>\n",
      "    </div>\n",
      "    <div class=\"item\">\n",
      "     <a href=\"/bbs/Boy-Girl/search?q=author%3Asalmouson\">\n",
      "      搜尋看板內 salmouson 的文章\n",
      "     </a>\n",
      "    </div>\n",
      "   </div>\n",
      "  </div>\n",
      "  <div class=\"date\">\n",
      "   4/08\n",
      "  </div>\n",
      "  <div class=\"mark\">\n",
      "  </div>\n",
      " </div>\n",
      "</div>\n",
      "\n",
      "--------------------------------------------------------------------------------\n",
      "<div class=\"r-ent\">\n",
      " <div class=\"nrec\">\n",
      " </div>\n",
      " <div class=\"title\">\n",
      "  <a href=\"/bbs/Boy-Girl/M.1617848527.A.81C.html\">\n",
      "   Re: [討論] \"有感情經驗\"作為一種條件 有效嗎？\n",
      "  </a>\n",
      " </div>\n",
      " <div class=\"meta\">\n",
      "  <div class=\"author\">\n",
      "   sumade\n",
      "  </div>\n",
      "  <div class=\"article-menu\">\n",
      "   <div class=\"trigger\">\n",
      "    ⋯\n",
      "   </div>\n",
      "   <div class=\"dropdown\">\n",
      "    <div class=\"item\">\n",
      "     <a href=\"/bbs/Boy-Girl/search?q=thread%3A%5B%E8%A8%8E%E8%AB%96%5D+%22%E6%9C%89%E6%84%9F%E6%83%85%E7%B6%93%E9%A9%97%22%E4%BD%9C%E7%82%BA%E4%B8%80%E7%A8%AE%E6%A2%9D%E4%BB%B6+%E6%9C%89%E6%95%88%E5%97%8E%EF%BC%9F\">\n",
      "      搜尋同標題文章\n",
      "     </a>\n",
      "    </div>\n",
      "    <div class=\"item\">\n",
      "     <a href=\"/bbs/Boy-Girl/search?q=author%3Asumade\">\n",
      "      搜尋看板內 sumade 的文章\n",
      "     </a>\n",
      "    </div>\n",
      "   </div>\n",
      "  </div>\n",
      "  <div class=\"date\">\n",
      "   4/08\n",
      "  </div>\n",
      "  <div class=\"mark\">\n",
      "  </div>\n",
      " </div>\n",
      "</div>\n",
      "\n",
      "--------------------------------------------------------------------------------\n",
      "<div class=\"r-ent\">\n",
      " <div class=\"nrec\">\n",
      "  <span class=\"hl f2\">\n",
      "   8\n",
      "  </span>\n",
      " </div>\n",
      " <div class=\"title\">\n",
      "  <a href=\"/bbs/Boy-Girl/M.1617848543.A.787.html\">\n",
      "   Re: [心情] 被將就的複雜心情\n",
      "  </a>\n",
      " </div>\n",
      " <div class=\"meta\">\n",
      "  <div class=\"author\">\n",
      "   gymfantasy\n",
      "  </div>\n",
      "  <div class=\"article-menu\">\n",
      "   <div class=\"trigger\">\n",
      "    ⋯\n",
      "   </div>\n",
      "   <div class=\"dropdown\">\n",
      "    <div class=\"item\">\n",
      "     <a href=\"/bbs/Boy-Girl/search?q=thread%3A%5B%E5%BF%83%E6%83%85%5D+%E8%A2%AB%E5%B0%87%E5%B0%B1%E7%9A%84%E8%A4%87%E9%9B%9C%E5%BF%83%E6%83%85\">\n",
      "      搜尋同標題文章\n",
      "     </a>\n",
      "    </div>\n",
      "    <div class=\"item\">\n",
      "     <a href=\"/bbs/Boy-Girl/search?q=author%3Agymfantasy\">\n",
      "      搜尋看板內 gymfantasy 的文章\n",
      "     </a>\n",
      "    </div>\n",
      "   </div>\n",
      "  </div>\n",
      "  <div class=\"date\">\n",
      "   4/08\n",
      "  </div>\n",
      "  <div class=\"mark\">\n",
      "  </div>\n",
      " </div>\n",
      "</div>\n",
      "\n",
      "--------------------------------------------------------------------------------\n"
     ]
    }
   ],
   "source": [
    "for div in soup.find_all(class_ = \"r-ent\")[:3]:\n",
    "    print(div.prettify())\n",
    "    print(\"-\"*80)"
   ]
  },
  {
   "cell_type": "code",
   "execution_count": 56,
   "metadata": {},
   "outputs": [
    {
     "name": "stdout",
     "output_type": "stream",
     "text": [
      "13Re: [討論] 洗腦男生年紀大有價值的用意是？icelaw⋯搜尋同標題文章搜尋看板內 icelaw 的文章4/02\n",
      "--------------------------------------------------------------------------------\n",
      "33[討論] 所謂一般男生的定義??Xavierk⋯搜尋同標題文章搜尋看板內 Xavierk 的文章4/02\n",
      "--------------------------------------------------------------------------------\n",
      "14Re: [討論] 所謂一般男生的定義??YYC042⋯搜尋同標題文章搜尋看板內 YYC042 的文章4/02\n",
      "--------------------------------------------------------------------------------\n",
      "23Re: [討論] 所謂一般男生的定義??wifeishonoka⋯搜尋同標題文章搜尋看板內 wifeishonoka 的文章4/02\n",
      "--------------------------------------------------------------------------------\n",
      "Re: [討論] 鼓吹女生年紀大沒價值的目的是？solumate⋯搜尋同標題文章搜尋看板內 solumate 的文章4/02\n",
      "--------------------------------------------------------------------------------\n",
      "爆[心情] 看到火車出軌新聞難過到什麼都不想做很誇liner1989⋯搜尋同標題文章搜尋看板內 liner1989 的文章4/02\n",
      "--------------------------------------------------------------------------------\n",
      "12Re: [討論] 所謂一般男生的定義??MomHawkDog⋯搜尋同標題文章搜尋看板內 MomHawkDog 的文章4/02\n",
      "--------------------------------------------------------------------------------\n",
      "25[討論] 鼓吹恢復傳統父權，對男女雙方真的好嗎？yahoody⋯搜尋同標題文章搜尋看板內 yahoody 的文章4/02\n",
      "--------------------------------------------------------------------------------\n",
      "14Re: [討論] 鼓吹恢復傳統父權，對男女雙方真的好嗎？season2011⋯搜尋同標題文章搜尋看板內 season2011 的文章4/02\n",
      "--------------------------------------------------------------------------------\n",
      "3Re: [求助] 男女朋友買房？我好無助...pauljet⋯搜尋同標題文章搜尋看板內 pauljet 的文章4/02\n",
      "--------------------------------------------------------------------------------\n"
     ]
    }
   ],
   "source": [
    "# stripping white space before and after text\n",
    "# node.get_text(strip = True)\n",
    "for div in soup.find_all(class_ = \"r-ent\")[:10]:\n",
    "    print(div.get_text(strip = True))\n",
    "    print(\"-\"*80)"
   ]
  },
  {
   "cell_type": "code",
   "execution_count": 29,
   "metadata": {},
   "outputs": [
    {
     "name": "stdout",
     "output_type": "stream",
     "text": [
      "5\n",
      "4/08\n",
      "salmouson\n",
      "Re: [心情] 被將就的複雜心情\n",
      "/bbs/Boy-Girl/M.1617846288.A.FD8.html\n",
      "--------------------------------------------------------------------------------\n",
      "\n",
      "4/08\n",
      "sumade\n",
      "Re: [討論] \"有感情經驗\"作為一種條件 有效嗎？\n",
      "/bbs/Boy-Girl/M.1617848527.A.81C.html\n",
      "--------------------------------------------------------------------------------\n",
      "8\n",
      "4/08\n",
      "gymfantasy\n",
      "Re: [心情] 被將就的複雜心情\n",
      "/bbs/Boy-Girl/M.1617848543.A.787.html\n",
      "--------------------------------------------------------------------------------\n",
      "5\n",
      "4/08\n",
      "hanbangbang\n",
      "該怎麼清醒\n",
      "/bbs/Boy-Girl/M.1617850539.A.EE0.html\n",
      "--------------------------------------------------------------------------------\n",
      "\n",
      "4/08\n",
      "sweetsss111\n",
      "Re: [心情] 被將就的複雜心情\n",
      "/bbs/Boy-Girl/M.1617853388.A.8B2.html\n",
      "--------------------------------------------------------------------------------\n"
     ]
    }
   ],
   "source": [
    "for div in soup.find_all(class_ = \"r-ent\")[:5]:\n",
    "    # YOUR CODE GOES FROM HERE\n",
    "    \n",
    "    \n",
    "    \n",
    "    \n",
    "    print(\"-\"*80)"
   ]
  },
  {
   "cell_type": "markdown",
   "metadata": {},
   "source": [
    "## Using try and except to handle exception"
   ]
  },
  {
   "cell_type": "code",
   "execution_count": 30,
   "metadata": {},
   "outputs": [
    {
     "name": "stdout",
     "output_type": "stream",
     "text": [
      "Re: [心情] 被將就的複雜心情\n",
      "/bbs/Boy-Girl/M.1617846288.A.FD8.html\n",
      "Re: [討論] \"有感情經驗\"作為一種條件 有效嗎？\n",
      "/bbs/Boy-Girl/M.1617848527.A.81C.html\n",
      "Re: [心情] 被將就的複雜心情\n",
      "/bbs/Boy-Girl/M.1617848543.A.787.html\n"
     ]
    }
   ],
   "source": [
    "url = 'https://www.ptt.cc/bbs/Boy-Girl/index.html'\n",
    "response = requests.get(url, timeout = (1, 2))\n",
    "soup = BeautifulSoup(response.text, 'html.parser')\n",
    "\n",
    "for div in soup.find_all(class_ = \"r-ent\")[:3]:\n",
    "    print(div.find(class_=\"title\").text.strip())\n",
    "    try:\n",
    "        print(div.find(class_='title').a['href'])\n",
    "    except:\n",
    "        print(\"The Page was removed\")"
   ]
  },
  {
   "cell_type": "markdown",
   "metadata": {},
   "source": [
    "## Add the prefix url to each url"
   ]
  },
  {
   "cell_type": "code",
   "execution_count": 32,
   "metadata": {},
   "outputs": [
    {
     "name": "stdout",
     "output_type": "stream",
     "text": [
      "Re: [心情] 被將就的複雜心情\n",
      "https://www.ptt.cc/bbs/Boy-Girl/M.1617846288.A.FD8.html\n",
      "Re: [討論] \"有感情經驗\"作為一種條件 有效嗎？\n",
      "https://www.ptt.cc/bbs/Boy-Girl/M.1617848527.A.81C.html\n",
      "Re: [心情] 被將就的複雜心情\n",
      "https://www.ptt.cc/bbs/Boy-Girl/M.1617848543.A.787.html\n",
      "該怎麼清醒\n",
      "https://www.ptt.cc/bbs/Boy-Girl/M.1617850539.A.EE0.html\n",
      "Re: [心情] 被將就的複雜心情\n",
      "https://www.ptt.cc/bbs/Boy-Girl/M.1617853388.A.8B2.html\n",
      "Re: [心情] 被將就的複雜心情\n",
      "https://www.ptt.cc/bbs/Boy-Girl/M.1617854744.A.907.html\n",
      "[公告] 關於新制板規說明（必讀）\n",
      "https://www.ptt.cc/bbs/Boy-Girl/M.1399818891.A.D72.html\n",
      "[公告] 檢舉格式教學\n",
      "https://www.ptt.cc/bbs/Boy-Girl/M.1554727003.A.986.html\n",
      "[公告] 有關於\"問卷文申請\"\n",
      "https://www.ptt.cc/bbs/Boy-Girl/M.1560802697.A.8E6.html\n",
      "[公告] 男女板板規\n",
      "https://www.ptt.cc/bbs/Boy-Girl/M.1565730811.A.BDC.html\n",
      "[公告] 板務公告\n",
      "https://www.ptt.cc/bbs/Boy-Girl/M.1612859347.A.C7A.html\n"
     ]
    }
   ],
   "source": [
    "pre = 'https://www.ptt.cc'\n",
    "url = 'https://www.ptt.cc/bbs/Boy-Girl/index.html'\n",
    "response = requests.get(url, timeout=(2, 3))\n",
    "soup = BeautifulSoup(response.text, 'html.parser')\n",
    "for div in soup.find_all(class_ = \"r-ent\"):\n",
    "    print(div.find(class_=\"title\").text.strip())\n",
    "    try:\n",
    "        print(pre + div.find(class_='title').a['href'])\n",
    "    except:\n",
    "        pass"
   ]
  },
  {
   "cell_type": "markdown",
   "metadata": {},
   "source": [
    "## Just append each scrped url to a list"
   ]
  },
  {
   "cell_type": "code",
   "execution_count": 33,
   "metadata": {},
   "outputs": [
    {
     "name": "stdout",
     "output_type": "stream",
     "text": [
      "11\n"
     ]
    }
   ],
   "source": [
    "links = []\n",
    "pre = 'https://www.ptt.cc'\n",
    "\n",
    "url = 'https://www.ptt.cc/bbs/Boy-Girl/index.html'\n",
    "response = requests.get(url, timeout=(2, 3))\n",
    "soup = BeautifulSoup(response.text, 'html.parser')\n",
    "\n",
    "for div in soup.find_all(class_ = \"r-ent\"):\n",
    "    try:\n",
    "        links.append(pre + div.find(class_='title').a['href'])\n",
    "    except:\n",
    "        pass\n",
    "print(len(links))"
   ]
  },
  {
   "cell_type": "markdown",
   "metadata": {},
   "source": [
    "# Get more links from more pages\n",
    "```\n",
    "https://www.ptt.cc/bbs/Boy-Girl/M.1463279135.A.825.html\n",
    "https://www.ptt.cc/bbs/Boy-Girl/M.1463280694.A.659.html\n",
    "https://www.ptt.cc/bbs/Boy-Girl/M.1463280951.A.42C.html\n",
    "https://www.ptt.cc/bbs/Boy-Girl/M.1463281950.A.094.html\n",
    "https://www.ptt.cc/bbs/Boy-Girl/M.1463281956.A.CE1.html\n",
    "https://www.ptt.cc/bbs/Boy-Girl/M.1463286737.A.ECC.html\n",
    "...\n",
    "```"
   ]
  },
  {
   "cell_type": "code",
   "execution_count": 53,
   "metadata": {
    "tags": []
   },
   "outputs": [
    {
     "name": "stdout",
     "output_type": "stream",
     "text": [
      "5303 \t 16\n",
      "5302 \t 31\n",
      "5301 \t 49\n",
      "5300 \t 66\n",
      "5299 \t 79\n",
      "5298 \t 94\n",
      "5297 \t 107\n",
      "5296 \t 125\n",
      "5295 \t 145\n",
      "5294 \t 165\n"
     ]
    }
   ],
   "source": [
    "# YOUR CODE GOES FROM HERE\n",
    "\n",
    "\n",
    "\n",
    "\n",
    "\n",
    "\n",
    "\n",
    "\n",
    "\n",
    "\n",
    "\n"
   ]
  },
  {
   "cell_type": "markdown",
   "metadata": {},
   "source": [
    "## Notes: break, continue, and pass\n",
    "* `break`: 符合條件的時候，就跳出迴圈，別再執行了。\n",
    "* `continue`: 符合條件的時候，就不要執行這一圈了，接下去執行下一圈\n",
    "* `pass`: 不做任何事"
   ]
  },
  {
   "cell_type": "markdown",
   "metadata": {},
   "source": [
    "# Getting post content for each post link\n",
    "* Beautifulsoup has two ways to detect elements and its attributes\n",
    "    * `soup.find()`, `soup.find_all()`\n",
    "    * `soup.select()` <-- You can input CSS selector by this way"
   ]
  },
  {
   "cell_type": "code",
   "execution_count": 98,
   "metadata": {},
   "outputs": [
    {
     "data": {
      "text/plain": [
       "158"
      ]
     },
     "execution_count": 98,
     "metadata": {},
     "output_type": "execute_result"
    }
   ],
   "source": [
    "len(links)"
   ]
  },
  {
   "cell_type": "code",
   "execution_count": 35,
   "metadata": {},
   "outputs": [
    {
     "name": "stdout",
     "output_type": "stream",
     "text": [
      "https://www.ptt.cc/bbs/Boy-Girl/M.1617778263.A.0D4.html\n",
      "https://www.ptt.cc/bbs/Boy-Girl/M.1617781509.A.D23.html\n",
      "https://www.ptt.cc/bbs/Boy-Girl/M.1617781865.A.300.html\n",
      "https://www.ptt.cc/bbs/Boy-Girl/M.1617782587.A.CF2.html\n",
      "https://www.ptt.cc/bbs/Boy-Girl/M.1617782655.A.85D.html\n"
     ]
    }
   ],
   "source": [
    "for link in links[:5]:\n",
    "    print(link)"
   ]
  },
  {
   "cell_type": "code",
   "execution_count": 40,
   "metadata": {},
   "outputs": [
    {
     "name": "stdout",
     "output_type": "stream",
     "text": [
      "<class 'bs4.BeautifulSoup'>\n",
      "<class 'bs4.BeautifulSoup'>\n",
      "<class 'bs4.BeautifulSoup'>\n",
      "<class 'bs4.BeautifulSoup'>\n",
      "<class 'bs4.BeautifulSoup'>\n"
     ]
    }
   ],
   "source": [
    "for link in links[:5]:\n",
    "    res = requests.get(link, timeout=(1,2))\n",
    "    soup = BeautifulSoup(res.text, 'html.parser')\n",
    "    print(type(soup))"
   ]
  },
  {
   "cell_type": "markdown",
   "metadata": {},
   "source": [
    "## Get metadata"
   ]
  },
  {
   "cell_type": "code",
   "execution_count": 107,
   "metadata": {},
   "outputs": [
    {
     "name": "stdout",
     "output_type": "stream",
     "text": [
      "https://www.ptt.cc/bbs/Boy-Girl/M.1539730274.A.F41.html\n",
      "4\n",
      "GaryLeessang (康巧怡)\n",
      "Boy-Girl\n",
      "Re: [討論] 用錢作人？\n",
      "https://www.ptt.cc/bbs/Boy-Girl/M.1539738513.A.642.html\n",
      "4\n",
      "Joker3 (丑角3)\n",
      "Boy-Girl\n",
      "Re: [討論]女方比我強勢\n",
      "https://www.ptt.cc/bbs/Boy-Girl/M.1539738927.A.0E4.html\n",
      "4\n",
      "Andmacher (含笑半步顛)\n",
      "Boy-Girl\n",
      "Re: [求助] 男友說他有雙妻命\n",
      "https://www.ptt.cc/bbs/Boy-Girl/M.1539739427.A.ED5.html\n",
      "4\n",
      "recant (阿倫)\n",
      "Boy-Girl\n",
      "Re: [討論] 用錢作人？\n",
      "https://www.ptt.cc/bbs/Boy-Girl/M.1539744131.A.5C9.html\n",
      "4\n",
      "xraymugen (無限X光，每個都有學術上)\n",
      "Boy-Girl\n",
      "[討論] 這份統計的真實性\n"
     ]
    }
   ],
   "source": [
    "for link in links[:5]:\n",
    "    print(link)\n",
    "    res = requests.get(link, timeout=(1, 2))\n",
    "    soup = BeautifulSoup(res.text, \"html.parser\")\n",
    "    metas = soup.find_all(class_='article-meta-value')\n",
    "    print(len(metas))\n",
    "    print(metas[0].text)\n",
    "    print(metas[1].text)\n",
    "    print(metas[2].text)"
   ]
  },
  {
   "cell_type": "markdown",
   "metadata": {},
   "source": [
    "## Assign data to variables"
   ]
  },
  {
   "cell_type": "code",
   "execution_count": null,
   "metadata": {},
   "outputs": [],
   "source": [
    "for link in links:\n",
    "    print(link)\n",
    "    res = requests.get(link, timeout=(1, 2))\n",
    "    soup = BeautifulSoup(res.text, \"html.parser\")\n",
    "    metas = soup.find_all(class_='article-meta-value')\n",
    "    author = metas[0].text\n",
    "    title = metas[-2].text\n",
    "    timestamp = metas[-1].text"
   ]
  },
  {
   "cell_type": "markdown",
   "metadata": {},
   "source": [
    "## Get all content\n",
    "```\n",
    "alist = [1, 2, 3]\n",
    "print(isinstance(alist, tuple))\n",
    ": False\n",
    "```"
   ]
  },
  {
   "cell_type": "code",
   "execution_count": 41,
   "metadata": {},
   "outputs": [
    {
     "name": "stdout",
     "output_type": "stream",
     "text": [
      "https://www.ptt.cc/bbs/Boy-Girl/M.1617778263.A.0D4.html\n",
      "218\n",
      "https://www.ptt.cc/bbs/Boy-Girl/M.1617781509.A.D23.html\n",
      "818\n",
      "https://www.ptt.cc/bbs/Boy-Girl/M.1617781865.A.300.html\n",
      "860\n"
     ]
    }
   ],
   "source": [
    "from bs4 import NavigableString\n",
    "for link in links[:3]:\n",
    "    print(link)\n",
    "    res = requests.get(link, timeout=(1, 2))\n",
    "    soup = BeautifulSoup(res.text, \"html.parser\")\n",
    "    metas = soup.find_all(class_='article-meta-value')\n",
    "    if len(metas) == 0: \n",
    "        continue\n",
    "    author = metas[0].text\n",
    "    title = metas[-2].text\n",
    "    timestamp = metas[-1].text\n",
    "    \n",
    "    content = ''\n",
    "    for text in soup.find(id='main-content'):\n",
    "        if isinstance(text, NavigableString):\n",
    "            content += text.strip()\n",
    "    print(len(content)) # calculating number of words"
   ]
  },
  {
   "cell_type": "markdown",
   "metadata": {},
   "source": [
    "## Save them all to a dictionary and append to a list"
   ]
  },
  {
   "cell_type": "code",
   "execution_count": 42,
   "metadata": {},
   "outputs": [
    {
     "name": "stdout",
     "output_type": "stream",
     "text": [
      "https://www.ptt.cc/bbs/Boy-Girl/M.1617778263.A.0D4.html\n",
      "https://www.ptt.cc/bbs/Boy-Girl/M.1617781509.A.D23.html\n",
      "https://www.ptt.cc/bbs/Boy-Girl/M.1617781865.A.300.html\n",
      "https://www.ptt.cc/bbs/Boy-Girl/M.1617782587.A.CF2.html\n",
      "https://www.ptt.cc/bbs/Boy-Girl/M.1617782655.A.85D.html\n"
     ]
    }
   ],
   "source": [
    "from bs4 import NavigableString\n",
    "all_post = []\n",
    "for link in links[:5]:\n",
    "    print(link)\n",
    "    res = requests.get(link, timeout=(1, 2))\n",
    "    soup = BeautifulSoup(res.text, \"html.parser\")\n",
    "    metas = soup.find_all(class_='article-meta-value')\n",
    "    if len(metas) == 0: \n",
    "        continue\n",
    "    author = metas[0].text\n",
    "    title = metas[-2].text\n",
    "    timestamp = metas[-1].text\n",
    "    \n",
    "    content = ''\n",
    "    for text in soup.find(id='main-content'):\n",
    "        if isinstance(text, NavigableString):\n",
    "            content += text.strip()\n",
    "    \n",
    "    all_post.append({'author':author, \n",
    "                     'link':link,\n",
    "                      'title':title, \n",
    "                      'timestamp':timestamp, \n",
    "                      'content':content}) "
   ]
  },
  {
   "cell_type": "code",
   "execution_count": 43,
   "metadata": {},
   "outputs": [
    {
     "data": {
      "text/html": [
       "<div>\n",
       "<style scoped>\n",
       "    .dataframe tbody tr th:only-of-type {\n",
       "        vertical-align: middle;\n",
       "    }\n",
       "\n",
       "    .dataframe tbody tr th {\n",
       "        vertical-align: top;\n",
       "    }\n",
       "\n",
       "    .dataframe thead th {\n",
       "        text-align: right;\n",
       "    }\n",
       "</style>\n",
       "<table border=\"1\" class=\"dataframe\">\n",
       "  <thead>\n",
       "    <tr style=\"text-align: right;\">\n",
       "      <th></th>\n",
       "      <th>author</th>\n",
       "      <th>link</th>\n",
       "      <th>title</th>\n",
       "      <th>timestamp</th>\n",
       "      <th>content</th>\n",
       "    </tr>\n",
       "  </thead>\n",
       "  <tbody>\n",
       "    <tr>\n",
       "      <th>0</th>\n",
       "      <td>pauljet (拜登哥不要)</td>\n",
       "      <td>https://www.ptt.cc/bbs/Boy-Girl/M.1617778263.A...</td>\n",
       "      <td>Re: [求助] 老婆家裡給房子 每次吵架就</td>\n",
       "      <td>Wed Apr  7 14:51:01 2021</td>\n",
       "      <td>你也唸一唸不會離婚啦\\n\\n我有這種老婆要我離婚 又不是傻了\\n\\n先規劃生小孩差不多\\n\\...</td>\n",
       "    </tr>\n",
       "    <tr>\n",
       "      <th>1</th>\n",
       "      <td>madaniel (大孩子的小童話)</td>\n",
       "      <td>https://www.ptt.cc/bbs/Boy-Girl/M.1617781509.A...</td>\n",
       "      <td>Re: [分享] 交到另一半最重要的是把自己準備好</td>\n",
       "      <td>Wed Apr  7 15:45:06 2021</td>\n",
       "      <td>同意M兄這篇\\n\\n\\n我身高182 (對啦我高)、\\n不帥\\n(這輩子只有早餐店阿姨跟我第...</td>\n",
       "    </tr>\n",
       "    <tr>\n",
       "      <th>2</th>\n",
       "      <td>nicehorse06 (嘿嘿馬)</td>\n",
       "      <td>https://www.ptt.cc/bbs/Boy-Girl/M.1617781865.A...</td>\n",
       "      <td>Re: [心情] 明理的基督徒女友說不想浪費時間</td>\n",
       "      <td>Wed Apr  7 15:51:03 2021</td>\n",
       "      <td>我爸沒有信，我媽是真耶穌信徒\\n從小只有斷斷續續去教會，\\n可見下一代的信仰斷層，是教會裡結...</td>\n",
       "    </tr>\n",
       "    <tr>\n",
       "      <th>3</th>\n",
       "      <td>skywendy (天龍溫蒂)</td>\n",
       "      <td>https://www.ptt.cc/bbs/Boy-Girl/M.1617782587.A...</td>\n",
       "      <td>Re: [討論] 心靈出軌比較嚴重嗎？</td>\n",
       "      <td>Wed Apr  7 16:03:05 2021</td>\n",
       "      <td>好像是這樣\\n我有一個男性朋友\\n他跟一個女生很好\\n好到每天互相私訊那種\\n那女生狀況是已...</td>\n",
       "    </tr>\n",
       "    <tr>\n",
       "      <th>4</th>\n",
       "      <td>csgod1325 (alex)</td>\n",
       "      <td>https://www.ptt.cc/bbs/Boy-Girl/M.1617782655.A...</td>\n",
       "      <td>Re: [求助] 老婆家裡給房子 每次吵架就</td>\n",
       "      <td>Wed Apr  7 16:04:13 2021</td>\n",
       "      <td>其實原po算很幸運的\\n家姐老爸從小溺愛，總是特別偏袒\\n台北市市值4000萬房產決定留給不...</td>\n",
       "    </tr>\n",
       "  </tbody>\n",
       "</table>\n",
       "</div>"
      ],
      "text/plain": [
       "               author                                               link  \\\n",
       "0     pauljet (拜登哥不要)  https://www.ptt.cc/bbs/Boy-Girl/M.1617778263.A...   \n",
       "1  madaniel (大孩子的小童話)  https://www.ptt.cc/bbs/Boy-Girl/M.1617781509.A...   \n",
       "2   nicehorse06 (嘿嘿馬)  https://www.ptt.cc/bbs/Boy-Girl/M.1617781865.A...   \n",
       "3     skywendy (天龍溫蒂)  https://www.ptt.cc/bbs/Boy-Girl/M.1617782587.A...   \n",
       "4    csgod1325 (alex)  https://www.ptt.cc/bbs/Boy-Girl/M.1617782655.A...   \n",
       "\n",
       "                       title                 timestamp  \\\n",
       "0     Re: [求助] 老婆家裡給房子 每次吵架就  Wed Apr  7 14:51:01 2021   \n",
       "1  Re: [分享] 交到另一半最重要的是把自己準備好  Wed Apr  7 15:45:06 2021   \n",
       "2   Re: [心情] 明理的基督徒女友說不想浪費時間  Wed Apr  7 15:51:03 2021   \n",
       "3        Re: [討論] 心靈出軌比較嚴重嗎？  Wed Apr  7 16:03:05 2021   \n",
       "4     Re: [求助] 老婆家裡給房子 每次吵架就  Wed Apr  7 16:04:13 2021   \n",
       "\n",
       "                                             content  \n",
       "0  你也唸一唸不會離婚啦\\n\\n我有這種老婆要我離婚 又不是傻了\\n\\n先規劃生小孩差不多\\n\\...  \n",
       "1  同意M兄這篇\\n\\n\\n我身高182 (對啦我高)、\\n不帥\\n(這輩子只有早餐店阿姨跟我第...  \n",
       "2  我爸沒有信，我媽是真耶穌信徒\\n從小只有斷斷續續去教會，\\n可見下一代的信仰斷層，是教會裡結...  \n",
       "3  好像是這樣\\n我有一個男性朋友\\n他跟一個女生很好\\n好到每天互相私訊那種\\n那女生狀況是已...  \n",
       "4  其實原po算很幸運的\\n家姐老爸從小溺愛，總是特別偏袒\\n台北市市值4000萬房產決定留給不...  "
      ]
     },
     "execution_count": 43,
     "metadata": {},
     "output_type": "execute_result"
    }
   ],
   "source": [
    "import pandas as pd\n",
    "pd.DataFrame(all_post)"
   ]
  },
  {
   "cell_type": "markdown",
   "metadata": {},
   "source": [
    "# Saving data"
   ]
  },
  {
   "cell_type": "code",
   "execution_count": 50,
   "metadata": {},
   "outputs": [],
   "source": [
    "import pickle\n",
    "with open('data/ptt1092_testing.pkl', 'wb') as fout:  # Python 3: open(..., 'wb')\n",
    "    pickle.dump(all_post, fout)"
   ]
  }
 ],
 "metadata": {
  "kernelspec": {
   "display_name": "Python 3",
   "language": "python",
   "name": "python3"
  },
  "language_info": {
   "codemirror_mode": {
    "name": "ipython",
    "version": 3
   },
   "file_extension": ".py",
   "mimetype": "text/x-python",
   "name": "python",
   "nbconvert_exporter": "python",
   "pygments_lexer": "ipython3",
   "version": "3.7.6"
  },
  "toc": {
   "base_numbering": 1,
   "nav_menu": {},
   "number_sections": true,
   "sideBar": true,
   "skip_h1_title": false,
   "title_cell": "Table of Contents",
   "title_sidebar": "Contents",
   "toc_cell": false,
   "toc_position": {
    "height": "calc(100% - 180px)",
    "left": "10px",
    "top": "150px",
    "width": "375px"
   },
   "toc_section_display": true,
   "toc_window_display": true
  },
  "toc-autonumbering": true
 },
 "nbformat": 4,
 "nbformat_minor": 4
}
