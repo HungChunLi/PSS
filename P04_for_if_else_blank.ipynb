{
 "cells": [
  {
   "cell_type": "markdown",
   "metadata": {
    "colab_type": "text",
    "id": "view-in-github"
   },
   "source": [
    "<a href=\"https://colab.research.google.com/github/P4CSS/PSS/blob/master/P04_for_if_else_blank.ipynb\" target=\"_parent\"><img src=\"https://colab.research.google.com/assets/colab-badge.svg\" alt=\"Open In Colab\"/></a>"
   ]
  },
  {
   "cell_type": "markdown",
   "metadata": {
    "id": "amklYKOISJ2s"
   },
   "source": [
    "# INDEX\n",
    "**if-else: conditional operators**\n",
    "- if-else Application: Traversing AQX\n",
    "    - Rescaling to categories\n",
    "    - Detecting prominants\n",
    "        - Top value\n",
    "        - Top site\n",
    "        - Top 3 sites\n",
    "- Algorithm: Finding top-n\n",
    "- Application: Categorizing Youbike site fullness\n",
    "\n",
    "**for: repetitive operator**\n",
    "- Application: generating fibonnacci sequence\n",
    "- Application: Generating Pi\n",
    "- Application: 9x9 table"
   ]
  },
  {
   "cell_type": "markdown",
   "metadata": {
    "id": "OlnvF7JxOHa0"
   },
   "source": [
    "# if-for\n",
    "\n",
    "Reference https://jirlong.gitbook.io/pytutorial/python-basic/4.-if-else-for\n",
    "\n",
    "**`if`的應用**\n",
    "* 選擇性列印出你所要呈現的youbike站台：指定要某幾個、透過if來判斷，指定要滿載的\n",
    "* 透過比較來找到最大值和最小值\n",
    "* 處理缺漏值，AQX不定期地會有缺漏值，要用`if`來偵測是否有缺漏值，並指定遇到缺漏值要怎麼做處理。或者是查驗輸入的日期是否合理\n",
    "\n",
    "**``for if``應用**\n",
    "* 把所有文字看過一遍，計算文字的出現次數\n",
    "* 用`for`遍歷PM2.5的值來對PM2.5做排序，找到最大或者是前三大的PM2.5站台\n",
    "* 分組。若告訴一個使用者PM2.5是67，他可能不知道這個數字代表什麼意義，但你若透過一個標準的Mapping把它mapping到非常高、高、中、低、非常低等五個等級，並告訴使用者說現在這個區域PM2.5是高，那他就聽得懂。"
   ]
  },
  {
   "cell_type": "markdown",
   "metadata": {
    "id": "Y6wmkndCOHa5"
   },
   "source": [
    "# The AQX case\n",
    "\n",
    "**範例說明**：從資料來源為行政院環保署的空氣品質監測網（[PM2.5 introduced by 行政院環保署](https://taqm.epa.gov.tw/taqm/tw/default.aspx)）可以看到即時的空氣品質，包含指標和嚴重程度（上顏色）。上顏色的方法是依照AQI的值分成六個等級。當要把AQI值繪製為相對應的等級時，必須要判斷AQI值落在哪一個區間，此時，需要用if-else的條件判斷式來判斷，究竟是落在哪個區間。而測站不會只有一個，因此，要一個接一個判斷完現在所有的測站落在哪一個區間的話，那就要用for-loop來判斷完所有的測站。\n",
    "\n",
    "**資料來源**：行政院環保署有一個自己的開放資料網站https://opendata.epa.gov.tw ，即時更新的速度會比政府開放資料平台快。以下三個連結都可以獲取空氣品質資料。\n",
    "1. http://opendata.epa.gov.tw/webapi/Data/REWIQA/?$orderby=SiteName&$skip=0&$top=1000&format=json\n",
    "2. https://taqm.epa.gov.tw/taqm/aqs.ashx?act=WebCamBox&lang=tw\n",
    "3. https://taqm.epa.gov.tw/taqm/aqs.ashx?lang=tw&act=aqi-epa&ts=1538460570145\n",
    "\n",
    "**分析策略**：看到空氣品質的資料，或類似的資料（例如水污染、噪音、紫外線）一般會想要做什麼事？\n",
    "1. 找到突出的（Prominent）資料：找到最嚴重的地區。如果最嚴重的地區不只一個，那就要列印出多個地區。要做這件事就要找到最大值或者是最小值。在程式的邏輯上就是把所有資料看過一遍，透過大小比較，找出最大的那個值。\n",
    "2. 找到突出的（Prominent）資料：不僅找到最嚴重的地區，還要找到前三大、前五大、前10％。在程式的邏輯上，就要做排序。以由大到小來排序的狀況來說，要用前面的方法，找到最大值，再從剩下的找出次大值、再從剩下的找出次大值，依此類推。\n",
    "3. 獲取資料摘要。例如平均值、四分位數、左/右傾分佈（常態分配、Power low）。\n",
    "4. 描述資料分佈。雖然知道平均值或四分位數等已經能夠知道部分資料的概況，但通常會需要知道資料分布的概況，例如空氣品質差的地方多，還是好的地方多？或者是空氣品質在每個不同的等級的，各有幾個測站？這程式的基本邏輯通常是分堆或分類後進行計數（Counting），或者是單就數值直接進行Counting。\n",
    "5. 篩選出目標觀察資料：例如，比較大都市內或非大都市的測站，看看PM2.5或者O3比較嚴重。\n",
    "\n",
    "* 為什麼要找到這些資料的概況？簡單地說，是為了讓一般人聽得懂，但要求有憑有據。只有資料的分析者和操作者看得到資料，但重點是你今天通常為什麼要做資料分析，是因為你想要傳達給別人，這筆資料有啥特殊之處，或者他平淡無奇。但為了做到這點，你需要用一個他們都聽得懂的語彙，例如「大部分的區域」、「最嚴重的區域」、「前幾大」。然而，這些語彙的邏輯實際上都模糊而不準確，但若你有資料和數學的支持，你就可以說得有信心，有憑有據，而不至於信口開河。"
   ]
  },
  {
   "cell_type": "markdown",
   "metadata": {
    "id": "zXnpOWwHOHa5"
   },
   "source": [
    "## Loading AQX data"
   ]
  },
  {
   "cell_type": "code",
   "execution_count": 1,
   "metadata": {
    "ExecuteTime": {
     "end_time": "2020-03-23T04:35:13.229614Z",
     "start_time": "2020-03-23T04:35:12.866082Z"
    },
    "colab": {
     "base_uri": "https://localhost:8080/"
    },
    "id": "oMUojEBsOHa6",
    "outputId": "d13b455a-6230-40ab-a86b-a5e26a9d2cba"
   },
   "outputs": [
    {
     "name": "stdout",
     "output_type": "stream",
     "text": [
      "<class 'list'>\n"
     ]
    }
   ],
   "source": [
    "import requests\n",
    "import json\n",
    "url = \" https://opendata.epa.gov.tw/api/v1/AQI?%24skip=0&%24top=1000&%24format=json\"\n",
    "response = requests.get(url)\n",
    "aqdata = json.loads(response.text)\n",
    "print(type(aqdata))"
   ]
  },
  {
   "cell_type": "markdown",
   "metadata": {
    "id": "bVRaMam-OHa7"
   },
   "source": [
    "## (Practice) Exploring AQI content"
   ]
  },
  {
   "cell_type": "code",
   "execution_count": null,
   "metadata": {
    "ExecuteTime": {
     "end_time": "2020-03-23T04:35:14.934070Z",
     "start_time": "2020-03-23T04:35:14.930267Z"
    },
    "id": "EhRr5vq5OHa7",
    "outputId": "5e720e4d-d8b2-44f2-aedd-5ee2a0ca229a"
   },
   "outputs": [
    {
     "name": "stdout",
     "output_type": "stream",
     "text": [
      "dict_keys(['Result', 'Data'])\n",
      "<class 'list'>\n",
      "{'SiteId': '84', 'SiteName': '富貴角', 'SiteKey': 'FugueiCape', 'AreaKey': 'North', 'MonobjName': '背景', 'Address': '新北市石門區富貴角海邊', 'lat': '25.294147', 'lng': '121.539141', 'AQI': '74', 'MainPollutant': '臭氧八小時', 'MainPollutantKey': 'O3_8hr', 'CityCode': '31', 'PM10': '56', 'PM10_AVG': '42', 'PM25': '21', 'PM25_AVG': '19', 'O3': '66', 'O3_8': '62', 'SO2': '', 'CO': '', 'CO_8': '0.30', 'NO2': '', 'SO2_VFLAG': '3', 'CO_VFLAG': '3', 'O3_VFLAG': '1', 'PM10_VFLAG': '1', 'NO2_VFLAG': '3', 'THC_VFLAG': '1', 'PM25_VFLAG': '1', 'SO2_PRETXT': '儀器校正', 'CO_PRETXT': '儀器校正', 'O3_PRETXT': '', 'NO2_PRETXT': '儀器校正', 'PM10_PRETXT': '', 'PM25_PRETXT': '', 'HO_AQI_VAL': '74', 'THC': '2', 'x': '121', 'y': '86', 'DataSrc': 'epa', 'Time': '2020-03-23 12:00:00', 'AQIStyle': 'AQI2'}\n",
      "dict_keys(['SiteId', 'SiteName', 'SiteKey', 'AreaKey', 'MonobjName', 'Address', 'lat', 'lng', 'AQI', 'MainPollutant', 'MainPollutantKey', 'CityCode', 'PM10', 'PM10_AVG', 'PM25', 'PM25_AVG', 'O3', 'O3_8', 'SO2', 'CO', 'CO_8', 'NO2', 'SO2_VFLAG', 'CO_VFLAG', 'O3_VFLAG', 'PM10_VFLAG', 'NO2_VFLAG', 'THC_VFLAG', 'PM25_VFLAG', 'SO2_PRETXT', 'CO_PRETXT', 'O3_PRETXT', 'NO2_PRETXT', 'PM10_PRETXT', 'PM25_PRETXT', 'HO_AQI_VAL', 'THC', 'x', 'y', 'DataSrc', 'Time', 'AQIStyle'])\n"
     ]
    }
   ],
   "source": [
    "\n",
    "\n"
   ]
  },
  {
   "cell_type": "markdown",
   "metadata": {
    "id": "xntH9ZXqOHa8"
   },
   "source": [
    "## (Practice) Print out data by for-loop\n",
    "\n",
    "print formation rules https://docs.python.org/3/tutorial/inputoutput.html"
   ]
  },
  {
   "cell_type": "code",
   "execution_count": null,
   "metadata": {
    "ExecuteTime": {
     "end_time": "2020-03-23T04:36:46.464964Z",
     "start_time": "2020-03-23T04:36:46.458233Z"
    },
    "id": "fpw_SeRvOHa8",
    "outputId": "37aeaac6-e9cd-4428-b140-23af22617832"
   },
   "outputs": [
    {
     "name": "stdout",
     "output_type": "stream",
     "text": [
      "富貴角 74 21\n",
      "萬里 62 -1\n",
      "淡水 38 7\n",
      "林口 63 11\n",
      "三重 65 14\n",
      "菜寮 47 9\n",
      "汐止 66 21\n",
      "新莊 58 -1\n",
      "永和 57 14\n",
      "板橋 53 9\n",
      "土城 62 12\n",
      "新店 59 12\n",
      "陽明 47 ND\n",
      "士林 44 8\n",
      "大同 57 12\n",
      "中山 53 \n",
      "松山 62 16\n",
      "萬華 52 10\n",
      "古亭 60 17\n",
      "基隆 61 16\n",
      "大園 68 27\n",
      "觀音 67 22\n",
      "桃園 58 7\n",
      "平鎮 78 \n",
      "中壢 71 17\n",
      "龍潭 68 10\n",
      "新竹 80 \n",
      "湖口 72 21\n",
      "竹東 66 11\n",
      "頭份 95 \n",
      "苗栗 78 24\n",
      "三義 72 32\n",
      "豐原 71 24\n",
      "沙鹿 89 33\n",
      "西屯 78 32\n",
      "忠明 74 28\n",
      "大里 80 23\n",
      "線西 92 31\n",
      "彰化 80 33\n",
      "二林 99 40\n",
      "埔里 89 24\n",
      "南投 86 31\n",
      "竹山 92 43\n",
      "崙背 102 36\n",
      "麥寮 89 32\n",
      "臺西 86 32\n",
      "斗六 90 \n",
      "新港 98 41\n",
      "朴子 97 41\n",
      "嘉義 96 \n",
      "新營 99 43\n",
      "善化 94 40\n",
      "安南 104 40\n",
      "臺南 93 30\n",
      "美濃 71 \n",
      "橋頭 90 40\n",
      "楠梓 90 38\n",
      "仁武 86 29\n",
      "左營 85 \n",
      "前金 84 36\n",
      "鳳山 73 29\n",
      "復興 77 \n",
      "前鎮 81 43\n",
      "小港 78 33\n",
      "大寮 97 46\n",
      "林園 75 25\n",
      "屏東 81 33\n",
      "潮州 79 38\n",
      "恆春 57 15\n",
      "宜蘭 59 7\n",
      "冬山 67 12\n",
      "花蓮 65 19\n",
      "關山 54 10\n",
      "臺東 55 16\n",
      "馬祖 80 21\n",
      "金門 73 29\n",
      "馬公 74 32\n",
      "臺南(麻豆) 94 35\n",
      "彰化(大城) 76 29\n",
      "新北(樹林) 65 13\n",
      "屏東(琉球) 65 18\n",
      "高雄(楠梓) 92 41\n",
      "桃園(觀音工業區) 77 28\n"
     ]
    }
   ],
   "source": [
    "\n",
    "\n",
    "#     print(\"{}\\t{}\\t{}\".format(site[\"SiteName\"], site[\"AQI\"], site[\"PM25\"]))"
   ]
  },
  {
   "cell_type": "markdown",
   "metadata": {
    "id": "1jje72QbOHa8"
   },
   "source": [
    "## (Practice) Updating missing PM2.5 value\n",
    "\n",
    "在這個例子中，由於我發現PM2.5偶而會有空值（就該場站的資料沒有傳回來），我可以用`for`-each掃過所有的資料，然後用`if`來判斷，如果資料是空值的話（如下面的空字串`\"\"`或者被標示為`ND`），就把`-1`assign給他，不然的話就保留原本的數值，或是像下面一樣，用`int()`把它轉為整數。我在`for`-each掃過所有資料時，我用了一個變數`site`，他的效果相當於把`aqdata[\"Data\"]`裡面的每一個項目走訪一遍，當`site`內容被改變時，`aqdata[\"Data\"]`的內容也會一併被改變。"
   ]
  },
  {
   "cell_type": "code",
   "execution_count": null,
   "metadata": {
    "ExecuteTime": {
     "end_time": "2020-03-23T04:38:34.007846Z",
     "start_time": "2020-03-23T04:38:34.002519Z"
    },
    "id": "3WkIHoN6OHa8",
    "outputId": "71abaac3-118d-49e3-dcd2-7af7ec19c032"
   },
   "outputs": [
    {
     "name": "stdout",
     "output_type": "stream",
     "text": [
      "富貴角 74 21\n",
      "萬里 62 -1\n",
      "淡水 38 7\n",
      "林口 63 11\n",
      "三重 65 14\n",
      "菜寮 47 9\n",
      "汐止 66 21\n",
      "新莊 58 -1\n",
      "永和 57 14\n",
      "板橋 53 9\n"
     ]
    }
   ],
   "source": [
    "\n",
    "\n",
    "\n",
    "\n",
    "# print out the first 10 records for glimpse\n",
    "for site in aqdata[\"Data\"][:10]:\n",
    "    print(site[\"SiteName\"], site[\"AQI\"], site[\"PM25\"])\n"
   ]
  },
  {
   "cell_type": "markdown",
   "metadata": {
    "id": "Dsr1WL82OHa9"
   },
   "source": [
    "## (Practice) Using index to update data (Another way)\n",
    "\n",
    "我也可以透過index去access`aqdata[\"Data\"]`中第0個、第1個、第2個dict的內容。但此時你就要去用index存取`aqdata[\"Data\"]`內的值，你的程式碼會稍微長一點點。"
   ]
  },
  {
   "cell_type": "code",
   "execution_count": null,
   "metadata": {
    "ExecuteTime": {
     "end_time": "2020-03-23T04:39:18.999034Z",
     "start_time": "2020-03-23T04:39:18.994103Z"
    },
    "id": "cX4dOFnSOHa9",
    "outputId": "81261dbd-237d-4c9b-f3b5-00b1e6a2852f"
   },
   "outputs": [
    {
     "name": "stdout",
     "output_type": "stream",
     "text": [
      "富貴角 74 21\n",
      "萬里 62 -1\n",
      "淡水 38 7\n",
      "林口 63 11\n",
      "三重 65 14\n",
      "菜寮 47 9\n",
      "汐止 66 21\n",
      "新莊 58 -1\n",
      "永和 57 14\n",
      "板橋 53 9\n"
     ]
    }
   ],
   "source": [
    "# for site in aqdata[\"Data\"]:\n",
    "\n",
    "\n",
    "\n",
    "\n",
    "# print out the frist 10 records for glimpse\n",
    "for site in aqdata[\"Data\"][:10]:\n",
    "    print(site[\"SiteName\"], site[\"AQI\"], site[\"PM25\"])"
   ]
  },
  {
   "cell_type": "markdown",
   "metadata": {
    "id": "M0sU2eXHOHa9"
   },
   "source": [
    "## (Practice) Using enumerate() to access index and data\n",
    "\n",
    "前面我們介紹到兩個版本，\n",
    "1. `for site in aqdata[\"Data\"]:`是用`site`來直接存取所有的資料項目，\n",
    "2. `for i in range(len(aqdata[\"Data\"])):`的做法則是用`i`作為index來提供存取原本的`aqdata[\"Data\"]`。\n",
    "\n",
    "但其實還有第三種選擇就是用`enumerate()`來同時存取index和資料項目，當我需要access這是第幾個項目，或者需要access原本的項目值時，那我就用index，但我如果只是要判斷一下大小，那我就可以用被取出來的資料項目。寫法如下：\n",
    "\n",
    "`for i, site in enumerate(aqdata[\"Data\"]):`"
   ]
  },
  {
   "cell_type": "code",
   "execution_count": null,
   "metadata": {
    "ExecuteTime": {
     "end_time": "2020-03-23T04:42:22.383029Z",
     "start_time": "2020-03-23T04:42:22.377452Z"
    },
    "id": "2YY8k7VMOHa9",
    "outputId": "81ee6c52-f1fe-4826-91f3-2308f0b52074"
   },
   "outputs": [
    {
     "name": "stdout",
     "output_type": "stream",
     "text": [
      "<class 'enumerate'>\n",
      "富貴角 74 21\n",
      "萬里 62 -1\n",
      "淡水 38 7\n",
      "林口 63 11\n",
      "三重 65 14\n",
      "菜寮 47 9\n",
      "汐止 66 21\n",
      "新莊 58 -1\n",
      "永和 57 14\n",
      "板橋 53 9\n"
     ]
    }
   ],
   "source": [
    "print(type(enumerate(aqdata[\"Data\"])))\n",
    "\n",
    "\n",
    "\n",
    "\n",
    "\n",
    "\n",
    "for site in aqdata[\"Data\"][:10]:\n",
    "    print(site[\"SiteName\"], site[\"AQI\"], site[\"PM25\"])"
   ]
  },
  {
   "cell_type": "markdown",
   "metadata": {},
   "source": [
    "# Converting AQI data format\n",
    "\n",
    "顯然AQI資料是一個非常標準的JSON格式，轉換為Python的資料型態就會變成List of dictionary。<br>\n",
    "但這樣我無法直接用站台名稱來存取該站台的資料，也就是不能用`aqdict[\"三重\"]`就直接列印出`三重`的所有資料。<br>\n",
    "那我就必須要轉換我的資料成為以測站名稱為key的dictionary。\n"
   ]
  },
  {
   "cell_type": "code",
   "execution_count": 3,
   "metadata": {},
   "outputs": [],
   "source": [
    "aqdict = {}  # Initialize a new dictionary\n",
    "\n",
    "for site in aqdata:\n",
    "    aqdict[site[\"SiteName\"]] = site"
   ]
  },
  {
   "cell_type": "code",
   "execution_count": 4,
   "metadata": {},
   "outputs": [
    {
     "data": {
      "text/plain": [
       "{'SiteName': '三重',\n",
       " 'County': '新北市',\n",
       " 'AQI': '40',\n",
       " 'Pollutant': '',\n",
       " 'Status': '良好',\n",
       " 'SO2': '2.7',\n",
       " 'CO': '1.04',\n",
       " 'CO_8hr': '1.5',\n",
       " 'O3': '-',\n",
       " 'O3_8hr': '-',\n",
       " 'PM10': '18',\n",
       " 'PM2.5': '11',\n",
       " 'NO2': '24',\n",
       " 'NOx': '52.9',\n",
       " 'NO': '28.9',\n",
       " 'WindSpeed': '-',\n",
       " 'WindDirec': '-',\n",
       " 'PublishTime': '2021/03/08 01:00:00',\n",
       " 'PM2.5_AVG': '12',\n",
       " 'PM10_AVG': '15',\n",
       " 'SO2_AVG': '3',\n",
       " 'Longitude': '121.493806',\n",
       " 'Latitude': '25.072611',\n",
       " 'SiteId': '67'}"
      ]
     },
     "execution_count": 4,
     "metadata": {},
     "output_type": "execute_result"
    }
   ],
   "source": [
    "aqdict[\"三重\"]"
   ]
  },
  {
   "cell_type": "markdown",
   "metadata": {
    "id": "RyuplV_aOHa9"
   },
   "source": [
    "# Rescale AQI index\n",
    "\n",
    "前面說到一般民眾其實不太了解AQI數值的意義，也不知道最大最小值是多少，所以跟民眾講AQI的數值是沒意義的。民眾比較容易了解的是「現在嚴不嚴重」。因此，我們可以依照環保署對於空氣品質的等級劃分方法來將所有站台區分成幾個等級。程式邏輯上要做的事情是，用if-elif-else來設計好不同的區間判斷，然後用for-loop把所有AQI的值走訪過一遍，看每個站台落入哪個區間。\n",
    "\n",
    "環保署的標準：https://airtw.epa.gov.tw/CHT/Information/Standard/AirQualityIndicator.aspx"
   ]
  },
  {
   "cell_type": "code",
   "execution_count": null,
   "metadata": {
    "ExecuteTime": {
     "end_time": "2020-03-22T15:53:03.498552Z",
     "start_time": "2020-03-22T15:53:03.452584Z"
    },
    "id": "hWxjriE3OHa-",
    "outputId": "0ab017e4-29ab-4054-82ec-0544e5f43fce"
   },
   "outputs": [
    {
     "name": "stdout",
     "output_type": "stream",
     "text": [
      "富貴角 \t OK\n",
      "萬里 \t OK\n",
      "淡水 \t OK\n",
      "林口 \t OK\n",
      "三重 \t OK\n",
      "菜寮 \t OK\n",
      "汐止 \t OK\n",
      "新莊 \t OK\n",
      "永和 \t OK\n",
      "板橋 \t OK\n",
      "土城 \t OK\n",
      "新店 \t OK\n",
      "陽明 \t OK\n",
      "士林 \t OK\n",
      "大同 \t OK\n",
      "中山 \t OK\n",
      "松山 \t OK\n",
      "萬華 \t OK\n",
      "古亭 \t OK\n",
      "基隆 \t OK\n",
      "大園 \t OK\n",
      "觀音 \t OK\n",
      "桃園 \t OK\n",
      "平鎮 \t OK\n",
      "中壢 \t OK\n",
      "龍潭 \t OK\n",
      "新竹 \t OK\n",
      "湖口 \t OK\n",
      "竹東 \t OK\n",
      "頭份 \t OK\n",
      "苗栗 \t OK\n",
      "三義 \t OK\n",
      "豐原 \t OK\n",
      "沙鹿 \t OK\n",
      "西屯 \t OK\n",
      "忠明 \t OK\n",
      "大里 \t OK\n",
      "線西 \t OK\n",
      "彰化 \t OK\n",
      "二林 \t OK\n",
      "埔里 \t bad\n",
      "南投 \t OK\n",
      "竹山 \t OK\n",
      "崙背 \t OK\n",
      "麥寮 \t OK\n",
      "臺西 \t OK\n",
      "斗六 \t OK\n",
      "新港 \t OK\n",
      "朴子 \t OK\n",
      "嘉義 \t OK\n",
      "新營 \t OK\n",
      "善化 \t OK\n",
      "安南 \t OK\n",
      "臺南 \t OK\n",
      "美濃 \t OK\n",
      "橋頭 \t OK\n",
      "楠梓 \t OK\n",
      "仁武 \t OK\n",
      "左營 \t OK\n",
      "前金 \t OK\n",
      "鳳山 \t OK\n",
      "復興 \t OK\n",
      "前鎮 \t OK\n",
      "小港 \t OK\n",
      "大寮 \t OK\n",
      "林園 \t OK\n",
      "屏東 \t OK\n",
      "潮州 \t OK\n",
      "恆春 \t OK\n",
      "宜蘭 \t OK\n",
      "冬山 \t OK\n",
      "花蓮 \t OK\n",
      "關山 \t OK\n",
      "臺東 \t OK\n",
      "馬祖 \t bad\n",
      "金門 \t OK\n",
      "馬公 \t OK\n",
      "臺南(麻豆) \t OK\n",
      "彰化(大城) \t OK\n",
      "新北(樹林) \t OK\n",
      "屏東(琉球) \t OK\n",
      "高雄(楠梓) \t OK\n",
      "桃園(觀音工業區) \t OK\n"
     ]
    }
   ],
   "source": [
    "for i, site in enumerate(aqdata[\"Data\"]):\n",
    "    if site[\"AQI\"] == \"\":\n",
    "        aqdata[\"Data\"][i][\"Quality\"] = \"Unknown\"\n",
    "    ## add more role here\n",
    "\n",
    "for site in aqdata[\"Data\"]:\n",
    "    print(site[\"SiteName\"], \"\\t\", site[\"Quality\"])"
   ]
  },
  {
   "cell_type": "markdown",
   "metadata": {
    "id": "YIULaGwuOHa-"
   },
   "source": [
    "## AQI by epa's standard\n",
    "\n",
    "| Label | Range   |\n",
    "|------|------|\n",
    "|Good|0~50|\n",
    "|Moderate|51~100|\n",
    "|Unhealthy for Sensitive Groups|101~150|\n",
    "|Unhealthy|151~200|\n",
    "|Very Unhealthy|201~300|\n",
    "|Hazardous|301~500|"
   ]
  },
  {
   "cell_type": "markdown",
   "metadata": {
    "id": "aNbL-IMNOHa-"
   },
   "source": [
    "## (Option) Rescale better\n",
    "\n",
    "為了避免過多的if-elif-else或者switch的使用，可以先把scale和category寫成兩個List，然後用多一層for-loop來trace該value會落在List的哪個區間。"
   ]
  },
  {
   "cell_type": "code",
   "execution_count": null,
   "metadata": {
    "ExecuteTime": {
     "end_time": "2020-03-22T15:58:49.104837Z",
     "start_time": "2020-03-22T15:58:49.087594Z"
    },
    "id": "LadW4QkbOHa-",
    "outputId": "ee58392d-677e-4ac9-c67f-00ee0b3194a3"
   },
   "outputs": [
    {
     "name": "stdout",
     "output_type": "stream",
     "text": [
      "16 富貴角 2 L\n",
      "26 萬里 3 L\n",
      "20 淡水 2 L\n",
      "27 林口 3 L\n",
      "25 三重 3 L\n",
      "22 菜寮 2 L\n",
      "20 汐止 2 L\n",
      "25 新莊 3 L\n",
      "22 永和 2 L\n",
      "22 板橋 2 L\n",
      "24 土城 3 L\n",
      "19 新店 2 L\n",
      "8 陽明 1 L\n",
      "22 士林 2 L\n",
      "20 大同 2 L\n",
      "21 中山 2 L\n",
      "21 松山 2 L\n",
      "20 萬華 2 L\n",
      "25 古亭 3 L\n",
      "18 基隆 2 L\n",
      "23 大園 3 L\n",
      "17 觀音 2 L\n",
      "22 桃園 2 L\n",
      "25 平鎮 3 L\n",
      "22 中壢 2 L\n",
      "25 龍潭 3 L\n",
      "21 新竹 2 L\n",
      "19 湖口 2 L\n",
      "24 竹東 3 L\n",
      "19 頭份 2 L\n",
      "28 苗栗 3 L\n",
      "27 三義 3 L\n",
      "28 豐原 3 L\n",
      "26 沙鹿 3 L\n",
      "18 西屯 2 L\n",
      "26 忠明 3 L\n",
      "24 大里 3 L\n",
      "19 線西 2 L\n",
      "18 彰化 2 L\n",
      "23 二林 3 L\n",
      "43 埔里 5 M\n",
      "29 南投 3 L\n",
      "29 竹山 3 L\n",
      "22 崙背 2 L\n",
      "18 麥寮 2 L\n",
      "16 臺西 2 L\n",
      "24 斗六 3 L\n",
      "20 新港 2 L\n",
      "22 朴子 2 L\n",
      "19 嘉義 2 L\n",
      "22 新營 2 L\n",
      "21 善化 2 L\n",
      "20 安南 2 L\n",
      "16 臺南 2 L\n",
      "17 美濃 2 L\n",
      "22 橋頭 2 L\n",
      "20 楠梓 2 L\n",
      "20 仁武 2 L\n",
      "19 左營 2 L\n",
      "20 前金 2 L\n",
      "13 鳳山 2 L\n",
      "18 復興 2 L\n",
      "16 前鎮 2 L\n",
      "17 小港 2 L\n",
      "20 大寮 2 L\n",
      "25 林園 3 L\n",
      "23 屏東 3 L\n",
      "25 潮州 3 L\n",
      "21 恆春 2 L\n",
      "17 宜蘭 2 L\n",
      "20 冬山 2 L\n",
      "22 花蓮 2 L\n",
      "14 關山 2 L\n",
      "9 臺東 1 L\n",
      "26 馬祖 3 L\n",
      "21 金門 2 L\n",
      "11 馬公 2 L\n",
      "23 臺南(麻豆) 3 L\n",
      "14 彰化(大城) 2 L\n",
      "31 新北(樹林) 3 L\n",
      "19 屏東(琉球) 2 L\n",
      "23 高雄(楠梓) 3 L\n",
      "24 桃園(觀音工業區) 3 L\n"
     ]
    }
   ],
   "source": [
    "degree = ['L', 'L', 'L', 'M', 'M', 'M', 'H', 'H','H', 'vH']\n",
    "scaler = [11, 23, 35, 41, 47, 53, 58, 64, 70, 1000]\n",
    "\n",
    "for site in aqdata[\"Data\"]:\n",
    "    if site['PM25'] != \"\":\n",
    "        for i, n in enumerate(scaler):\n",
    "            if int(site['PM25']) < n:\n",
    "                d = i\n",
    "                break     \n",
    "        print(int(site['PM25']), site['SiteName'], d+1, degree[d])"
   ]
  },
  {
   "cell_type": "markdown",
   "metadata": {
    "id": "K8qCd43FOHa_"
   },
   "source": [
    "# Detect prominant data\n",
    "\n",
    "通常我們有了這類的資料後，第一個想到的分析方法就是找到最嚴重、最差、變化最劇烈的地區。以下這是個非常好的例子說明要如何運用`if`和`for`找出PM2.5最高的地區。在過程中，必須要注意，原本的資料的資料型態為何，甚至要注意，原本的資料是否有缺漏。在這個案例中，我希望找出，現在PM2.5最高的是哪些站台，且把該站台列印出來。注意，我要列印的是，PM2.5最高的站台，而不是最高的PM2.5值；此外還要注意，PM2.5最高的站台可能不只一個（這時候該怎麼處理？）。\n"
   ]
  },
  {
   "cell_type": "markdown",
   "metadata": {
    "id": "TtP23jM-QVDB"
   },
   "source": [
    "## (Practice) Find the maximum\n",
    "\n",
    "找到最大值或最小值的概念：就個人的邏輯思考一下，我要怎麼找到一群數的最大值？解題邏輯：把第一個數先拿來當標準，之後確認過每個數，有沒有比這個數更大的，若有的話，最大值就是找到的那個數，沒有的話，那第一個數就是最大值。"
   ]
  },
  {
   "cell_type": "code",
   "execution_count": null,
   "metadata": {
    "ExecuteTime": {
     "end_time": "2020-03-23T04:49:54.180908Z",
     "start_time": "2020-03-23T04:49:54.177160Z"
    },
    "id": "ktUTofr7OHa_",
    "outputId": "8d19b84f-3dad-4edb-dafc-a04adb73d56c"
   },
   "outputs": [
    {
     "name": "stdout",
     "output_type": "stream",
     "text": [
      "1\n"
     ]
    }
   ],
   "source": [
    "# finding the maximum value\n",
    "alist = [5, 3, 2, 4, 1, 3, 2, 4, 7, 82, 19, 23, 42]\n",
    "\n",
    "# mina, maxa = 100, 0\n",
    "mina = alist[0]\n",
    "\n",
    "\n",
    "\n",
    "\n",
    "#     print maxa, a\n",
    "print(mina)"
   ]
  },
  {
   "cell_type": "markdown",
   "metadata": {
    "id": "HlLKVRP4OHa_"
   },
   "source": [
    "## Use built-in functions\n",
    "\n",
    "這類比較大小的簡單功能一定都有人幫忙寫好了（如以下的例子），只要記得使用它就好。但是，要記得這樣的函式其實就是透過類似上述方法來比較大小以找到最大值。"
   ]
  },
  {
   "cell_type": "code",
   "execution_count": null,
   "metadata": {
    "ExecuteTime": {
     "end_time": "2020-03-23T04:49:57.965340Z",
     "start_time": "2020-03-23T04:49:57.961824Z"
    },
    "id": "y4DYTLI6OHa_",
    "outputId": "f928ad4e-d824-4d81-e4bb-67264b43bee3"
   },
   "outputs": [
    {
     "name": "stdout",
     "output_type": "stream",
     "text": [
      "1 82 197 13 15.153846153846153\n"
     ]
    }
   ],
   "source": [
    "print(min(alist), max(alist), sum(alist), len(alist), float(sum(alist))/len(alist))"
   ]
  },
  {
   "cell_type": "markdown",
   "metadata": {
    "id": "HXNiC0fXOHa_"
   },
   "source": [
    "## (Practice) Find the sites with the maximum PM2.5 value\n",
    "\n",
    "接下來我們將以上述的演算邏輯來找到PM2.5最高的那個site。我們先用上述的核心邏輯來找到最大值（下方的`max_value`）為何，然後再用一個`for`-loop把所有站台看一遍，看看哪些站台的PM2.5值等於`max_value`。"
   ]
  },
  {
   "cell_type": "code",
   "execution_count": null,
   "metadata": {
    "ExecuteTime": {
     "end_time": "2020-03-23T04:50:00.366591Z",
     "start_time": "2020-03-23T04:50:00.361848Z"
    },
    "id": "kmxa8n7ROHbA",
    "outputId": "2a838d31-1f66-462a-a022-d8fe9d478ef3"
   },
   "outputs": [
    {
     "name": "stdout",
     "output_type": "stream",
     "text": [
      "dict_keys(['SiteId', 'SiteName', 'SiteKey', 'AreaKey', 'MonobjName', 'Address', 'lat', 'lng', 'AQI', 'MainPollutant', 'MainPollutantKey', 'CityCode', 'PM10', 'PM10_AVG', 'PM25', 'PM25_AVG', 'O3', 'O3_8', 'SO2', 'CO', 'CO_8', 'NO2', 'SO2_VFLAG', 'CO_VFLAG', 'O3_VFLAG', 'PM10_VFLAG', 'NO2_VFLAG', 'THC_VFLAG', 'PM25_VFLAG', 'SO2_PRETXT', 'CO_PRETXT', 'O3_PRETXT', 'NO2_PRETXT', 'PM10_PRETXT', 'PM25_PRETXT', 'HO_AQI_VAL', 'THC', 'x', 'y', 'DataSrc', 'Time', 'AQIStyle'])\n",
      "The maximum PM2.5 value:  46\n",
      "大寮 46\n"
     ]
    }
   ],
   "source": [
    "print(aqdata[\"Data\"][0].keys())\n",
    "\n",
    "# Initialize a very small maximum value\n",
    "max_value = 0\n",
    "\n",
    "# Compare to see if any one larger than the maximum value\n",
    "for site in aqdata[\"Data\"]:\n",
    "    # add code here\n",
    "    \n",
    "print(\"The maximum PM2.5 value: \", max_value)\n",
    "\n",
    "# Traverse all sites by for loop to see whose value equals to the maximum PM2.5 value\n",
    "for site in aqdata[\"Data\"]:\n",
    "    if int(site['PM25']) == max_value:\n",
    "        print(site['SiteName'], max_value)"
   ]
  },
  {
   "cell_type": "markdown",
   "metadata": {
    "id": "zsQDnKIUOHbA"
   },
   "source": [
    "## (Practice) finding top 3 site with highest PM2.5 values"
   ]
  },
  {
   "cell_type": "code",
   "execution_count": null,
   "metadata": {
    "ExecuteTime": {
     "end_time": "2020-03-22T16:00:17.513774Z",
     "start_time": "2020-03-22T16:00:17.508657Z"
    },
    "id": "CSOz6-EwOHbA"
   },
   "outputs": [],
   "source": []
  },
  {
   "cell_type": "markdown",
   "metadata": {
    "id": "HYBb_sQeOHbA"
   },
   "source": [
    "# Find top n"
   ]
  },
  {
   "cell_type": "markdown",
   "metadata": {
    "id": "NrhVLfZNQzf3"
   },
   "source": [
    "## (Practice) Sorted by `sorted` function\n",
    "\n",
    "下列的程式碼想法如下：\n",
    "1. 我先把所有的PM2.5的值給存起來，\n",
    "2. 存起來以後，我用`sorted()`這個函式把這些值做排序。\n",
    "3. 排序後的List我就很方便取一個閾值（最大值、前四分之一大的值或者是前三大的值）。\n",
    "4. 然後我把大於該閾值的站台都給列印出來，即為所求。"
   ]
  },
  {
   "cell_type": "code",
   "execution_count": null,
   "metadata": {
    "ExecuteTime": {
     "end_time": "2020-03-23T04:59:34.138897Z",
     "start_time": "2020-03-23T04:59:34.135057Z"
    },
    "id": "c68mStlZOHbA",
    "outputId": "775baf79-1af1-440d-fa75-8c266d6b32e0"
   },
   "outputs": [
    {
     "name": "stdout",
     "output_type": "stream",
     "text": [
      "43\n"
     ]
    }
   ],
   "source": [
    "## Use a list to store all PM2.5 value\n",
    "pm_list = []\n",
    "for site in aqdata[\"Data\"]:\n",
    "\n",
    "        \n",
    "## sort the list by sorted()\n",
    "\n",
    "\n",
    "print(pm_list)"
   ]
  },
  {
   "cell_type": "markdown",
   "metadata": {
    "id": "kXv7yyQ4OHbA"
   },
   "source": [
    "## (Practice) Print out the site which values are larger than the first quarter"
   ]
  },
  {
   "cell_type": "code",
   "execution_count": null,
   "metadata": {
    "ExecuteTime": {
     "end_time": "2020-03-23T04:59:01.851648Z",
     "start_time": "2020-03-23T04:59:01.846195Z"
    },
    "id": "HSku9IYTOHbA",
    "outputId": "22007652-642c-413e-c918-2dab3f9d7dd7"
   },
   "outputs": [
    {
     "name": "stdout",
     "output_type": "stream",
     "text": [
      "21\n",
      "富貴角 21\n",
      "汐止 21\n",
      "大園 27\n",
      "觀音 22\n",
      "湖口 21\n",
      "苗栗 24\n",
      "三義 32\n",
      "豐原 24\n",
      "沙鹿 33\n",
      "西屯 32\n",
      "忠明 28\n",
      "大里 23\n",
      "線西 31\n",
      "彰化 33\n",
      "二林 40\n",
      "埔里 24\n",
      "南投 31\n",
      "竹山 43\n",
      "崙背 36\n",
      "麥寮 32\n",
      "臺西 32\n",
      "新港 41\n",
      "朴子 41\n",
      "新營 43\n",
      "善化 40\n",
      "安南 40\n",
      "臺南 30\n",
      "橋頭 40\n",
      "楠梓 38\n",
      "仁武 29\n",
      "前金 36\n",
      "鳳山 29\n",
      "前鎮 43\n",
      "小港 33\n",
      "大寮 46\n",
      "林園 25\n",
      "屏東 33\n",
      "潮州 38\n",
      "馬祖 21\n",
      "金門 29\n",
      "馬公 32\n",
      "臺南(麻豆) 35\n",
      "彰化(大城) 29\n",
      "高雄(楠梓) 41\n",
      "桃園(觀音工業區) 28\n"
     ]
    }
   ],
   "source": [
    "print(pm_list[int(len(pm_list)/4)])\n",
    "\n",
    "for site in aqdata[\"Data\"]:\n",
    "    if int(site['PM25']) >= pm_list[int(len(pm_list)/4)]:\n",
    "        print(site['SiteName'], site['PM25'])"
   ]
  },
  {
   "cell_type": "markdown",
   "metadata": {
    "id": "qZvs6FSMOHbB"
   },
   "source": [
    "## (Practice) Print out sites with top 3 serious values"
   ]
  },
  {
   "cell_type": "code",
   "execution_count": null,
   "metadata": {
    "ExecuteTime": {
     "end_time": "2020-03-23T04:58:16.977345Z",
     "start_time": "2020-03-23T04:58:16.974380Z"
    },
    "id": "AvshK16xOHbB"
   },
   "outputs": [],
   "source": [
    "# print(sorted(pm_list, reverse=True)[3])\n",
    "for site in aqdata[\"Data\"]:\n",
    "    ## Add code here"
   ]
  },
  {
   "cell_type": "markdown",
   "metadata": {
    "id": "LA0KQZp0OHbC"
   },
   "source": [
    "## DEMO-Implement `sorted` function by sorting algorithm\n",
    "\n",
    "在前面的例子我用了一個`sorted`函式就排序了所有的PM2.5的值，那這類`sorted`函式是怎麼寫的呢？我們可以用兩層的排序演算法來達成此事。觀念很簡單：\n",
    "1. 我先抓住第一個，一一和後面比較，看看有沒有人比他大，有的話，就和後面做置換（Swap），沒有的話就不動，這樣跑過一輪，就可以保證第一個最大。\n",
    "2. 接下來抓住第二個，一一和後面比較，看看有沒有人比他大，，有的話，就和後面做置換（Swap），沒有的話就不動，這樣跑過一輪，就可以保證第二個是次大的。\n",
    "3. 依此類推。\n",
    "\n",
    "Reference\n",
    "1. https://www.geeksforgeeks.org/bubble-sort/\n",
    "2. https://en.wikipedia.org/wiki/Bubble_sort\n"
   ]
  },
  {
   "cell_type": "code",
   "execution_count": null,
   "metadata": {
    "ExecuteTime": {
     "end_time": "2020-03-23T05:03:10.051814Z",
     "start_time": "2020-03-23T05:03:10.046325Z"
    },
    "id": "egonmmd3OHbC",
    "outputId": "9c89a281-b190-4680-df77-8c5263aa9e81"
   },
   "outputs": [
    {
     "name": "stdout",
     "output_type": "stream",
     "text": [
      "[46, 43, 43, 43, 41, 41, 41, 40, 40, 40, 40, 38, 38, 36, 36, 35, 33, 33, 33, 33, 32, 32, 32, 32, 32, 31, 31, 30, 29, 29, 29, 29, 28, 28, 27, 25, 24, 24, 24, 23, 22, 21, 21, 21, 21, 19, 18, 17, 17, 16, 16, 16, 15, 14, 14, 13, 12, 12, 12, 12, 11, 11, 10, 10, 10, 9, 9, 8, 7, 7, 7, -1, -1, -1, -1, -1, -1, -1, -1, -1, -1, -1, -1]\n"
     ]
    }
   ],
   "source": [
    "pm_list = []\n",
    "site_list = []\n",
    "for site in aqdata[\"Data\"]:\n",
    "    if site['PM25'] != \"\" or site['PM25'] != \"ND\":\n",
    "        pm_list.append(int(site['PM25']))\n",
    "        site_list.append(site['SiteName'])\n",
    "        \n",
    "for i in range(len(pm_list)):\n",
    "    for j in range(i+1, len(pm_list)):\n",
    "        if pm_list[i] < pm_list[j]:\n",
    "            pm_list[i], pm_list[j] = pm_list[j], pm_list[i]\n",
    "\n",
    "print(pm_list)"
   ]
  },
  {
   "cell_type": "markdown",
   "metadata": {
    "id": "_Bsv-T5IOHbC"
   },
   "source": [
    "# The Youbike Case\n",
    "\n",
    "## Loading data"
   ]
  },
  {
   "cell_type": "code",
   "execution_count": 4,
   "metadata": {
    "ExecuteTime": {
     "end_time": "2020-03-23T05:09:32.129126Z",
     "start_time": "2020-03-23T05:09:30.776878Z"
    },
    "colab": {
     "base_uri": "https://localhost:8080/"
    },
    "id": "S0qEoY-2OHbC",
    "outputId": "aa418e3c-fe3f-4300-c8e7-5b6e01970d9b"
   },
   "outputs": [
    {
     "name": "stdout",
     "output_type": "stream",
     "text": [
      "<class 'requests.models.Response'>\n",
      "<class 'str'>\n"
     ]
    }
   ],
   "source": [
    "import requests\n",
    "import json\n",
    "response = requests.get('https://tcgbusfs.blob.core.windows.net/blobyoubike/YouBikeTP.gz')\n",
    "print(type(response)) # <class 'requests.models.Response'>\n",
    "print(type(response.text)) # <class 'str'>\n",
    "bike_data = json.loads(response.text)"
   ]
  },
  {
   "cell_type": "markdown",
   "metadata": {
    "id": "E7m4jNRsOHbC"
   },
   "source": [
    "## Calculate \"Fullness\"\n",
    "* 目標：假設我用`perc = sbi/tot`現有腳踏車數除以總腳踏車格數作為滿站的比例，並希望每個站的資料中多一個key為`perc`來存放滿站比例"
   ]
  },
  {
   "cell_type": "code",
   "execution_count": 5,
   "metadata": {
    "ExecuteTime": {
     "end_time": "2020-03-23T05:09:34.186321Z",
     "start_time": "2020-03-23T05:09:34.175026Z"
    },
    "colab": {
     "base_uri": "https://localhost:8080/",
     "height": 135
    },
    "id": "0LdVjiZ3OHbC",
    "outputId": "dff609b6-4266-4376-db9d-09cd5c3e67ba"
   },
   "outputs": [
    {
     "ename": "SyntaxError",
     "evalue": "ignored",
     "output_type": "error",
     "traceback": [
      "\u001b[0;36m  File \u001b[0;32m\"<ipython-input-5-740c4b9384cd>\"\u001b[0;36m, line \u001b[0;32m2\u001b[0m\n\u001b[0;31m    bike_data['retVal'][k][\"perc\"] = #\u001b[0m\n\u001b[0m                                       ^\u001b[0m\n\u001b[0;31mSyntaxError\u001b[0m\u001b[0;31m:\u001b[0m invalid syntax\n"
     ]
    }
   ],
   "source": [
    "for k in bike_data['retVal']:\n",
    "    bike_data['retVal'][k][\"perc\"] = # \n",
    "\n",
    "for k in bike_data[\"retVal\"]:\n",
    "    print(\"{0:20s}\\t{1:.2f}\".format(bike_data['retVal'][k][\"sna\"], bike_data['retVal'][k][\"perc\"]))"
   ]
  },
  {
   "cell_type": "markdown",
   "metadata": {
    "id": "2Ppb47S6OHbD"
   },
   "source": [
    "## Save bike data to .json\n",
    "\n",
    "在Python中把資料dump成json會遠比csv來得方便，在R中則剛好相反。原因是Python的dictionary與list兩項資料結構恰好json的格式一一相符，所以非常容易就可以把資料dump出去或者read進來。如果是要dump成csv檔的話，就必須想辦法把資料整理成pandas dataframe的二維型態。\n"
   ]
  },
  {
   "cell_type": "code",
   "execution_count": null,
   "metadata": {
    "ExecuteTime": {
     "end_time": "2020-03-23T05:09:40.179454Z",
     "start_time": "2020-03-23T05:09:40.167117Z"
    },
    "id": "NdvrbChfOHbD"
   },
   "outputs": [],
   "source": [
    "json.dump(bike_data, open('ubike.json', 'w'))"
   ]
  },
  {
   "cell_type": "markdown",
   "metadata": {
    "id": "899sV54kOHbD"
   },
   "source": [
    "## filtering and rescaling\n",
    "\n",
    "一個簡單的測試，看看有多少站台他腳踏車站已經七成滿了（代表騎車過去可能會沒地方停）。"
   ]
  },
  {
   "cell_type": "code",
   "execution_count": null,
   "metadata": {
    "ExecuteTime": {
     "end_time": "2020-03-23T05:12:03.581359Z",
     "start_time": "2020-03-23T05:12:03.574962Z"
    },
    "id": "ezzCYVYJOHbD",
    "outputId": "675256eb-f826-4608-fa30-fef379c1a6f3"
   },
   "outputs": [
    {
     "name": "stdout",
     "output_type": "stream",
     "text": [
      "0004 市民廣場 43 60\n",
      "------------------------------\n",
      "0031 辛亥新生路口 27 30\n",
      "------------------------------\n",
      "0036 臺大資訊大樓 63 72\n",
      "------------------------------\n",
      "0047 捷運忠孝新生站(4號出口) 24 34\n",
      "------------------------------\n",
      "0056 仁愛林森路口 32 42\n",
      "------------------------------\n",
      "0078 捷運圓山站(2號出口) 41 52\n",
      "------------------------------\n",
      "0113 仁愛逸仙路口 31 38\n",
      "------------------------------\n",
      "0142 捷運木柵站 38 52\n",
      "------------------------------\n",
      "0154 中正基河路口 30 38\n",
      "------------------------------\n",
      "0166 臺北市立景美女中 26 34\n",
      "------------------------------\n",
      "0172 捷運南京三民站(1號出口) 18 24\n",
      "------------------------------\n",
      "0175 捷運南京復興站(5號出口) 38 52\n",
      "------------------------------\n",
      "0182 捷運古亭站(2號出口) 42 50\n",
      "------------------------------\n",
      "0204 臺北市立大學(天母校區) 31 42\n",
      "------------------------------\n",
      "0209 捷運復興崗站 32 42\n",
      "------------------------------\n",
      "0249 中華桂林路口 25 32\n",
      "------------------------------\n",
      "0255 光復南路22巷口 25 30\n",
      "------------------------------\n",
      "0267 八德中坡路口 31 38\n",
      "------------------------------\n",
      "0281 松江公園 23 32\n",
      "------------------------------\n",
      "0293 自來水園區 35 40\n",
      "------------------------------\n",
      "0331 民族玉門街口 28 34\n",
      "------------------------------\n",
      "0335 景文中學 24 32\n",
      "------------------------------\n",
      "0336 承德路三段8巷口 19 22\n",
      "------------------------------\n",
      "0351 中山青島路口 29 38\n",
      "------------------------------\n",
      "0363 復興南路一段340巷口 27 32\n",
      "------------------------------\n",
      "0369 世新大學 26 34\n",
      "------------------------------\n",
      "0371 南門國中 30 38\n",
      "------------------------------\n",
      "0375 銘傳大學 38 48\n",
      "------------------------------\n",
      "0398 聯合醫院陽明院區 22 30\n",
      "------------------------------\n"
     ]
    }
   ],
   "source": [
    "for k, v in bike_data['retVal'].items():\n",
    "    if float(v['sbi'])/int(v['tot']) > 0.7:\n",
    "        print(k, v['sna'], v['sbi'], v['tot'])\n",
    "        print(\"-\"*30)\n"
   ]
  },
  {
   "cell_type": "markdown",
   "metadata": {
    "id": "aL_dDaLCOHbD"
   },
   "source": [
    "# For\n",
    "無論是在列數「水果」或者把所有腳踏車站的資訊列印出來，都需要用到一個指令__For__。他會讓程式在指定的範圍內重複執行，所以也經常被稱為__for-each__。"
   ]
  },
  {
   "cell_type": "markdown",
   "metadata": {
    "id": "AdroCHRmOHbD"
   },
   "source": [
    "## For  - to sum all values in a list"
   ]
  },
  {
   "cell_type": "code",
   "execution_count": null,
   "metadata": {
    "collapsed": true,
    "id": "08H9_EMYOHbD",
    "jupyter": {
     "outputs_hidden": true
    },
    "outputId": "ecac1f98-9b94-40bb-c207-157ad6fa4d35"
   },
   "outputs": [
    {
     "name": "stdout",
     "output_type": "stream",
     "text": [
      "495\n",
      "Enter an n>100\n",
      "5050\n"
     ]
    },
    {
     "ename": "NameError",
     "evalue": "name 'bike_data' is not defined",
     "output_type": "error",
     "traceback": [
      "\u001b[0;31m---------------------------------------------------------------------------\u001b[0m",
      "\u001b[0;31mNameError\u001b[0m                                 Traceback (most recent call last)",
      "\u001b[0;32m<ipython-input-3-c9221861ba47>\u001b[0m in \u001b[0;36m<module>\u001b[0;34m()\u001b[0m\n\u001b[1;32m     16\u001b[0m \u001b[0msbi_sum\u001b[0m \u001b[0;34m=\u001b[0m \u001b[0;36m0\u001b[0m\u001b[0;34m\u001b[0m\u001b[0m\n\u001b[1;32m     17\u001b[0m \u001b[0mtot_sum\u001b[0m \u001b[0;34m=\u001b[0m \u001b[0;36m0\u001b[0m\u001b[0;34m\u001b[0m\u001b[0m\n\u001b[0;32m---> 18\u001b[0;31m \u001b[0;32mfor\u001b[0m \u001b[0musite\u001b[0m \u001b[0;32min\u001b[0m \u001b[0mbike_data\u001b[0m\u001b[0;34m[\u001b[0m\u001b[0;34m'retVal'\u001b[0m\u001b[0;34m]\u001b[0m\u001b[0;34m.\u001b[0m\u001b[0mkeys\u001b[0m\u001b[0;34m(\u001b[0m\u001b[0;34m)\u001b[0m\u001b[0;34m:\u001b[0m\u001b[0;34m\u001b[0m\u001b[0m\n\u001b[0m\u001b[1;32m     19\u001b[0m     \u001b[0msbi_sum\u001b[0m \u001b[0;34m=\u001b[0m \u001b[0msbi_sum\u001b[0m \u001b[0;34m+\u001b[0m \u001b[0mint\u001b[0m\u001b[0;34m(\u001b[0m\u001b[0mbike_data\u001b[0m\u001b[0;34m[\u001b[0m\u001b[0;34m'retVal'\u001b[0m\u001b[0;34m]\u001b[0m\u001b[0;34m[\u001b[0m\u001b[0msite\u001b[0m\u001b[0;34m]\u001b[0m\u001b[0;34m[\u001b[0m\u001b[0;34m'sbi'\u001b[0m\u001b[0;34m]\u001b[0m\u001b[0;34m)\u001b[0m\u001b[0;34m\u001b[0m\u001b[0m\n\u001b[1;32m     20\u001b[0m     \u001b[0mtot_sum\u001b[0m \u001b[0;34m=\u001b[0m \u001b[0mtot_sum\u001b[0m \u001b[0;34m+\u001b[0m \u001b[0mint\u001b[0m\u001b[0;34m(\u001b[0m\u001b[0mbike_data\u001b[0m\u001b[0;34m[\u001b[0m\u001b[0;34m'retVal'\u001b[0m\u001b[0;34m]\u001b[0m\u001b[0;34m[\u001b[0m\u001b[0msite\u001b[0m\u001b[0;34m]\u001b[0m\u001b[0;34m[\u001b[0m\u001b[0;34m'tot'\u001b[0m\u001b[0;34m]\u001b[0m\u001b[0;34m)\u001b[0m\u001b[0;34m\u001b[0m\u001b[0m\n",
      "\u001b[0;31mNameError\u001b[0m: name 'bike_data' is not defined"
     ]
    }
   ],
   "source": [
    "# accmulate all sbi\n",
    "sbi_sum = 0\n",
    "tot_sum = 0\n",
    "for site in bike_data['retVal'].keys():\n",
    "\n",
    "    \n",
    "    \n",
    "print sbi_sum, tot_sum"
   ]
  },
  {
   "cell_type": "markdown",
   "metadata": {
    "id": "2cFyQ-RTOHbE"
   },
   "source": [
    "## For - accumulated something according to index of list or key of dictionary"
   ]
  },
  {
   "cell_type": "code",
   "execution_count": null,
   "metadata": {
    "ExecuteTime": {
     "end_time": "2020-03-23T03:09:40.737717Z",
     "start_time": "2020-03-23T03:09:40.733199Z"
    },
    "id": "qsFHNEmcOHbE",
    "outputId": "87f330b2-4632-441b-9697-7c8e3b923b5a"
   },
   "outputs": [
    {
     "name": "stdout",
     "output_type": "stream",
     "text": [
      "11\n",
      "[1, 0, 0, 0, 0, 0, 0, 0, 0, 0, 0]\n",
      "[2, 0, 0, 0, 0, 0, 0, 0, 0, 0, 0]\n",
      "[3, 0, 0, 0, 0, 0, 0, 0, 0, 0, 0]\n",
      "[4, 0, 0, 0, 0, 0, 0, 0, 0, 0, 0]\n",
      "[5, 0, 0, 0, 0, 0, 0, 0, 0, 0, 0]\n",
      "[5, 1, 0, 0, 0, 0, 0, 0, 0, 0, 0]\n",
      "[5, 2, 0, 0, 0, 0, 0, 0, 0, 0, 0]\n",
      "[5, 2, 0, 1, 0, 0, 0, 0, 0, 0, 0]\n",
      "[5, 2, 0, 1, 1, 0, 0, 0, 0, 0, 0]\n",
      "[5, 2, 0, 2, 1, 0, 0, 0, 0, 0, 0]\n",
      "[6, 2, 0, 2, 1, 0, 0, 0, 0, 0, 0]\n",
      "[6, 3, 0, 2, 1, 0, 0, 0, 0, 0, 0]\n"
     ]
    }
   ],
   "source": [
    "grades = [60, 65, 62, 65, 62, 73, 78, 90, 100, 99, 67, 73]\n",
    "glist = [0, 0, 0, 0, 0, 0, 0, 0, 0, 0, 0]\n",
    "print(len(glist))\n",
    "\n",
    "\n",
    "\n"
   ]
  },
  {
   "cell_type": "markdown",
   "metadata": {
    "id": "gBoIqDJ3OHbE"
   },
   "source": [
    "## Assign values into equal length brackets"
   ]
  },
  {
   "cell_type": "code",
   "execution_count": null,
   "metadata": {
    "ExecuteTime": {
     "end_time": "2020-03-23T03:10:20.628510Z",
     "start_time": "2020-03-23T03:10:17.652229Z"
    },
    "id": "wCyVC0BJOHbE",
    "outputId": "4208c635-3bb5-4ab3-b079-4ecd7530bb8d"
   },
   "outputs": [
    {
     "name": "stdout",
     "output_type": "stream",
     "text": [
      "[9, 7, 3, 8, 5, 3, 7, 4, 8, 6]\n"
     ]
    },
    {
     "data": {
      "text/plain": [
       "(array([9., 7., 3., 8., 5., 3., 7., 4., 8., 6.]),\n",
       " array([ 0. ,  9.9, 19.8, 29.7, 39.6, 49.5, 59.4, 69.3, 79.2, 89.1, 99. ]),\n",
       " <a list of 10 Patch objects>)"
      ]
     },
     "execution_count": 15,
     "metadata": {
      "tags": []
     },
     "output_type": "execute_result"
    },
    {
     "data": {
      "image/png": "[encoded data removed]",
      "text/plain": [
       "<Figure size 432x288 with 1 Axes>"
      ]
     },
     "metadata": {
      "needs_background": "light",
      "tags": []
     },
     "output_type": "display_data"
    }
   ],
   "source": [
    "grades = [17, 65, 5, 74, 93, 1, 94, 16, 80, 95, 32, 78, 17, 70, 22, 43, 95, 67, 3, 30, 40, 51, 96, 17, 13, 21, 4, 47, 19, 44, 59, 6, 0, 83, 40, 89, 39, 57, 99, 35, 81, 31, 89, 63, 80, 85, 36, 60, 17, 68, 62, 36, 3, 28, 8, 38, 83, 73, 67, 2]\n",
    "glist = [0, 0, 0, 0, 0, 0, 0, 0, 0, 0]\n",
    "\n",
    "\n",
    "\n",
    "\n",
    "%matplotlib inline\n",
    "import matplotlib.pyplot as plt\n",
    "\n"
   ]
  },
  {
   "cell_type": "markdown",
   "metadata": {
    "id": "C1ANABHsOHbE"
   },
   "source": [
    "## Practice: Generating fibonnacci sequence\n",
    " 費氏數列第一個為0，第二個為1，第三者之後為前兩項相加，請問第10項是多少？\n",
    " 請嘗試將你的答案列印為以下的模樣\n",
    " ```\n",
    "1 \t 1\n",
    "2 \t 2\n",
    "3 \t 3\n",
    "4 \t 5\n",
    "5 \t 8\n",
    "6 \t 13\n",
    "7 \t 21\n",
    "8 \t 34\n",
    "9 \t 55\n",
    "10 \t 89\n",
    "```"
   ]
  },
  {
   "cell_type": "code",
   "execution_count": null,
   "metadata": {
    "ExecuteTime": {
     "end_time": "2020-03-23T03:16:50.167139Z",
     "start_time": "2020-03-23T03:16:50.163536Z"
    },
    "id": "WttB7e1NOHbF",
    "outputId": "14b4e4f9-16b2-4358-f231-f29a869b07f2"
   },
   "outputs": [
    {
     "name": "stdout",
     "output_type": "stream",
     "text": [
      "1 \t 1\n",
      "2 \t 2\n",
      "3 \t 3\n",
      "4 \t 5\n",
      "5 \t 8\n",
      "6 \t 13\n",
      "7 \t 21\n",
      "8 \t 34\n",
      "9 \t 55\n",
      "10 \t 89\n"
     ]
    }
   ],
   "source": [
    "## Generating fibonnacci number sequence\n",
    "# 0, 1, 1, 2, 3, 5, 8, 13, 21, 34, 55, ...\n",
    "a, b = 0, 1\n",
    "\n",
    "\n",
    "\n"
   ]
  },
  {
   "cell_type": "markdown",
   "metadata": {
    "id": "EbpV6ScpOHbF"
   },
   "source": [
    "## Generating Pi\n",
    "\n",
    "Gregory and Leibniz found Pi/4 = 1 - 1/3 + 1/5 - 1/7 + 1/9...\n",
    "https://mathworld.wolfram.com/PiFormulas.html\n",
    "\n"
   ]
  },
  {
   "cell_type": "code",
   "execution_count": null,
   "metadata": {
    "ExecuteTime": {
     "end_time": "2020-03-23T03:12:23.041131Z",
     "start_time": "2020-03-23T03:12:22.748354Z"
    },
    "id": "_1Oyq16ROHbF",
    "outputId": "d81708a1-3515-4c50-8872-10e80ba54d2d"
   },
   "outputs": [
    {
     "name": "stdout",
     "output_type": "stream",
     "text": [
      "3.1415919869232103\n"
     ]
    }
   ],
   "source": [
    "x, s = 0.0, 1\n",
    "\n",
    "\n",
    "\n",
    "\n",
    "print(x)\n"
   ]
  },
  {
   "cell_type": "code",
   "execution_count": null,
   "metadata": {
    "ExecuteTime": {
     "end_time": "2020-03-23T03:13:53.567724Z",
     "start_time": "2020-03-23T03:13:53.563045Z"
    },
    "id": "HvL_hA7-OHbF",
    "outputId": "5fd52e1e-33e0-44a0-f233-0c710596dcd7"
   },
   "outputs": [
    {
     "name": "stdout",
     "output_type": "stream",
     "text": [
      "**********\n",
      "*********\n",
      "********\n",
      "*******\n",
      "******\n",
      "*****\n",
      "****\n",
      "***\n",
      "**\n",
      "*\n"
     ]
    }
   ],
   "source": [
    "for i in range(10):\n",
    "\n",
    "    \n",
    "    \n",
    "    "
   ]
  },
  {
   "cell_type": "markdown",
   "metadata": {
    "id": "ikntSnetOHbF"
   },
   "source": [
    "## Example Print 9x9 tables"
   ]
  },
  {
   "cell_type": "code",
   "execution_count": null,
   "metadata": {
    "ExecuteTime": {
     "end_time": "2020-03-23T03:15:57.047752Z",
     "start_time": "2020-03-23T03:15:57.042848Z"
    },
    "id": "dzpcUYlGOHbF",
    "outputId": "3ec95898-3041-458f-b44c-c724616b9cd1"
   },
   "outputs": [
    {
     "name": "stdout",
     "output_type": "stream",
     "text": [
      " 1*1 = 1   1*2 = 2   1*3 = 3   1*4 = 4   1*5 = 5   1*6 = 6   1*7 = 7   1*8 = 8   1*9 = 9  \n",
      " 2*1 = 2   2*2 = 4   2*3 = 6   2*4 = 8   2*5 = 10  2*6 = 12  2*7 = 14  2*8 = 16  2*9 = 18 \n",
      " 3*1 = 3   3*2 = 6   3*3 = 9   3*4 = 12  3*5 = 15  3*6 = 18  3*7 = 21  3*8 = 24  3*9 = 27 \n",
      " 4*1 = 4   4*2 = 8   4*3 = 12  4*4 = 16  4*5 = 20  4*6 = 24  4*7 = 28  4*8 = 32  4*9 = 36 \n",
      " 5*1 = 5   5*2 = 10  5*3 = 15  5*4 = 20  5*5 = 25  5*6 = 30  5*7 = 35  5*8 = 40  5*9 = 45 \n",
      " 6*1 = 6   6*2 = 12  6*3 = 18  6*4 = 24  6*5 = 30  6*6 = 36  6*7 = 42  6*8 = 48  6*9 = 54 \n",
      " 7*1 = 7   7*2 = 14  7*3 = 21  7*4 = 28  7*5 = 35  7*6 = 42  7*7 = 49  7*8 = 56  7*9 = 63 \n",
      " 8*1 = 8   8*2 = 16  8*3 = 24  8*4 = 32  8*5 = 40  8*6 = 48  8*7 = 56  8*8 = 64  8*9 = 72 \n",
      " 9*1 = 9   9*2 = 18  9*3 = 27  9*4 = 36  9*5 = 45  9*6 = 54  9*7 = 63  9*8 = 72  9*9 = 81 \n"
     ]
    }
   ],
   "source": [
    "\n",
    "\n",
    "\n",
    "\n"
   ]
  }
 ],
 "metadata": {
  "anaconda-cloud": {},
  "colab": {
   "include_colab_link": true,
   "name": "P04_for_if_else_blank.ipynb",
   "provenance": [],
   "toc_visible": true
  },
  "kernelspec": {
   "display_name": "Python 3",
   "language": "python",
   "name": "python3"
  },
  "language_info": {
   "codemirror_mode": {
    "name": "ipython",
    "version": 3
   },
   "file_extension": ".py",
   "mimetype": "text/x-python",
   "name": "python",
   "nbconvert_exporter": "python",
   "pygments_lexer": "ipython3",
   "version": "3.7.6"
  },
  "toc": {
   "base_numbering": 1,
   "nav_menu": {
    "height": "413px",
    "width": "160px"
   },
   "number_sections": true,
   "sideBar": true,
   "skip_h1_title": false,
   "title_cell": "Table of Contents",
   "title_sidebar": "Contents",
   "toc_cell": false,
   "toc_position": {
    "height": "calc(100% - 180px)",
    "left": "10px",
    "top": "150px",
    "width": "295px"
   },
   "toc_section_display": true,
   "toc_window_display": true
  },
  "varInspector": {
   "cols": {
    "lenName": 16,
    "lenType": 16,
    "lenVar": 40
   },
   "kernels_config": {
    "python": {
     "delete_cmd_postfix": "",
     "delete_cmd_prefix": "del ",
     "library": "var_list.py",
     "varRefreshCmd": "print(var_dic_list())"
    },
    "r": {
     "delete_cmd_postfix": ") ",
     "delete_cmd_prefix": "rm(",
     "library": "var_list.r",
     "varRefreshCmd": "cat(var_dic_list()) "
    }
   },
   "types_to_exclude": [
    "module",
    "function",
    "builtin_function_or_method",
    "instance",
    "_Feature"
   ],
   "window_display": false
  }
 },
 "nbformat": 4,
 "nbformat_minor": 4
}
