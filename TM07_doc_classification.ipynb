{
 "cells": [
  {
   "cell_type": "markdown",
   "id": "625f2cfd",
   "metadata": {},
   "source": [
    "# Preparing data"
   ]
  },
  {
   "cell_type": "markdown",
   "id": "0ebcfe68",
   "metadata": {},
   "source": [
    "## Reading data -> Tokenization"
   ]
  },
  {
   "cell_type": "code",
   "execution_count": 16,
   "id": "e2eb88b2",
   "metadata": {},
   "outputs": [
    {
     "data": {
      "text/html": [
       "<div>\n",
       "<style scoped>\n",
       "    .dataframe tbody tr th:only-of-type {\n",
       "        vertical-align: middle;\n",
       "    }\n",
       "\n",
       "    .dataframe tbody tr th {\n",
       "        vertical-align: top;\n",
       "    }\n",
       "\n",
       "    .dataframe thead th {\n",
       "        text-align: right;\n",
       "    }\n",
       "</style>\n",
       "<table border=\"1\" class=\"dataframe\">\n",
       "  <thead>\n",
       "    <tr style=\"text-align: right;\">\n",
       "      <th></th>\n",
       "      <th>tag</th>\n",
       "      <th>text</th>\n",
       "      <th>token_text</th>\n",
       "    </tr>\n",
       "  </thead>\n",
       "  <tbody>\n",
       "    <tr>\n",
       "      <th>0</th>\n",
       "      <td>P</td>\n",
       "      <td>店家很給力，快遞也是相當快，第三次光顧啦</td>\n",
       "      <td>[店家, 很, 給力, ，, 快遞, 也, 是, 相當快, ，, 第三次, 光顧, 啦]</td>\n",
       "    </tr>\n",
       "    <tr>\n",
       "      <th>1</th>\n",
       "      <td>N</td>\n",
       "      <td>這樣的配置用Vista系統還是有點卡。 指紋收集器。 沒送原裝滑鼠還需要自己買，不太好。</td>\n",
       "      <td>[這樣, 的, 配置, 用, Vista, 系統, 還是, 有點, 卡, 。,  , 指紋,...</td>\n",
       "    </tr>\n",
       "    <tr>\n",
       "      <th>2</th>\n",
       "      <td>P</td>\n",
       "      <td>不錯，在同等檔次酒店中應該是值得推薦的！</td>\n",
       "      <td>[不錯, ，, 在, 同等, 檔次, 酒店, 中應, 該, 是, 值得, 推薦, 的, ！]</td>\n",
       "    </tr>\n",
       "    <tr>\n",
       "      <th>3</th>\n",
       "      <td>N</td>\n",
       "      <td>哎！ 不會是蒙牛乾的吧 嚴懲真凶！</td>\n",
       "      <td>[哎, ！,  , 不會, 是, 蒙牛, 乾, 的, 吧,  , 嚴懲, 真凶, ！]</td>\n",
       "    </tr>\n",
       "    <tr>\n",
       "      <th>4</th>\n",
       "      <td>N</td>\n",
       "      <td>空尤其是三立電視臺女主播做的序尤其無趣像是硬湊那麼多字</td>\n",
       "      <td>[空, 尤其, 是, 三立, 電視, 臺, 女主播, 做, 的, 序, 尤其, 無趣, 像是...</td>\n",
       "    </tr>\n",
       "    <tr>\n",
       "      <th>5</th>\n",
       "      <td>N</td>\n",
       "      <td>明明買了6本書，只到了3本，也沒有說是什麼原因，以後怎麼信的過？？？？？？？？？？？</td>\n",
       "      <td>[明明, 買, 了, 6, 本書, ，, 只到, 了, 3, 本, ，, 也, 沒, 有, ...</td>\n",
       "    </tr>\n",
       "    <tr>\n",
       "      <th>6</th>\n",
       "      <td>P</td>\n",
       "      <td>看了一下感覺還可以</td>\n",
       "      <td>[看, 了, 一下, 感覺還, 可以]</td>\n",
       "    </tr>\n",
       "    <tr>\n",
       "      <th>7</th>\n",
       "      <td>P</td>\n",
       "      <td>散熱還不錯，玩遊戲cpu溫度和硬碟溫度都在56以下，     速度很好，顯示卡也不錯</td>\n",
       "      <td>[散熱, 還不錯, ，, 玩遊戲, cpu, 溫度, 和, 硬碟, 溫度, 都, 在, 56...</td>\n",
       "    </tr>\n",
       "    <tr>\n",
       "      <th>8</th>\n",
       "      <td>P</td>\n",
       "      <td>外觀好看，白色的自己貼紙也方便，vista執行起來速度也還不錯.屬於主流配置了。一般用用可以的</td>\n",
       "      <td>[外觀, 好看, ，, 白色, 的, 自己, 貼紙, 也, 方便, ，, vista, 執行...</td>\n",
       "    </tr>\n",
       "    <tr>\n",
       "      <th>9</th>\n",
       "      <td>N</td>\n",
       "      <td>水超級小 用的時候還要先修理一下花灑 售後還說是水壓問題 說本來標配都是這樣還要自己重新換一個</td>\n",
       "      <td>[水超級, 小,  , 用, 的, 時候, 還要, 先, 修理, 一下, 花灑,  , 售後...</td>\n",
       "    </tr>\n",
       "  </tbody>\n",
       "</table>\n",
       "</div>"
      ],
      "text/plain": [
       "  tag                                             text  \\\n",
       "0   P                             店家很給力，快遞也是相當快，第三次光顧啦   \n",
       "1   N     這樣的配置用Vista系統還是有點卡。 指紋收集器。 沒送原裝滑鼠還需要自己買，不太好。   \n",
       "2   P                             不錯，在同等檔次酒店中應該是值得推薦的！   \n",
       "3   N                                哎！ 不會是蒙牛乾的吧 嚴懲真凶！   \n",
       "4   N                      空尤其是三立電視臺女主播做的序尤其無趣像是硬湊那麼多字   \n",
       "5   N       明明買了6本書，只到了3本，也沒有說是什麼原因，以後怎麼信的過？？？？？？？？？？？   \n",
       "6   P                                        看了一下感覺還可以   \n",
       "7   P       散熱還不錯，玩遊戲cpu溫度和硬碟溫度都在56以下，     速度很好，顯示卡也不錯   \n",
       "8   P  外觀好看，白色的自己貼紙也方便，vista執行起來速度也還不錯.屬於主流配置了。一般用用可以的   \n",
       "9   N  水超級小 用的時候還要先修理一下花灑 售後還說是水壓問題 說本來標配都是這樣還要自己重新換一個   \n",
       "\n",
       "                                          token_text  \n",
       "0       [店家, 很, 給力, ，, 快遞, 也, 是, 相當快, ，, 第三次, 光顧, 啦]  \n",
       "1  [這樣, 的, 配置, 用, Vista, 系統, 還是, 有點, 卡, 。,  , 指紋,...  \n",
       "2     [不錯, ，, 在, 同等, 檔次, 酒店, 中應, 該, 是, 值得, 推薦, 的, ！]  \n",
       "3        [哎, ！,  , 不會, 是, 蒙牛, 乾, 的, 吧,  , 嚴懲, 真凶, ！]  \n",
       "4  [空, 尤其, 是, 三立, 電視, 臺, 女主播, 做, 的, 序, 尤其, 無趣, 像是...  \n",
       "5  [明明, 買, 了, 6, 本書, ，, 只到, 了, 3, 本, ，, 也, 沒, 有, ...  \n",
       "6                                [看, 了, 一下, 感覺還, 可以]  \n",
       "7  [散熱, 還不錯, ，, 玩遊戲, cpu, 溫度, 和, 硬碟, 溫度, 都, 在, 56...  \n",
       "8  [外觀, 好看, ，, 白色, 的, 自己, 貼紙, 也, 方便, ，, vista, 執行...  \n",
       "9  [水超級, 小,  , 用, 的, 時候, 還要, 先, 修理, 一下, 花灑,  , 售後...  "
      ]
     },
     "execution_count": 16,
     "metadata": {},
     "output_type": "execute_result"
    }
   ],
   "source": [
    "import pandas as pd\n",
    "df = pd.read_csv('data/sentiment.csv')\n",
    "\n",
    "import jieba\n",
    "df['token_text'] = df['text'].apply(lambda x:list(jieba.cut(x)))\n",
    "\n",
    "df.head(10)"
   ]
  },
  {
   "cell_type": "markdown",
   "id": "af6a218f",
   "metadata": {},
   "source": [
    "## Removing Punctuation"
   ]
  },
  {
   "cell_type": "code",
   "execution_count": 36,
   "id": "115a59e8",
   "metadata": {},
   "outputs": [],
   "source": [
    "import unicodedata # for removing Chinese puctuation\n",
    "def remove_punc_by_unicode(words):\n",
    "    out = []\n",
    "    for word in words:\n",
    "        if word != \" \" and not unicodedata.category(word[0]).startswith('P'):\n",
    "            out.append(word)\n",
    "    return out\n"
   ]
  },
  {
   "cell_type": "code",
   "execution_count": 24,
   "id": "dfa219e4",
   "metadata": {},
   "outputs": [
    {
     "data": {
      "text/html": [
       "<div>\n",
       "<style scoped>\n",
       "    .dataframe tbody tr th:only-of-type {\n",
       "        vertical-align: middle;\n",
       "    }\n",
       "\n",
       "    .dataframe tbody tr th {\n",
       "        vertical-align: top;\n",
       "    }\n",
       "\n",
       "    .dataframe thead th {\n",
       "        text-align: right;\n",
       "    }\n",
       "</style>\n",
       "<table border=\"1\" class=\"dataframe\">\n",
       "  <thead>\n",
       "    <tr style=\"text-align: right;\">\n",
       "      <th></th>\n",
       "      <th>tag</th>\n",
       "      <th>text</th>\n",
       "      <th>token_text</th>\n",
       "      <th>cleaned</th>\n",
       "    </tr>\n",
       "  </thead>\n",
       "  <tbody>\n",
       "    <tr>\n",
       "      <th>0</th>\n",
       "      <td>P</td>\n",
       "      <td>店家很給力，快遞也是相當快，第三次光顧啦</td>\n",
       "      <td>[店家, 很, 給力, ，, 快遞, 也, 是, 相當快, ，, 第三次, 光顧, 啦]</td>\n",
       "      <td>[店家, 很, 給力, 快遞, 也, 是, 相當快, 第三次, 光顧, 啦]</td>\n",
       "    </tr>\n",
       "    <tr>\n",
       "      <th>1</th>\n",
       "      <td>N</td>\n",
       "      <td>這樣的配置用Vista系統還是有點卡。 指紋收集器。 沒送原裝滑鼠還需要自己買，不太好。</td>\n",
       "      <td>[這樣, 的, 配置, 用, Vista, 系統, 還是, 有點, 卡, 。,  , 指紋,...</td>\n",
       "      <td>[這樣, 的, 配置, 用, Vista, 系統, 還是, 有點, 卡, 指紋, 收集器, ...</td>\n",
       "    </tr>\n",
       "    <tr>\n",
       "      <th>2</th>\n",
       "      <td>P</td>\n",
       "      <td>不錯，在同等檔次酒店中應該是值得推薦的！</td>\n",
       "      <td>[不錯, ，, 在, 同等, 檔次, 酒店, 中應, 該, 是, 值得, 推薦, 的, ！]</td>\n",
       "      <td>[不錯, 在, 同等, 檔次, 酒店, 中應, 該, 是, 值得, 推薦, 的]</td>\n",
       "    </tr>\n",
       "    <tr>\n",
       "      <th>3</th>\n",
       "      <td>N</td>\n",
       "      <td>哎！ 不會是蒙牛乾的吧 嚴懲真凶！</td>\n",
       "      <td>[哎, ！,  , 不會, 是, 蒙牛, 乾, 的, 吧,  , 嚴懲, 真凶, ！]</td>\n",
       "      <td>[哎, 不會, 是, 蒙牛, 乾, 的, 吧, 嚴懲, 真凶]</td>\n",
       "    </tr>\n",
       "    <tr>\n",
       "      <th>4</th>\n",
       "      <td>N</td>\n",
       "      <td>空尤其是三立電視臺女主播做的序尤其無趣像是硬湊那麼多字</td>\n",
       "      <td>[空, 尤其, 是, 三立, 電視, 臺, 女主播, 做, 的, 序, 尤其, 無趣, 像是...</td>\n",
       "      <td>[空, 尤其, 是, 三立, 電視, 臺, 女主播, 做, 的, 序, 尤其, 無趣, 像是...</td>\n",
       "    </tr>\n",
       "    <tr>\n",
       "      <th>...</th>\n",
       "      <td>...</td>\n",
       "      <td>...</td>\n",
       "      <td>...</td>\n",
       "      <td>...</td>\n",
       "    </tr>\n",
       "    <tr>\n",
       "      <th>6383</th>\n",
       "      <td>P</td>\n",
       "      <td>價效比高、記憶體大、功能全，螢幕超清晰</td>\n",
       "      <td>[價效, 比高, 、, 記憶體, 大, 、, 功能, 全, ，, 螢幕超, 清晰]</td>\n",
       "      <td>[價效, 比高, 記憶體, 大, 功能, 全, 螢幕超, 清晰]</td>\n",
       "    </tr>\n",
       "    <tr>\n",
       "      <th>6384</th>\n",
       "      <td>N</td>\n",
       "      <td>你太狠了… 告訴你他們不會喧譁的人，肯定是蒙牛喝多了</td>\n",
       "      <td>[你, 太狠, 了, …,  , 告訴, 你, 他們, 不會, 喧, 譁, 的, 人, ，,...</td>\n",
       "      <td>[你, 太狠, 了, 告訴, 你, 他們, 不會, 喧, 譁, 的, 人, 肯定, 是, 蒙...</td>\n",
       "    </tr>\n",
       "    <tr>\n",
       "      <th>6385</th>\n",
       "      <td>N</td>\n",
       "      <td>醫生居然買了蒙牛，我是喝呢還是不喝呢還是不喝呢？</td>\n",
       "      <td>[ , 醫生, 居然, 買, 了, 蒙牛, ，, 我, 是, 喝, 呢, 還是, 不, 喝,...</td>\n",
       "      <td>[醫生, 居然, 買, 了, 蒙牛, 我, 是, 喝, 呢, 還是, 不, 喝, 呢, 還是...</td>\n",
       "    </tr>\n",
       "    <tr>\n",
       "      <th>6386</th>\n",
       "      <td>N</td>\n",
       "      <td>我只想說 夾蒙牛是不對的 販賣毒品是犯罪行為</td>\n",
       "      <td>[我, 只, 想, 說,  , 夾, 蒙牛, 是, 不, 對, 的,  , 販賣, 毒品, ...</td>\n",
       "      <td>[我, 只, 想, 說, 夾, 蒙牛, 是, 不, 對, 的, 販賣, 毒品, 是, 犯罪,...</td>\n",
       "    </tr>\n",
       "    <tr>\n",
       "      <th>6387</th>\n",
       "      <td>P</td>\n",
       "      <td>蒙牛便宜</td>\n",
       "      <td>[蒙牛, 便宜]</td>\n",
       "      <td>[蒙牛, 便宜]</td>\n",
       "    </tr>\n",
       "  </tbody>\n",
       "</table>\n",
       "<p>6388 rows × 4 columns</p>\n",
       "</div>"
      ],
      "text/plain": [
       "     tag                                          text  \\\n",
       "0      P                          店家很給力，快遞也是相當快，第三次光顧啦   \n",
       "1      N  這樣的配置用Vista系統還是有點卡。 指紋收集器。 沒送原裝滑鼠還需要自己買，不太好。   \n",
       "2      P                          不錯，在同等檔次酒店中應該是值得推薦的！   \n",
       "3      N                             哎！ 不會是蒙牛乾的吧 嚴懲真凶！   \n",
       "4      N                   空尤其是三立電視臺女主播做的序尤其無趣像是硬湊那麼多字   \n",
       "...   ..                                           ...   \n",
       "6383   P                           價效比高、記憶體大、功能全，螢幕超清晰   \n",
       "6384   N                    你太狠了… 告訴你他們不會喧譁的人，肯定是蒙牛喝多了   \n",
       "6385   N                      醫生居然買了蒙牛，我是喝呢還是不喝呢還是不喝呢？   \n",
       "6386   N                        我只想說 夾蒙牛是不對的 販賣毒品是犯罪行為   \n",
       "6387   P                                          蒙牛便宜   \n",
       "\n",
       "                                             token_text  \\\n",
       "0          [店家, 很, 給力, ，, 快遞, 也, 是, 相當快, ，, 第三次, 光顧, 啦]   \n",
       "1     [這樣, 的, 配置, 用, Vista, 系統, 還是, 有點, 卡, 。,  , 指紋,...   \n",
       "2        [不錯, ，, 在, 同等, 檔次, 酒店, 中應, 該, 是, 值得, 推薦, 的, ！]   \n",
       "3           [哎, ！,  , 不會, 是, 蒙牛, 乾, 的, 吧,  , 嚴懲, 真凶, ！]   \n",
       "4     [空, 尤其, 是, 三立, 電視, 臺, 女主播, 做, 的, 序, 尤其, 無趣, 像是...   \n",
       "...                                                 ...   \n",
       "6383          [價效, 比高, 、, 記憶體, 大, 、, 功能, 全, ，, 螢幕超, 清晰]   \n",
       "6384  [你, 太狠, 了, …,  , 告訴, 你, 他們, 不會, 喧, 譁, 的, 人, ，,...   \n",
       "6385  [ , 醫生, 居然, 買, 了, 蒙牛, ，, 我, 是, 喝, 呢, 還是, 不, 喝,...   \n",
       "6386  [我, 只, 想, 說,  , 夾, 蒙牛, 是, 不, 對, 的,  , 販賣, 毒品, ...   \n",
       "6387                                           [蒙牛, 便宜]   \n",
       "\n",
       "                                                cleaned  \n",
       "0                [店家, 很, 給力, 快遞, 也, 是, 相當快, 第三次, 光顧, 啦]  \n",
       "1     [這樣, 的, 配置, 用, Vista, 系統, 還是, 有點, 卡, 指紋, 收集器, ...  \n",
       "2              [不錯, 在, 同等, 檔次, 酒店, 中應, 該, 是, 值得, 推薦, 的]  \n",
       "3                       [哎, 不會, 是, 蒙牛, 乾, 的, 吧, 嚴懲, 真凶]  \n",
       "4     [空, 尤其, 是, 三立, 電視, 臺, 女主播, 做, 的, 序, 尤其, 無趣, 像是...  \n",
       "...                                                 ...  \n",
       "6383                   [價效, 比高, 記憶體, 大, 功能, 全, 螢幕超, 清晰]  \n",
       "6384  [你, 太狠, 了, 告訴, 你, 他們, 不會, 喧, 譁, 的, 人, 肯定, 是, 蒙...  \n",
       "6385  [醫生, 居然, 買, 了, 蒙牛, 我, 是, 喝, 呢, 還是, 不, 喝, 呢, 還是...  \n",
       "6386  [我, 只, 想, 說, 夾, 蒙牛, 是, 不, 對, 的, 販賣, 毒品, 是, 犯罪,...  \n",
       "6387                                           [蒙牛, 便宜]  \n",
       "\n",
       "[6388 rows x 4 columns]"
      ]
     },
     "execution_count": 24,
     "metadata": {},
     "output_type": "execute_result"
    }
   ],
   "source": [
    "df['cleaned'] = df['token_text'].apply(remove_punc_by_unicode)\n",
    "# df['cleaned'] = df['clean'].apply(remove_stopWords)\n",
    "df\n"
   ]
  },
  {
   "cell_type": "markdown",
   "id": "d3cd7169",
   "metadata": {},
   "source": [
    "# Feature selection"
   ]
  },
  {
   "cell_type": "markdown",
   "id": "c9217f6b",
   "metadata": {},
   "source": [
    "## tfidf vectorization\n",
    "- https://towardsdatascience.com/clustering-documents-with-python-97314ad6a78d\n",
    "- https://blog.csdn.net/blmoistawinde/article/details/80816179\n",
    "- https://scikit-learn.org/stable/modules/generated/sklearn.feature_extraction.text.TfidfVectorizer.html"
   ]
  },
  {
   "cell_type": "code",
   "execution_count": 25,
   "id": "cb7d2817",
   "metadata": {},
   "outputs": [
    {
     "data": {
      "text/plain": [
       "['店家 很 給力 快遞 也 是 相當快 第三次 光顧 啦',\n",
       " '這樣 的 配置 用 Vista 系統 還是 有點 卡 指紋 收集器 沒送 原裝 滑鼠 還 需要 自己 買 不太好',\n",
       " '不錯 在 同等 檔次 酒店 中應 該 是 值得 推薦 的',\n",
       " '哎 不會 是 蒙牛 乾 的 吧 嚴懲 真凶',\n",
       " '空 尤其 是 三立 電視 臺 女主播 做 的 序 尤其 無趣 像是 硬 湊 那麼 多字',\n",
       " '明明 買 了 6 本書 只到 了 3 本 也 沒 有 說 是 什麼 原因 以後怎麼 信的過',\n",
       " '看 了 一下 感覺還 可以',\n",
       " '散熱 還不錯 玩遊戲 cpu 溫度 和 硬碟 溫度 都 在 56 以下 速度 很 好 顯示 卡 也 不錯',\n",
       " '外觀 好看 白色 的 自己 貼紙 也 方便 vista 執行 起來 速度 也 還不錯 屬 於 主流 配置 了 一般 用 用 可以 的',\n",
       " '水超級 小 用 的 時候 還要 先 修理 一下 花灑 售後還 說 是 水壓 問題 說 本來 標配 都 是 這樣 還要 自己 重新 換一個']"
      ]
     },
     "execution_count": 25,
     "metadata": {},
     "output_type": "execute_result"
    }
   ],
   "source": [
    "documents = [\" \".join(doc) for doc in df['cleaned']]\n",
    "documents[:10]"
   ]
  },
  {
   "cell_type": "markdown",
   "id": "e7cfda46",
   "metadata": {},
   "source": [
    "- 当然有些时候我们还是要过滤掉一些无意义的词，下面有些别的参数也可以帮助我们实现这一目的：`max_df/min_df: [0.0, 1.0]`内浮点数或正整数, 默认值=`1.0`。当设置为浮点数时，过滤出现在超过max_df/低于min_df比例的句子中的词语；正整数时,则是超过max_df句句子。这样就可以帮助我们过滤掉出现太多的无意义词语，如下面的\"我\"就被过滤（虽然这里“我”的排比在文学上是很重要的）。"
   ]
  },
  {
   "cell_type": "code",
   "execution_count": 94,
   "id": "6fd7b826",
   "metadata": {
    "tags": []
   },
   "outputs": [
    {
     "name": "stdout",
     "output_type": "stream",
     "text": [
      "<class 'scipy.sparse.csr.csr_matrix'>\n",
      "(6388, 11959)\n"
     ]
    },
    {
     "data": {
      "text/plain": [
       "[array(['給力', '第三次', '相當快', '快遞', '店家', '光顧'], dtype='<U24'),\n",
       " array(['需要', '配置', '系統', '滑鼠', '沒送', '有點', '收集器', '指紋', '原裝', '不太好',\n",
       "        'vista'], dtype='<U24'),\n",
       " array(['檔次', '推薦', '同等', '值得', '中應'], dtype='<U24'),\n",
       " array(['真凶', '嚴懲'], dtype='<U24'),\n",
       " array(['電視', '無趣', '尤其', '女主播', '多字', '像是', '三立'], dtype='<U24'),\n",
       " array(['本書', '明明', '只到', '原因', '信的過', '以後怎麼'], dtype='<U24'),\n",
       " array(['感覺還', '一下'], dtype='<U24'),\n",
       " array(['顯示', '還不錯', '速度', '硬碟', '玩遊戲', '溫度', '散熱', '以下', 'cpu', '56'],\n",
       "       dtype='<U24'),\n",
       " array(['配置', '還不錯', '速度', '貼紙', '白色', '方便', '好看', '外觀', '執行', '主流',\n",
       "        'vista'], dtype='<U24'),\n",
       " array(['重新', '還要', '花灑', '水超級', '水壓', '標配', '本來', '換一個', '問題', '售後還',\n",
       "        '修理', '一下'], dtype='<U24'),\n",
       " array(['還非', '結帳', '知道', '每首', '房間點', '懶得', '廢話', '太差'], dtype='<U24'),\n",
       " array(['霸氣', '覺得', '特倫蘇', '牛奶', '外露'], dtype='<U24'),\n",
       " array(['系統', '真難裝', '版本', '根本', '外觀', '剛買', 'xp', 'linux', 'ghost', '100'],\n",
       "       dtype='<U24'),\n",
       " array(['配置', '用剛', '檔次', '有紅色', '很漂亮', '實惠', '女生', '外觀', '同價位'],\n",
       "       dtype='<U24'),\n",
       " array(['棒子', '有樂趣', '我用', '大果', '喜歡', '吸馬桶', '吸著', '今天', '一個'],\n",
       "       dtype='<U24'),\n",
       " array(['頭腦', '關注', '鑑別', '這本書會', '認真', '清醒', '毒人', '明白', '保持', '一直'],\n",
       "       dtype='<U24'),\n",
       " array(['鍵盤', '輕便', '軟體', '視訊', '螢幕', '舒服', '自帶', '現實', '比不錯', '效果', '小巧',\n",
       "        '價效'], dtype='<U24'),\n",
       " array(['系統', '硬碟', '正版', '收到', '原來', 'vista', 'dos', '320g', '250g'],\n",
       "       dtype='<U24'),\n",
       " array(['這本書', '覺得', '看過', '巴豆', '嘟嘟'], dtype='<U24'),\n",
       " array(['系統', '硬碟', '正版', '收到', '原來', 'vista', 'dos', '320g', '250g'],\n",
       "       dtype='<U24')]"
      ]
     },
     "execution_count": 94,
     "metadata": {},
     "output_type": "execute_result"
    }
   ],
   "source": [
    "with open(\"data/stopwords_zh-tw.txt\", encoding=\"utf-8\") as fin:\n",
    "    stopwords = fin.read().split(\"\\n\")[1:]\n",
    "\n",
    "from sklearn.feature_extraction.text import TfidfVectorizer\n",
    "\n",
    "# fit(doc)\n",
    "model_tfidf = TfidfVectorizer(max_df=0.05,\n",
    "                              # token_pattern=r\"(?u)\\b\\w+\\b\", \n",
    "                              # max_features = 2000,\n",
    "                              stop_words=stopwords).fit(documents)\n",
    "\n",
    "\n",
    "# transform(doc) to document-term matrix\n",
    "# X: Documnet-term matrix (rows, colomns)\n",
    "\n",
    "X_tfidf = model_tfidf.transform(documents)\n",
    "print(type(X_tfidf))\n",
    "print(X_tfidf.shape)\n",
    "\n",
    "\n",
    "# Show transform(X_tfidf) result\n",
    "model_tfidf.inverse_transform(X_tfidf)[:20]"
   ]
  },
  {
   "cell_type": "markdown",
   "id": "462be370",
   "metadata": {},
   "source": [
    "## w2v"
   ]
  },
  {
   "cell_type": "code",
   "execution_count": 66,
   "id": "d4d072f6",
   "metadata": {},
   "outputs": [],
   "source": [
    "from gensim.test.utils import common_texts\n",
    "from gensim.models.doc2vec import Doc2Vec, TaggedDocument\n",
    "\n",
    "tagged_documents = [TaggedDocument(doc, [i]) for i, doc in enumerate(documents)]\n",
    "model = Doc2Vec(tagged_documents, vector_size=100, window=2, min_count=1, workers=4)"
   ]
  },
  {
   "cell_type": "code",
   "execution_count": 111,
   "id": "4fbf77d0",
   "metadata": {},
   "outputs": [
    {
     "data": {
      "text/plain": [
       "(6388, 100)"
      ]
     },
     "execution_count": 111,
     "metadata": {},
     "output_type": "execute_result"
    }
   ],
   "source": [
    "import scipy\n",
    "doc_vector = [model.infer_vector(doc) for doc in df['cleaned']]\n",
    "X_w2v = scipy.sparse.csr_matrix(doc_vector)\n",
    "X_w2v.shape"
   ]
  },
  {
   "cell_type": "markdown",
   "id": "6ac0200b",
   "metadata": {},
   "source": [
    "## with chi.square feature selector\n",
    "- https://towardsdatascience.com/using-the-chi-squared-test-for-feature-selection-with-implementation-b15a4dad93f1"
   ]
  },
  {
   "cell_type": "code",
   "execution_count": 116,
   "id": "989228c8",
   "metadata": {},
   "outputs": [
    {
     "data": {
      "text/plain": [
       "(178, 13)"
      ]
     },
     "execution_count": 116,
     "metadata": {},
     "output_type": "execute_result"
    }
   ],
   "source": [
    "from sklearn import datasets\n",
    "X, y=datasets.load_wine(return_X_y=True)\n",
    "X\n",
    "X.shape"
   ]
  },
  {
   "cell_type": "code",
   "execution_count": 121,
   "id": "df9579d0",
   "metadata": {},
   "outputs": [
    {
     "data": {
      "text/plain": [
       "array([0.15789817, 0.01763186, 0.45339518, ..., 0.32014909, 0.00125132,\n",
       "       0.33394599])"
      ]
     },
     "execution_count": 121,
     "metadata": {},
     "output_type": "execute_result"
    }
   ],
   "source": [
    "from sklearn.feature_selection import chi2\n",
    "from sklearn.feature_selection import SelectKBest\n",
    "selector = SelectKBest(score_func=chi2, k=100)\n",
    "y = df.iloc[:, 0]\n",
    "fit = selector.fit(X_tfidf, y)\n",
    "fit.scores_"
   ]
  },
  {
   "cell_type": "code",
   "execution_count": 125,
   "id": "4b5e6528",
   "metadata": {},
   "outputs": [
    {
     "data": {
      "text/plain": [
       "<6388x100 sparse matrix of type '<class 'numpy.float64'>'\n",
       "\twith 7458 stored elements in Compressed Sparse Row format>"
      ]
     },
     "execution_count": 125,
     "metadata": {},
     "output_type": "execute_result"
    }
   ],
   "source": [
    "X_chi2=selector.fit_transform(X_tfidf, y)\n",
    "X_chi2"
   ]
  },
  {
   "cell_type": "markdown",
   "id": "0a732c83",
   "metadata": {},
   "source": [
    "# train_test_split()\n",
    "\n",
    "- https://scikit-learn.org/stable/modules/generated/sklearn.model_selection.train_test_split.html\n",
    "- Params\n",
    "    - **test_size float or int, default=None**: If float, should be between 0.0 and 1.0 and represent the proportion of the dataset to include in the test split. If int, represents the absolute number of test samples. If None, the value is set to the complement of the train size. If train_size is also None, it will be set to 0.25.\n",
    "    - **train_size float or int, default=None**: If float, should be between 0.0 and 1.0 and represent the proportion of the dataset to include in the train split. If int, represents the absolute number of train samples. If None, the value is automatically set to the complement of the test size.\n",
    "    - **random_stateint, RandomState instance or None, default=None**: Controls the shuffling applied to the data before applying the split. Pass an int for reproducible output across multiple function calls. See Glossary.\n",
    "    - **shufflebool, default=True**: Whether or not to shuffle the data before splitting. If shuffle=False then stratify must be None.\n",
    "    - **stratifyarray-like, default=None**: If not None, data is split in a stratified fashion, using this as the class labels. Read more in the User Guide."
   ]
  },
  {
   "cell_type": "code",
   "execution_count": 126,
   "id": "322e7ff9",
   "metadata": {},
   "outputs": [
    {
     "name": "stdout",
     "output_type": "stream",
     "text": [
      "0       P\n",
      "1       N\n",
      "2       P\n",
      "3       N\n",
      "4       N\n",
      "       ..\n",
      "6383    P\n",
      "6384    N\n",
      "6385    N\n",
      "6386    N\n",
      "6387    P\n",
      "Name: tag, Length: 6388, dtype: object\n",
      "(4471, 11959)\n",
      "(4471, 100)\n",
      "(4471, 100)\n"
     ]
    }
   ],
   "source": [
    "## Restoring label y\n",
    "y = df.iloc[:, 0]\n",
    "print(y)\n",
    "\n",
    "# split train and test data\n",
    "from sklearn.model_selection import train_test_split\n",
    "X_tfidf_train, X_tfidf_test, y_tfidf_train, y_tfidf_test = train_test_split(X_tfidf.toarray(), y, test_size=0.3)\n",
    "X_w2v_train, X_w2v_test, y_w2v_train, y_w2v_test = train_test_split(X_w2v.toarray(), y, test_size=0.3)\n",
    "X_chi2_train, X_chi2_test, y_chi2_train, y_chi2_test = train_test_split(X_chi2.toarray(), y, test_size=0.3)\n",
    "\n",
    "print(X_tfidf_train.shape)\n",
    "print(X_w2v_train.shape)\n",
    "print(X_chi2_train.shape)"
   ]
  },
  {
   "cell_type": "markdown",
   "id": "497342e2",
   "metadata": {},
   "source": [
    "# Modeling"
   ]
  },
  {
   "cell_type": "markdown",
   "id": "bf3821f2",
   "metadata": {},
   "source": [
    "## Naive Bayes"
   ]
  },
  {
   "cell_type": "code",
   "execution_count": 77,
   "id": "0a523772",
   "metadata": {},
   "outputs": [
    {
     "data": {
      "text/plain": [
       "GaussianNB()"
      ]
     },
     "execution_count": 77,
     "metadata": {},
     "output_type": "execute_result"
    }
   ],
   "source": [
    "# Naive Bayes \n",
    "# X.toarray() is to avoid sparse matrix\n",
    "from sklearn.naive_bayes import GaussianNB\n",
    "classifier = GaussianNB()\n",
    "classifier.fit(X_tfidf_train, y_tfidf_train)"
   ]
  },
  {
   "cell_type": "markdown",
   "id": "73e88f73",
   "metadata": {},
   "source": [
    "## XGBoost\n",
    "- https://scikit-learn.org/stable/modules/generated/sklearn.ensemble.GradientBoostingClassifier.html"
   ]
  },
  {
   "cell_type": "code",
   "execution_count": 155,
   "id": "0f537805",
   "metadata": {},
   "outputs": [],
   "source": [
    "from sklearn.ensemble import GradientBoostingClassifier\n",
    "classifier = GradientBoostingClassifier(n_estimators=100, learning_rate=1.0,\n",
    "                                 max_depth=1, random_state=0).fit(X_tfidf_train, y_tfidf_train)"
   ]
  },
  {
   "cell_type": "markdown",
   "id": "4a23bc08",
   "metadata": {},
   "source": [
    "# Prediction"
   ]
  },
  {
   "cell_type": "code",
   "execution_count": 156,
   "id": "78c61a87",
   "metadata": {},
   "outputs": [],
   "source": [
    "y_tfidf_pred = classifier.predict(X_tfidf_test)"
   ]
  },
  {
   "cell_type": "markdown",
   "id": "e31ebc8d",
   "metadata": {},
   "source": [
    "# Evaluation"
   ]
  },
  {
   "cell_type": "code",
   "execution_count": 159,
   "id": "df7a89d9",
   "metadata": {},
   "outputs": [
    {
     "name": "stdout",
     "output_type": "stream",
     "text": [
      "              precision    recall  f1-score   support\n",
      "\n",
      "           N       0.72      0.88      0.79      1002\n",
      "           P       0.82      0.62      0.71       915\n",
      "\n",
      "    accuracy                           0.76      1917\n",
      "   macro avg       0.77      0.75      0.75      1917\n",
      "weighted avg       0.77      0.76      0.75      1917\n",
      "\n"
     ]
    }
   ],
   "source": [
    "from sklearn.metrics import confusion_matrix, classification_report, accuracy_score\n",
    "cm = confusion_matrix(y_tfidf_test, y_tfidf_pred)\n",
    "cr = classification_report(y_tfidf_test, y_tfidf_pred)\n",
    "accuracy = accuracy_score(y_tfidf_test, y_tfidf_pred)\n",
    "print(cr)"
   ]
  },
  {
   "cell_type": "markdown",
   "id": "8bb89caa",
   "metadata": {},
   "source": [
    "## Explaining classification_report\n",
    "- https://datascience.stackexchange.com/questions/64441/how-to-interpret-classification-report-of-scikit-learn\n",
    "- The **recall** means \"how many of this class you find over the whole number of element of this class\"\n",
    "- The **precision** will be \"how many are correctly classified among that class\"\n",
    "- The **f1-score** is the harmonic mean between precision & recall\n",
    "- The **support** is the number of occurence of the given class in your dataset (so the case has 1004 of class N and 913 of class P, which is a almost balanced dataset.\n",
    "\n",
    "Notes\n",
    "- Precision and recall is highly used for imbalanced dataset because in an highly imbalanced dataset, a 99% accuracy can be meaningless.\n",
    "- We should not compare the precision and the recall over two classes. This only means the classifier is better to find class 0 over class 1.\n",
    "\n",
    "\n",
    "```\n",
    "# ---------------------------------------------------------\n",
    "#               precision    recall  f1-score   support\n",
    "#            N       0.80      0.92      0.85      1004\n",
    "#            P       0.89      0.74      0.81       913\n",
    "#     accuracy                           0.84      1917\n",
    "#    macro avg       0.85      0.83      0.83      1917\n",
    "# weighted avg       0.84      0.84      0.83      1917\n",
    "```"
   ]
  },
  {
   "cell_type": "markdown",
   "id": "7539a1ea",
   "metadata": {},
   "source": [
    "# Overall Evaluating"
   ]
  },
  {
   "cell_type": "code",
   "execution_count": 109,
   "id": "ac91c4a3",
   "metadata": {},
   "outputs": [],
   "source": [
    "from sklearn.ensemble import GradientBoostingClassifier, RandomForestClassifier\n",
    "from sklearn.naive_bayes import GaussianNB\n",
    "from sklearn import svm\n",
    "from sklearn.linear_model import LogisticRegression\n",
    "\n",
    "def train_model(classifier, train, train_label, test, test_label):\n",
    "    classifier.fit(train, train_label)\n",
    "    pred_label = classifier.predict(test)\n",
    "    return classification_report(test_label, pred_label)"
   ]
  },
  {
   "cell_type": "code",
   "execution_count": null,
   "id": "02a89ca4",
   "metadata": {},
   "outputs": [],
   "source": [
    "## Time-consumed\n",
    "print(train_model(RandomForestClassifier(), X_tfidf_train, y_tfidf_train, X_tfidf_test, y_tfidf_test))\n",
    "# ---------------------------------------------------------\n",
    "#               precision    recall  f1-score   support\n",
    "#            N       0.82      0.83      0.83      1004\n",
    "#            P       0.81      0.80      0.81       913\n",
    "#     accuracy                           0.82      1917\n",
    "\n",
    "\n",
    "print(train_model(RandomForestClassifier(), X_w2v_train, y_w2v_train, X_w2v_test, y_w2v_test))\n",
    "\n",
    "# ---------------------------------------------------------\n",
    "#               precision    recall  f1-score   support\n",
    "#            N       0.60      0.76      0.67       951\n",
    "#            P       0.68      0.50      0.58       966\n",
    "#     accuracy                           0.63      1917"
   ]
  },
  {
   "cell_type": "code",
   "execution_count": 106,
   "id": "316989a4",
   "metadata": {},
   "outputs": [
    {
     "name": "stdout",
     "output_type": "stream",
     "text": [
      "              precision    recall  f1-score   support\n",
      "\n",
      "           N       0.69      0.92      0.79      1004\n",
      "           P       0.86      0.55      0.67       913\n",
      "\n",
      "    accuracy                           0.74      1917\n",
      "   macro avg       0.78      0.74      0.73      1917\n",
      "weighted avg       0.77      0.74      0.73      1917\n",
      "\n"
     ]
    }
   ],
   "source": [
    "## time-consumed VERY!!\n",
    "# print(train_model(GradientBoostingClassifier(), X_tfidf_train, y_tfidf_train, X_tfidf_test, y_tfidf_test))\n",
    "\n",
    "# ---------------------------------------------------------\n",
    "#               precision    recall  f1-score   support\n",
    "#            N       0.69      0.92      0.79      1004\n",
    "#            P       0.86      0.55      0.67       913\n",
    "#     accuracy                           0.74      1917\n",
    "#    macro avg       0.78      0.74      0.73      1917\n",
    "# weighted avg       0.77      0.74      0.73      1917\n"
   ]
  },
  {
   "cell_type": "code",
   "execution_count": 107,
   "id": "3f7d4a06",
   "metadata": {},
   "outputs": [
    {
     "name": "stdout",
     "output_type": "stream",
     "text": [
      "              precision    recall  f1-score   support\n",
      "\n",
      "           N       0.80      0.92      0.85      1004\n",
      "           P       0.89      0.74      0.81       913\n",
      "\n",
      "    accuracy                           0.84      1917\n",
      "   macro avg       0.85      0.83      0.83      1917\n",
      "weighted avg       0.84      0.84      0.83      1917\n",
      "\n"
     ]
    }
   ],
   "source": [
    "from sklearn import svm\n",
    "print(train_model(svm.SVC(), X_tfidf_train, y_tfidf_train, X_tfidf_test, y_tfidf_test))\n",
    "\n",
    "# ---------------------------------------------------------\n",
    "#               precision    recall  f1-score   support\n",
    "#            N       0.80      0.92      0.85      1004\n",
    "#            P       0.89      0.74      0.81       913\n",
    "#     accuracy                           0.84      1917\n",
    "#    macro avg       0.85      0.83      0.83      1917\n",
    "# weighted avg       0.84      0.84      0.83      1917"
   ]
  },
  {
   "cell_type": "code",
   "execution_count": 149,
   "id": "dda5755d",
   "metadata": {},
   "outputs": [
    {
     "name": "stdout",
     "output_type": "stream",
     "text": [
      "              precision    recall  f1-score   support\n",
      "\n",
      "           N       0.79      0.89      0.84      1002\n",
      "           P       0.86      0.75      0.80       915\n",
      "\n",
      "    accuracy                           0.82      1917\n",
      "   macro avg       0.83      0.82      0.82      1917\n",
      "weighted avg       0.83      0.82      0.82      1917\n",
      "\n",
      "              precision    recall  f1-score   support\n",
      "\n",
      "           N       0.73      0.88      0.80      1005\n",
      "           P       0.83      0.63      0.72       912\n",
      "\n",
      "    accuracy                           0.76      1917\n",
      "   macro avg       0.78      0.76      0.76      1917\n",
      "weighted avg       0.77      0.76      0.76      1917\n",
      "\n"
     ]
    }
   ],
   "source": [
    "# with original tfidf\n",
    "print(train_model(LogisticRegression(), X_tfidf_train, y_tfidf_train, X_tfidf_test, y_tfidf_test))\n",
    "\n",
    "# ---------------------------------------------------------\n",
    "#               precision    recall  f1-score   support\n",
    "#            N       0.79      0.89      0.84      1002\n",
    "#            P       0.86      0.75      0.80       915\n",
    "#     accuracy                           0.82      1917\n",
    "#    macro avg       0.83      0.82      0.82      1917\n",
    "# weighted avg       0.83      0.82      0.82      1917\n",
    "\n",
    "# tfidf + chi2 feature selection\n",
    "print(train_model(LogisticRegression(), X_chi2_train, y_chi2_train, X_chi2_test, y_chi2_test))\n",
    "\n",
    "# ---------------------------------------------------------\n",
    "#               precision    recall  f1-score   support\n",
    "#            N       0.73      0.88      0.80      1005\n",
    "#            P       0.83      0.63      0.72       912\n",
    "#     accuracy                           0.76      1917\n",
    "#    macro avg       0.78      0.76      0.76      1917\n",
    "# weighted avg       0.77      0.76      0.76      1917"
   ]
  },
  {
   "cell_type": "markdown",
   "id": "ebd70e8a",
   "metadata": {},
   "source": [
    "# ROC\n",
    "- https://www.dezyre.com/recipes/plot-roc-curve-in-python"
   ]
  },
  {
   "cell_type": "code",
   "execution_count": 139,
   "id": "315b4116",
   "metadata": {},
   "outputs": [
    {
     "data": {
      "text/plain": [
       "array([0.65396794, 0.18828281, 0.03479667, ..., 0.88646897, 0.46039212,\n",
       "       0.34383811])"
      ]
     },
     "execution_count": 139,
     "metadata": {},
     "output_type": "execute_result"
    }
   ],
   "source": [
    "classifier = LogisticRegression().fit(X_tfidf_train, y_tfidf_train)\n",
    "y_score = classifier.predict_proba(X_tfidf_test)[:,1]\n",
    "y_score"
   ]
  },
  {
   "cell_type": "code",
   "execution_count": 142,
   "id": "3bcaa974",
   "metadata": {},
   "outputs": [],
   "source": [
    "y_test = [0 if y == \"N\" else 1 for y in y_tfidf_test]\n",
    "false_positive_rate1, true_positive_rate1, threshold1 = roc_curve(y_test, y_score1)"
   ]
  },
  {
   "cell_type": "code",
   "execution_count": 143,
   "id": "9a2882f2",
   "metadata": {},
   "outputs": [
    {
     "name": "stdout",
     "output_type": "stream",
     "text": [
      "roc_auc_score for DecisionTree:  0.9105995658955314\n"
     ]
    }
   ],
   "source": [
    "print('roc_auc_score for DecisionTree: ', roc_auc_score(y_test, y_score1))"
   ]
  },
  {
   "cell_type": "code",
   "execution_count": 146,
   "id": "030bf9bb",
   "metadata": {},
   "outputs": [
    {
     "data": {
      "image/png": "[encoded data removed]",
      "text/plain": [
       "<Figure size 720x720 with 1 Axes>"
      ]
     },
     "metadata": {
      "needs_background": "light"
     },
     "output_type": "display_data"
    }
   ],
   "source": [
    "import matplotlib.pyplot as plt\n",
    "plt.subplots(1, figsize=(10,10))\n",
    "plt.title('Receiver Operating Characteristic - LogisticRegressoin')\n",
    "plt.plot(false_positive_rate1, true_positive_rate1)\n",
    "plt.plot([0, 1], ls=\"--\")\n",
    "plt.plot([0, 0], [1, 0] , c=\".7\"), plt.plot([1, 1] , c=\".7\")\n",
    "plt.ylabel('True Positive Rate')\n",
    "plt.xlabel('False Positive Rate')\n",
    "plt.show()"
   ]
  },
  {
   "cell_type": "markdown",
   "id": "ee240fd4",
   "metadata": {},
   "source": [
    "## by `plot_roc_curve()`\n",
    "- `plot_roc_curve()`: https://scikit-learn.org/stable/modules/generated/sklearn.metrics.plot_roc_curve.html\n",
    "- plot roc curve with cross-validation: https://scikit-learn.org/stable/auto_examples/model_selection/plot_roc_crossval.html#sphx-glr-auto-examples-model-selection-plot-roc-crossval-py"
   ]
  },
  {
   "cell_type": "code",
   "execution_count": 148,
   "id": "e41671f6",
   "metadata": {},
   "outputs": [
    {
     "data": {
      "image/png": "[encoded data removed]",
      "text/plain": [
       "<Figure size 432x288 with 1 Axes>"
      ]
     },
     "metadata": {
      "needs_background": "light"
     },
     "output_type": "display_data"
    }
   ],
   "source": [
    "metrics.plot_roc_curve(classifier, X_tfidf_test, y_tfidf_test)  \n",
    "plt.show()"
   ]
  }
 ],
 "metadata": {
  "kernelspec": {
   "display_name": "Python 3",
   "language": "python",
   "name": "python3"
  },
  "language_info": {
   "codemirror_mode": {
    "name": "ipython",
    "version": 3
   },
   "file_extension": ".py",
   "mimetype": "text/x-python",
   "name": "python",
   "nbconvert_exporter": "python",
   "pygments_lexer": "ipython3",
   "version": "3.7.6"
  },
  "toc-autonumbering": true
 },
 "nbformat": 4,
 "nbformat_minor": 5
}
