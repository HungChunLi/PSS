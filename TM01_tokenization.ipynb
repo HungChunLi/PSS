{
 "cells": [
  {
   "cell_type": "markdown",
   "metadata": {
    "slideshow": {
     "slide_type": "slide"
    }
   },
   "source": [
    "# Text Mining I - tokenization\n",
    "## Data Preparation\n",
    "* Open the corpus in the file \"hindu.txt\" from https://en.wikipedia.org/wiki/Hindu\n",
    "* Other public resource: http://www.gutenberg.org/\n",
    "* Never \"push\" protected text to Github or other publicly available platforms.  "
   ]
  },
  {
   "cell_type": "markdown",
   "metadata": {
    "slideshow": {
     "slide_type": "slide"
    }
   },
   "source": [
    "# Loading wikipedia data"
   ]
  },
  {
   "cell_type": "code",
   "execution_count": 6,
   "metadata": {
    "ExecuteTime": {
     "end_time": "2020-03-27T09:45:13.423574Z",
     "start_time": "2020-03-27T09:45:11.988828Z"
    },
    "slideshow": {
     "slide_type": "-"
    }
   },
   "outputs": [
    {
     "name": "stdout",
     "output_type": "stream",
     "text": [
      "The length of Rembrandt summary is  2129\n"
     ]
    }
   ],
   "source": [
    "import wikipedia \n",
    "import string\n",
    "# cv = wikipedia.page(\"Taipei\")\n",
    "# text = cv.content\n",
    "# print(cv.url)\n",
    "# print(\"The length of Taipei page is \", len(text))\n",
    "# print(text[:100])\n",
    "\n",
    "# text = wikipedia.page(\"Rembrandt\").content\n",
    "# print(len(text))\n",
    "\n",
    "text  = wikipedia.summary(\"Rembrandt\", sentences = 10)\n",
    "type(text)\n",
    "print(\"The length of Rembrandt summary is \", len(text))"
   ]
  },
  {
   "cell_type": "markdown",
   "metadata": {
    "slideshow": {
     "slide_type": "subslide"
    }
   },
   "source": [
    "### One more example"
   ]
  },
  {
   "cell_type": "code",
   "execution_count": 9,
   "metadata": {
    "slideshow": {
     "slide_type": "-"
    }
   },
   "outputs": [
    {
     "name": "stdout",
     "output_type": "stream",
     "text": [
      "The length of Hindus summary is  1914\n"
     ]
    }
   ],
   "source": [
    "text  = wikipedia.summary(\"Hindus\", sentences = 10)\n",
    "type(text)\n",
    "print(\"The length of Hindus summary is \", len(text))"
   ]
  },
  {
   "cell_type": "code",
   "execution_count": 3,
   "metadata": {
    "ExecuteTime": {
     "end_time": "2019-06-15T12:01:24.498362Z",
     "start_time": "2019-06-15T12:01:24.495016Z"
    },
    "slideshow": {
     "slide_type": "-"
    }
   },
   "outputs": [],
   "source": [
    "with open(\"data/hindu.txt\") as fin:\n",
    "    text = fin.read()"
   ]
  },
  {
   "cell_type": "markdown",
   "metadata": {
    "slideshow": {
     "slide_type": "subslide"
    }
   },
   "source": [
    "## Length of the corpus (in characters) "
   ]
  },
  {
   "cell_type": "code",
   "execution_count": 10,
   "metadata": {
    "ExecuteTime": {
     "end_time": "2019-06-15T12:01:24.504571Z",
     "start_time": "2019-06-15T12:01:24.501194Z"
    }
   },
   "outputs": [
    {
     "name": "stdout",
     "output_type": "stream",
     "text": [
      "The lenght of the corpus: 1914\n"
     ]
    }
   ],
   "source": [
    "print(\"The lenght of the corpus: %d\" % len(text))"
   ]
  },
  {
   "cell_type": "markdown",
   "metadata": {
    "slideshow": {
     "slide_type": "subslide"
    }
   },
   "source": [
    "## Content"
   ]
  },
  {
   "cell_type": "code",
   "execution_count": 11,
   "metadata": {
    "ExecuteTime": {
     "end_time": "2019-06-15T12:01:24.511032Z",
     "start_time": "2019-06-15T12:01:24.507068Z"
    },
    "slideshow": {
     "slide_type": "-"
    }
   },
   "outputs": [
    {
     "name": "stdout",
     "output_type": "stream",
     "text": [
      "Hindus (Hindustani: [ˈɦɪndu] (listen)) are persons who regard themselves as culturally, ethnically, or religiously adhering to aspects of Hinduism. Historically, the term has also been used as a geographical, cultural, and later religious identifier for people living in the Indian subcontinent.The historical meaning of the term Hindu has evolved with time. Starting with the Persian and Greek references to the land of the Indus in the 1st millennium BCE through the texts of the medieval era, the term Hindu implied a geographic, ethnic or cultural identifier for people living in the Indian subcontinent around or beyond the Sindhu (Indus) river. By the 16th century, the term began to refer to residents of the subcontinent who were not Turkic or Muslims.The historical development of Hindu self-identity within the local South Asian population, in a religious or cultural sense, is unclear. Competing theories state that Hindu identity developed in the British colonial era, or that it may have developed post-8th century CE after the Islamic invasion and medieval Hindu-Muslim wars. A sense of Hindu identity and the term Hindu appears in some texts dated between the 13th and 18th century in Sanskrit and Bengali. The 14th- and 18th-century Indian poets such as Vidyapati, Kabir and Eknath used the phrase Hindu dharma (Hinduism) and contrasted it with Turaka dharma (Islam). The Christian friar Sebastiao Manrique used the term 'Hindu' in religious context in 1649. In the 18th century, the European merchants and colonists began to refer to the followers of Indian religions collectively as Hindus, in contrast to Mohamedans for Mughals and Arabs following Islam. By the mid-19th century, colonial orientalist texts further distinguished Hindus from Buddhists, Sikhs and Jains, but the colonial laws continued to consider all of them to be within the scope of the term Hindu until about mid-20th century.\n"
     ]
    }
   ],
   "source": [
    "print(text)"
   ]
  },
  {
   "cell_type": "markdown",
   "metadata": {
    "slideshow": {
     "slide_type": "slide"
    }
   },
   "source": [
    "## Tokenization"
   ]
  },
  {
   "cell_type": "markdown",
   "metadata": {
    "slideshow": {
     "slide_type": "subslide"
    }
   },
   "source": [
    "## Method 1. by built-in `.split()`"
   ]
  },
  {
   "cell_type": "code",
   "execution_count": 14,
   "metadata": {},
   "outputs": [
    {
     "name": "stdout",
     "output_type": "stream",
     "text": [
      "['What’s', 'in', 'a', 'name?', 'That', 'which', 'we', 'call', 'a', 'rose', 'by', 'any', 'other', 'name', 'would', 'smell', 'as', 'sweet.']\n",
      "['2020', '04', '07 00:08:00']\n"
     ]
    }
   ],
   "source": [
    "sentence_a = \"What’s in a name? That which we call a rose by any other name would smell as sweet.\"\n",
    "print(sentence_a.split(\" \"))\n",
    "\n",
    "sentence_b = \"2020/04/07 00:08:00\"\n",
    "print(sentence_b.split(\"/\"))"
   ]
  },
  {
   "cell_type": "code",
   "execution_count": 15,
   "metadata": {},
   "outputs": [
    {
     "name": "stdout",
     "output_type": "stream",
     "text": [
      "False\n",
      "True\n"
     ]
    }
   ],
   "source": [
    "print(\"123\".isalpha())\n",
    "print(\"abc\".isalpha())"
   ]
  },
  {
   "cell_type": "code",
   "execution_count": 43,
   "metadata": {
    "ExecuteTime": {
     "end_time": "2019-06-15T12:01:24.520738Z",
     "start_time": "2019-06-15T12:01:24.516614Z"
    }
   },
   "outputs": [
    {
     "name": "stdout",
     "output_type": "stream",
     "text": [
      "300\n",
      "['Hindus', '(Hindustani:', '[ˈɦɪndu]', '(listen))', 'are', 'persons', 'who', 'regard', 'themselves', 'as', 'culturally,', 'ethnically,', 'or', 'religiously', 'adhering', 'to', 'aspects', 'of', 'Hinduism.', 'Historically,', 'the', 'term', 'has', 'also', 'been', 'used', 'as', 'a', 'geographical,', 'cultural,', 'and', 'later', 'religious', 'identifier', 'for', 'people', 'living', 'in', 'the', 'Indian', 'subcontinent.The', 'historical', 'meaning', 'of', 'the', 'term', 'Hindu', 'has', 'evolved', 'with', 'time.', 'Starting', 'with', 'the', 'Persian', 'and', 'Greek', 'references', 'to', 'the', 'land', 'of', 'the', 'Indus', 'in', 'the', '1st', 'millennium', 'BCE', 'through', 'the', 'texts', 'of', 'the', 'medieval', 'era,', 'the', 'term', 'Hindu', 'implied', 'a', 'geographic,', 'ethnic', 'or', 'cultural', 'identifier', 'for', 'people', 'living', 'in', 'the', 'Indian', 'subcontinent', 'around', 'or', 'beyond', 'the', 'Sindhu', '(Indus)', 'river.', 'By', 'the', '16th', 'century,', 'the', 'term', 'began', 'to', 'refer', 'to', 'residents', 'of', 'the', 'subcontinent', 'who', 'were', 'not', 'Turkic', 'or', 'Muslims.The', 'historical', 'development', 'of', 'Hindu', 'self-identity', 'within', 'the', 'local', 'South', 'Asian', 'population,', 'in', 'a', 'religious', 'or', 'cultural', 'sense,', 'is', 'unclear.', 'Competing', 'theories', 'state', 'that', 'Hindu', 'identity', 'developed', 'in', 'the', 'British', 'colonial', 'era,', 'or', 'that', 'it', 'may', 'have', 'developed', 'post-8th', 'century', 'CE', 'after', 'the', 'Islamic', 'invasion', 'and', 'medieval', 'Hindu-Muslim', 'wars.', 'A', 'sense', 'of', 'Hindu', 'identity', 'and', 'the', 'term', 'Hindu', 'appears', 'in', 'some', 'texts', 'dated', 'between', 'the', '13th', 'and', '18th', 'century', 'in', 'Sanskrit', 'and', 'Bengali.', 'The', '14th-', 'and', '18th-century', 'Indian', 'poets', 'such', 'as', 'Vidyapati,', 'Kabir', 'and', 'Eknath', 'used', 'the', 'phrase', 'Hindu', 'dharma', '(Hinduism)', 'and', 'contrasted', 'it', 'with', 'Turaka', 'dharma', '(Islam).', 'The', 'Christian', 'friar', 'Sebastiao', 'Manrique', 'used', 'the', 'term', \"'Hindu'\", 'in', 'religious', 'context', 'in', '1649.', 'In', 'the', '18th', 'century,', 'the', 'European', 'merchants', 'and', 'colonists', 'began', 'to', 'refer', 'to', 'the', 'followers', 'of', 'Indian', 'religions', 'collectively', 'as', 'Hindus,', 'in', 'contrast', 'to', 'Mohamedans', 'for', 'Mughals', 'and', 'Arabs', 'following', 'Islam.', 'By', 'the', 'mid-19th', 'century,', 'colonial', 'orientalist', 'texts', 'further', 'distinguished', 'Hindus', 'from', 'Buddhists,', 'Sikhs', 'and', 'Jains,', 'but', 'the', 'colonial', 'laws', 'continued', 'to', 'consider', 'all', 'of', 'them', 'to', 'be', 'within', 'the', 'scope', 'of', 'the', 'term', 'Hindu', 'until', 'about', 'mid-20th', 'century.']\n"
     ]
    }
   ],
   "source": [
    "print(len(text.split(\" \")))\n",
    "print(text.split(\" \"))\n"
   ]
  },
  {
   "cell_type": "markdown",
   "metadata": {
    "slideshow": {
     "slide_type": "subslide"
    }
   },
   "source": [
    "## Method 2. by nltk's function"
   ]
  },
  {
   "cell_type": "code",
   "execution_count": 53,
   "metadata": {
    "ExecuteTime": {
     "end_time": "2019-06-15T14:02:57.585328Z",
     "start_time": "2019-06-15T14:02:57.574621Z"
    }
   },
   "outputs": [
    {
     "name": "stdout",
     "output_type": "stream",
     "text": [
      "341\n",
      "['Hindus', '(', 'Hindustani', ':', '[', 'ˈɦɪndu', ']', '(', 'listen', ')', ')', 'are', 'persons', 'who', 'regard', 'themselves', 'as', 'culturally', ',', 'ethnically', ',', 'or', 'religiously', 'adhering', 'to', 'aspects', 'of', 'Hinduism', '.', 'Historically', ',', 'the', 'term', 'has', 'also', 'been', 'used', 'as', 'a', 'geographical', ',', 'cultural', ',', 'and', 'later', 'religious', 'identifier', 'for', 'people', 'living', 'in', 'the', 'Indian', 'subcontinent.The', 'historical', 'meaning', 'of', 'the', 'term', 'Hindu', 'has', 'evolved', 'with', 'time', '.', 'Starting', 'with', 'the', 'Persian', 'and', 'Greek', 'references', 'to', 'the', 'land', 'of', 'the', 'Indus', 'in', 'the', '1st', 'millennium', 'BCE', 'through', 'the', 'texts', 'of', 'the', 'medieval', 'era', ',', 'the', 'term', 'Hindu', 'implied', 'a', 'geographic', ',', 'ethnic', 'or', 'cultural', 'identifier', 'for', 'people', 'living', 'in', 'the', 'Indian', 'subcontinent', 'around', 'or', 'beyond', 'the', 'Sindhu', '(', 'Indus', ')', 'river', '.', 'By', 'the', '16th', 'century', ',', 'the', 'term', 'began', 'to', 'refer', 'to', 'residents', 'of', 'the', 'subcontinent', 'who', 'were', 'not', 'Turkic', 'or', 'Muslims.The', 'historical', 'development', 'of', 'Hindu', 'self-identity', 'within', 'the', 'local', 'South', 'Asian', 'population', ',', 'in', 'a', 'religious', 'or', 'cultural', 'sense', ',', 'is', 'unclear', '.', 'Competing', 'theories', 'state', 'that', 'Hindu', 'identity', 'developed', 'in', 'the', 'British', 'colonial', 'era', ',', 'or', 'that', 'it', 'may', 'have', 'developed', 'post-8th', 'century', 'CE', 'after', 'the', 'Islamic', 'invasion', 'and', 'medieval', 'Hindu-Muslim', 'wars', '.', 'A', 'sense', 'of', 'Hindu', 'identity', 'and', 'the', 'term', 'Hindu', 'appears', 'in', 'some', 'texts', 'dated', 'between', 'the', '13th', 'and', '18th', 'century', 'in', 'Sanskrit', 'and', 'Bengali', '.', 'The', '14th-', 'and', '18th-century', 'Indian', 'poets', 'such', 'as', 'Vidyapati', ',', 'Kabir', 'and', 'Eknath', 'used', 'the', 'phrase', 'Hindu', 'dharma', '(', 'Hinduism', ')', 'and', 'contrasted', 'it', 'with', 'Turaka', 'dharma', '(', 'Islam', ')', '.', 'The', 'Christian', 'friar', 'Sebastiao', 'Manrique', 'used', 'the', 'term', \"'Hindu\", \"'\", 'in', 'religious', 'context', 'in', '1649', '.', 'In', 'the', '18th', 'century', ',', 'the', 'European', 'merchants', 'and', 'colonists', 'began', 'to', 'refer', 'to', 'the', 'followers', 'of', 'Indian', 'religions', 'collectively', 'as', 'Hindus', ',', 'in', 'contrast', 'to', 'Mohamedans', 'for', 'Mughals', 'and', 'Arabs', 'following', 'Islam', '.', 'By', 'the', 'mid-19th', 'century', ',', 'colonial', 'orientalist', 'texts', 'further', 'distinguished', 'Hindus', 'from', 'Buddhists', ',', 'Sikhs', 'and', 'Jains', ',', 'but', 'the', 'colonial', 'laws', 'continued', 'to', 'consider', 'all', 'of', 'them', 'to', 'be', 'within', 'the', 'scope', 'of', 'the', 'term', 'Hindu', 'until', 'about', 'mid-20th', 'century', '.']\n"
     ]
    }
   ],
   "source": [
    "# import nltk\n",
    "# nltk.download('punkt')\n",
    "from nltk.tokenize import word_tokenize\n",
    "print(len(word_tokenize(text)))\n",
    "print(word_tokenize(text))\n"
   ]
  },
  {
   "cell_type": "markdown",
   "metadata": {
    "slideshow": {
     "slide_type": "subslide"
    }
   },
   "source": [
    "## Method 3. Design manually"
   ]
  },
  {
   "cell_type": "code",
   "execution_count": 35,
   "metadata": {},
   "outputs": [
    {
     "name": "stdout",
     "output_type": "stream",
     "text": [
      "(5.0, 3, 4)\n"
     ]
    }
   ],
   "source": [
    "import math\n",
    "def myfun(x, y):\n",
    "    return math.sqrt(x**2 + y**2), x, y\n",
    "print(myfun(3, 4))"
   ]
  },
  {
   "cell_type": "code",
   "execution_count": 42,
   "metadata": {},
   "outputs": [
    {
     "name": "stdout",
     "output_type": "stream",
     "text": [
      "299\n"
     ]
    }
   ],
   "source": [
    "\n",
    "def my_tokenizer(txt):\n",
    "    tok = \"\"\n",
    "    word_list = []\n",
    "\n",
    "    for ch in txt:\n",
    "        if ch == \" \":\n",
    "            word_list.append(tok)\n",
    "            tok = \"\"\n",
    "#             print(\"Word_list: \", word_list)\n",
    "        else:\n",
    "            tok += ch\n",
    "#             print(tok)\n",
    "    return word_list\n",
    "            \n",
    "word_list = my_tokenizer(text)\n",
    "print(len(word_list))\n",
    "        "
   ]
  },
  {
   "cell_type": "code",
   "execution_count": 47,
   "metadata": {},
   "outputs": [
    {
     "name": "stdout",
     "output_type": "stream",
     "text": [
      "Yes\n"
     ]
    }
   ],
   "source": [
    "tok = \" \"\n",
    "if tok:\n",
    "    print(\"Yes\")\n",
    "else:\n",
    "    print(\"No\")"
   ]
  },
  {
   "cell_type": "code",
   "execution_count": 54,
   "metadata": {
    "ExecuteTime": {
     "end_time": "2019-06-15T12:01:24.539233Z",
     "start_time": "2019-06-15T12:01:24.535536Z"
    }
   },
   "outputs": [
    {
     "name": "stdout",
     "output_type": "stream",
     "text": [
      "300\n",
      "['Hindus', '(Hindustani:', '[ˈɦɪndu]', '(listen))', 'are', 'persons', 'who', 'regard', 'themselves', 'as', 'culturally,', 'ethnically,', 'or', 'religiously', 'adhering', 'to', 'aspects', 'of', 'Hinduism.', 'Historically,', 'the', 'term', 'has', 'also', 'been', 'used', 'as', 'a', 'geographical,', 'cultural,', 'and', 'later', 'religious', 'identifier', 'for', 'people', 'living', 'in', 'the', 'Indian', 'subcontinent.The', 'historical', 'meaning', 'of', 'the', 'term', 'Hindu', 'has', 'evolved', 'with', 'time.', 'Starting', 'with', 'the', 'Persian', 'and', 'Greek', 'references', 'to', 'the', 'land', 'of', 'the', 'Indus', 'in', 'the', '1st', 'millennium', 'BCE', 'through', 'the', 'texts', 'of', 'the', 'medieval', 'era,', 'the', 'term', 'Hindu', 'implied', 'a', 'geographic,', 'ethnic', 'or', 'cultural', 'identifier', 'for', 'people', 'living', 'in', 'the', 'Indian', 'subcontinent', 'around', 'or', 'beyond', 'the', 'Sindhu', '(Indus)', 'river.', 'By', 'the', '16th', 'century,', 'the', 'term', 'began', 'to', 'refer', 'to', 'residents', 'of', 'the', 'subcontinent', 'who', 'were', 'not', 'Turkic', 'or', 'Muslims.The', 'historical', 'development', 'of', 'Hindu', 'self-identity', 'within', 'the', 'local', 'South', 'Asian', 'population,', 'in', 'a', 'religious', 'or', 'cultural', 'sense,', 'is', 'unclear.', 'Competing', 'theories', 'state', 'that', 'Hindu', 'identity', 'developed', 'in', 'the', 'British', 'colonial', 'era,', 'or', 'that', 'it', 'may', 'have', 'developed', 'post-8th', 'century', 'CE', 'after', 'the', 'Islamic', 'invasion', 'and', 'medieval', 'Hindu-Muslim', 'wars.', 'A', 'sense', 'of', 'Hindu', 'identity', 'and', 'the', 'term', 'Hindu', 'appears', 'in', 'some', 'texts', 'dated', 'between', 'the', '13th', 'and', '18th', 'century', 'in', 'Sanskrit', 'and', 'Bengali.', 'The', '14th-', 'and', '18th-century', 'Indian', 'poets', 'such', 'as', 'Vidyapati,', 'Kabir', 'and', 'Eknath', 'used', 'the', 'phrase', 'Hindu', 'dharma', '(Hinduism)', 'and', 'contrasted', 'it', 'with', 'Turaka', 'dharma', '(Islam).', 'The', 'Christian', 'friar', 'Sebastiao', 'Manrique', 'used', 'the', 'term', \"'Hindu'\", 'in', 'religious', 'context', 'in', '1649.', 'In', 'the', '18th', 'century,', 'the', 'European', 'merchants', 'and', 'colonists', 'began', 'to', 'refer', 'to', 'the', 'followers', 'of', 'Indian', 'religions', 'collectively', 'as', 'Hindus,', 'in', 'contrast', 'to', 'Mohamedans', 'for', 'Mughals', 'and', 'Arabs', 'following', 'Islam.', 'By', 'the', 'mid-19th', 'century,', 'colonial', 'orientalist', 'texts', 'further', 'distinguished', 'Hindus', 'from', 'Buddhists,', 'Sikhs', 'and', 'Jains,', 'but', 'the', 'colonial', 'laws', 'continued', 'to', 'consider', 'all', 'of', 'them', 'to', 'be', 'within', 'the', 'scope', 'of', 'the', 'term', 'Hindu', 'until', 'about', 'mid-20th', 'century.']\n"
     ]
    }
   ],
   "source": [
    "# A problematic implementation for word tokenization.\n",
    "\n",
    "def tokenize(text):\n",
    "    tokens = []\n",
    "    tok = \"\"\n",
    "    for ch in text:\n",
    "        if ch == \" \":\n",
    "            if tok:\n",
    "                tokens.append(tok)\n",
    "                tok = \"\"\n",
    "        else:\n",
    "            tok += ch\n",
    "    if tok:\n",
    "        tokens.append(tok)\n",
    "    return tokens\n",
    "\n",
    "print(len(tokenize(text)))\n",
    "print(tokenize(text))\n"
   ]
  },
  {
   "cell_type": "markdown",
   "metadata": {},
   "source": [
    "## How to compare if two lists are identical?\n"
   ]
  },
  {
   "cell_type": "code",
   "execution_count": null,
   "metadata": {},
   "outputs": [],
   "source": []
  },
  {
   "cell_type": "markdown",
   "metadata": {
    "slideshow": {
     "slide_type": "slide"
    }
   },
   "source": [
    "## Counting"
   ]
  },
  {
   "cell_type": "code",
   "execution_count": 21,
   "metadata": {
    "ExecuteTime": {
     "end_time": "2019-06-15T12:01:24.562552Z",
     "start_time": "2019-06-15T12:01:24.549269Z"
    }
   },
   "outputs": [
    {
     "name": "stdout",
     "output_type": "stream",
     "text": [
      "the\t35\n",
      ",\t33\n",
      "[\t30\n",
      "]\t30\n",
      ".\t18\n",
      "and\t16\n",
      "of\t14\n",
      "to\t12\n",
      "in\t12\n",
      "Hindu\t11\n",
      "or\t6\n",
      "term\t6\n",
      "century\t6\n",
      "Hindus\t6\n",
      "a\t5\n",
      "The\t5\n",
      "as\t4\n",
      "for\t4\n",
      "Indian\t4\n",
      "3\t4\n"
     ]
    }
   ],
   "source": [
    "from collections import Counter\n",
    "\n",
    "tokens = word_tokenize(text)\n",
    "word_count = Counter(tokens)\n",
    "\n",
    "for w, c in word_count.most_common(20):\n",
    "    print(\"%s\\t%d\" % (w, c))"
   ]
  },
  {
   "cell_type": "markdown",
   "metadata": {},
   "source": [
    "## Removal of Punctuation Marks"
   ]
  },
  {
   "cell_type": "code",
   "execution_count": 79,
   "metadata": {
    "ExecuteTime": {
     "end_time": "2019-06-15T12:01:24.568215Z",
     "start_time": "2019-06-15T12:01:24.564796Z"
    }
   },
   "outputs": [
    {
     "name": "stdout",
     "output_type": "stream",
     "text": [
      "!\"#$%&'()*+,-./:;<=>?@[\\]^_`{|}~\n"
     ]
    }
   ],
   "source": [
    "import string\n",
    "print(string.punctuation)       "
   ]
  },
  {
   "cell_type": "code",
   "execution_count": 20,
   "metadata": {
    "ExecuteTime": {
     "end_time": "2019-06-15T12:01:24.574857Z",
     "start_time": "2019-06-15T12:01:24.570534Z"
    }
   },
   "outputs": [
    {
     "name": "stdout",
     "output_type": "stream",
     "text": [
      "['Hindu', 'refers', 'to', 'any', 'person', 'who', 'regards', 'themselves', 'as', 'culturally', 'ethnically', 'or', 'religiously', 'adhering', 'to', 'aspects', 'of', 'Hinduism', '1', '2', 'It', 'has', 'historically', 'been', 'used', 'as', 'a', 'geographical', 'cultural', 'and', 'later', 'religious', 'identifier', 'for', 'people', 'indigenous', 'to', 'the', 'Indian', 'subcontinent', '3', '4', 'The', 'historical', 'meaning', 'of', 'the', 'term', 'Hindu', 'has', 'evolved', 'with', 'time', 'Starting', 'with', 'the', 'Persian', 'and', 'Greek', 'references', 'to', 'the', 'land', 'of', 'the', 'Indus', 'in', 'the', '1st', 'millennium', 'BCE', 'through', 'the', 'texts', 'of', 'the', 'medieval', 'era', '5', 'the', 'term', 'Hindu', 'implied', 'a', 'geographic', 'ethnic', 'or', 'cultural', 'identifier', 'for', 'people', 'living', 'in', 'the', 'Indian', 'subcontinent', 'around', 'or', 'beyond', 'the', 'Sindhu', 'Indus', 'river', '6', 'By', 'the', '16th', 'century', 'the', 'term', 'began', 'to', 'refer', 'to', 'residents', 'of', 'the', 'subcontinent', 'who', 'were', 'not', 'Turkic', 'or', 'Muslims', '6', 'a', 'b', 'The', 'historical', 'development', 'of', 'Hindu', 'self-identity', 'within', 'the', 'local', 'South', 'Asian', 'population', 'in', 'a', 'religious', 'or', 'cultural', 'sense', 'is', 'unclear', '3', '7', 'Competing', 'theories', 'state', 'that', 'Hindu', 'identity', 'developed', 'in', 'the', 'British', 'colonial', 'era', 'or', 'that', 'it', 'developed', 'post-8th', 'century', 'CE', 'after', 'the', 'Islamic', 'invasion', 'and', 'medieval', 'Hindu-Muslim', 'wars', '7', '8', '9', 'A', 'sense', 'of', 'Hindu', 'identity', 'and', 'the', 'term', 'Hindu', 'appears', 'in', 'some', 'texts', 'dated', 'between', 'the', '13th', 'and', '18th', 'century', 'in', 'Sanskrit', 'and', 'regional', 'languages', '8', '10', 'The', '14th-', 'and', '18th-century', 'Indian', 'poets', 'such', 'as', 'Vidyapati', 'Kabir', 'and', 'Eknath', 'used', 'the', 'phrase', 'Hindu', 'dharma', 'Hinduism', 'and', 'contrasted', 'it', 'with', 'Turaka', 'dharma', 'Islam', '11', 'The', 'Christian', 'friar', 'Sebastiao', 'Manrique', 'used', 'the', 'term', \"'Hindu\", 'in', 'religious', 'context', 'in', '1649', '12', 'In', 'the', '18th', 'century', 'the', 'European', 'merchants', 'and', 'colonists', 'began', 'to', 'refer', 'to', 'the', 'followers', 'of', 'Indian', 'religions', 'collectively', 'as', 'Hindus', 'in', 'contrast', 'to', 'Mohamedans', 'for', 'Mughals', 'and', 'Arabs', 'following', 'Islam', '3', '6', 'By', 'the', 'mid-19th', 'century', 'colonial', 'orientalist', 'texts', 'further', 'distinguished', 'Hindus', 'from', 'Buddhists', 'Sikhs', 'and', 'Jains', '3', 'but', 'the', 'colonial', 'laws', 'continued', 'to', 'consider', 'all', 'of', 'them', 'to', 'be', 'within', 'the', 'scope', 'of', 'the', 'term', 'Hindu', 'until', 'about', 'mid-20th', 'century', '13', 'Scholars', 'state', 'that', 'the', 'custom', 'of', 'distinguishing', 'between', 'Hindus', 'Buddhists', 'Jains', 'and', 'Sikhs', 'is', 'a', 'modern', 'phenomenon', '14', '15', 'Hindoo', 'is', 'an', 'archaic', 'spelling', 'variant', 'whose', 'use', 'today', 'may', 'be', 'considered', 'derogatory', '16', '17', 'At', 'more', 'than', '1.03', 'billion', '18', 'Hindus', 'are', 'the', 'world', \"'s\", 'third', 'largest', 'group', 'after', 'Christians', 'and', 'Muslims', 'The', 'vast', 'majority', 'of', 'Hindus', 'approximately', '966', 'million', 'live', 'in', 'India', 'according', 'to', 'India', \"'s\", '2011', 'census', '19', 'After', 'India', 'the', 'next', '9', 'countries', 'with', 'the', 'largest', 'Hindu', 'populations', 'are', 'in', 'decreasing', 'order', 'Nepal', 'Bangladesh', 'Indonesia', 'Pakistan', 'Sri', 'Lanka', 'United', 'States', 'Malaysia', 'United', 'Kingdom', 'and', 'Myanmar', '20', 'These', 'together', 'accounted', 'for', '99', 'of', 'the', 'world', \"'s\", 'Hindu', 'population', 'and', 'the', 'remaining', 'nations', 'of', 'the', 'world', 'together', 'had', 'about', '6', 'million', 'Hindus', 'in', '2010', '20']\n"
     ]
    }
   ],
   "source": [
    "def remove_punctuation_marks(tokens):\n",
    "    clean_tokens = []\n",
    "    for tok in tokens:\n",
    "        if tok not in string.punctuation:\n",
    "            clean_tokens.append(tok)\n",
    "    return clean_tokens\n",
    "\n",
    "print(remove_punctuation_marks(tokens))"
   ]
  },
  {
   "cell_type": "markdown",
   "metadata": {
    "slideshow": {
     "slide_type": "subslide"
    }
   },
   "source": [
    "## Method 2. Removing all tokens that contain characters other than letters. "
   ]
  },
  {
   "cell_type": "code",
   "execution_count": 81,
   "metadata": {
    "ExecuteTime": {
     "end_time": "2019-06-15T12:01:24.581292Z",
     "start_time": "2019-06-15T12:01:24.576977Z"
    }
   },
   "outputs": [
    {
     "name": "stdout",
     "output_type": "stream",
     "text": [
      "['Rembrandt', 'Harmenszoon', 'van', 'Rijn', 'also', 'US', 'Dutch', 'ˈrɛmbrɑnt', 'ˈɦɑrmə', 'n', 'soːn', 'vɑn', 'ˈrɛin', 'listen', 'July', 'October', 'was', 'a', 'Dutch', 'draughtsman', 'painter', 'and', 'printmaker', 'An', 'innovative', 'and', 'prolific', 'master', 'in', 'three', 'media', 'he', 'is', 'generally', 'considered', 'one', 'of', 'the', 'greatest', 'visual', 'artists', 'in', 'the', 'history', 'of', 'art', 'and', 'the', 'most', 'important', 'in', 'Dutch', 'art', 'history', 'Unlike', 'most', 'Dutch', 'masters', 'of', 'the', 'century', 'Rembrandt', 'works', 'depict', 'a', 'wide', 'range', 'of', 'style', 'and', 'subject', 'matter', 'from', 'portraits', 'and', 'to', 'landscapes', 'genre', 'scenes', 'allegorical', 'and', 'historical', 'scenes', 'and', 'biblical', 'and', 'mythological', 'themes', 'as', 'well', 'as', 'animal', 'studies', 'His', 'contributions', 'to', 'art', 'came', 'in', 'a', 'period', 'of', 'great', 'wealth', 'and', 'cultural', 'achievement', 'that', 'historians', 'call', 'the', 'Dutch', 'Golden', 'Age', 'when', 'Dutch', 'art', 'especially', 'Dutch', 'painting', 'although', 'in', 'many', 'ways', 'antithetical', 'to', 'the', 'Baroque', 'style', 'that', 'dominated', 'Europe', 'was', 'extremely', 'prolific', 'and', 'innovative', 'and', 'gave', 'rise', 'to', 'important', 'new', 'genres', 'Like', 'many', 'artists', 'of', 'the', 'Dutch', 'Golden', 'Age', 'such', 'as', 'Jan', 'Vermeer', 'of', 'Delft', 'Rembrandt', 'was', 'also', 'an', 'avid', 'art', 'collector', 'and', 'dealer', 'Rembrandt', 'never', 'went', 'abroad', 'but', 'he', 'was', 'considerably', 'influenced', 'by', 'the', 'work', 'of', 'the', 'Italian', 'masters', 'and', 'Netherlandish', 'artists', 'who', 'had', 'studied', 'in', 'Italy', 'like', 'Pieter', 'Lastman', 'the', 'Utrecht', 'Caravaggists', 'and', 'Flemish', 'Baroque', 'Peter', 'Paul', 'Rubens', 'After', 'he', 'achieved', 'youthful', 'success', 'as', 'a', 'portrait', 'painter', 'Rembrandt', 'later', 'years', 'were', 'marked', 'by', 'personal', 'tragedy', 'and', 'financial', 'hardships', 'Yet', 'his', 'etchings', 'and', 'paintings', 'were', 'popular', 'throughout', 'his', 'lifetime', 'his', 'reputation', 'as', 'an', 'artist', 'remained', 'high', 'and', 'for', 'twenty', 'years', 'he', 'taught', 'many', 'important', 'Dutch', 'portraits', 'of', 'his', 'contemporaries', 'and', 'illustrations', 'of', 'scenes', 'from', 'the', 'Bible', 'are', 'regarded', 'as', 'his', 'greatest', 'creative', 'triumphs', 'His', 'form', 'a', 'unique', 'and', 'intimate', 'biography', 'in', 'which', 'the', 'artist', 'surveyed', 'himself', 'without', 'vanity', 'and', 'with', 'the', 'utmost', 'sincerity', 'Rembrandt', 'foremost', 'contribution', 'in', 'the', 'history', 'of', 'printmaking', 'was', 'his', 'transformation', 'of', 'the', 'etching', 'process', 'from', 'a', 'relatively', 'new', 'reproductive', 'technique', 'into', 'a', 'true', 'art', 'form', 'along', 'with', 'Jacques', 'Callot']\n"
     ]
    }
   ],
   "source": [
    "def remove_punctuation_marks(tokens):\n",
    "    clean_tokens = []\n",
    "    for tok in tokens:\n",
    "        if tok.isalpha():\n",
    "            clean_tokens.append(tok)\n",
    "    return clean_tokens\n",
    "\n",
    "print(remove_punctuation_marks(tokens))"
   ]
  },
  {
   "cell_type": "markdown",
   "metadata": {},
   "source": [
    "A shorter implementation with Python generator."
   ]
  },
  {
   "cell_type": "code",
   "execution_count": 8,
   "metadata": {
    "ExecuteTime": {
     "end_time": "2019-06-15T12:01:24.588252Z",
     "start_time": "2019-06-15T12:01:24.583379Z"
    }
   },
   "outputs": [
    {
     "name": "stdout",
     "output_type": "stream",
     "text": [
      "['Hindus', 'Hindustani', 'ˈɦɪndu', 'listen', 'are', 'persons', 'who', 'regard', 'themselves', 'as', 'culturally', 'ethnically', 'or', 'religiously', 'adhering', 'to', 'aspects', 'of', 'Hinduism', 'Historically', 'the', 'term', 'has', 'also', 'been', 'used', 'as', 'a', 'geographical', 'cultural', 'and', 'later', 'religious', 'identifier', 'for', 'people', 'living', 'in', 'the', 'Indian', 'historical', 'meaning', 'of', 'the', 'term', 'Hindu', 'has', 'evolved', 'with', 'time', 'Starting', 'with', 'the', 'Persian', 'and', 'Greek', 'references', 'to', 'the', 'land', 'of', 'the', 'Indus', 'in', 'the', 'millennium', 'BCE', 'through', 'the', 'texts', 'of', 'the', 'medieval', 'era', 'the', 'term', 'Hindu', 'implied', 'a', 'geographic', 'ethnic', 'or', 'cultural', 'identifier', 'for', 'people', 'living', 'in', 'the', 'Indian', 'subcontinent', 'around', 'or', 'beyond', 'the', 'Sindhu', 'Indus', 'river', 'By', 'the', 'century', 'the', 'term', 'began', 'to', 'refer', 'to', 'residents', 'of', 'the', 'subcontinent', 'who', 'were', 'not', 'Turkic', 'or', 'historical', 'development', 'of', 'Hindu', 'within', 'the', 'local', 'South', 'Asian', 'population', 'in', 'a', 'religious', 'or', 'cultural', 'sense', 'is', 'unclear', 'Competing', 'theories', 'state', 'that', 'Hindu', 'identity', 'developed', 'in', 'the', 'British', 'colonial', 'era', 'or', 'that', 'it', 'may', 'have', 'developed', 'century', 'CE', 'after', 'the', 'Islamic', 'invasion', 'and', 'medieval', 'wars', 'A', 'sense', 'of', 'Hindu', 'identity', 'and', 'the', 'term', 'Hindu', 'appears', 'in', 'some', 'texts', 'dated', 'between', 'the', 'and', 'century', 'in', 'Sanskrit', 'and', 'Bengali', 'The', 'and', 'Indian', 'poets', 'such', 'as', 'Vidyapati', 'Kabir', 'and', 'Eknath', 'used', 'the', 'phrase', 'Hindu', 'dharma', 'Hinduism', 'and', 'contrasted', 'it', 'with', 'Turaka', 'dharma', 'Islam', 'The', 'Christian', 'friar', 'Sebastiao', 'Manrique', 'used', 'the', 'term', 'in', 'religious', 'context', 'in', 'In', 'the', 'century', 'the', 'European', 'merchants', 'and', 'colonists', 'began', 'to', 'refer', 'to', 'the', 'followers', 'of', 'Indian', 'religions', 'collectively', 'as', 'Hindus', 'in', 'contrast', 'to', 'Mohamedans', 'for', 'Mughals', 'and', 'Arabs', 'following', 'Islam', 'By', 'the', 'century', 'colonial', 'orientalist', 'texts', 'further', 'distinguished', 'Hindus', 'from', 'Buddhists', 'Sikhs', 'and', 'Jains', 'but', 'the', 'colonial', 'laws', 'continued', 'to', 'consider', 'all', 'of', 'them', 'to', 'be', 'within', 'the', 'scope', 'of', 'the', 'term', 'Hindu', 'until', 'about', 'century']\n"
     ]
    }
   ],
   "source": [
    "def remove_punctuation_marks(tokens):\n",
    "    return [tok for tok in tokens if tok.isalpha()]\n",
    "\n",
    "print(remove_punctuation_marks(tokens))"
   ]
  },
  {
   "cell_type": "markdown",
   "metadata": {},
   "source": [
    "New counting results with the removal of punctuations and digits."
   ]
  },
  {
   "cell_type": "code",
   "execution_count": 9,
   "metadata": {
    "ExecuteTime": {
     "end_time": "2019-06-15T12:01:24.594658Z",
     "start_time": "2019-06-15T12:01:24.590429Z"
    }
   },
   "outputs": [
    {
     "name": "stdout",
     "output_type": "stream",
     "text": [
      "the\t29\n",
      "and\t12\n",
      "of\t10\n",
      "in\t10\n",
      "to\t9\n",
      "Hindu\t8\n",
      "term\t7\n",
      "or\t6\n",
      "century\t6\n",
      "as\t4\n"
     ]
    }
   ],
   "source": [
    "tokens = remove_punctuation_marks(tokens)\n",
    "word_count = Counter(tokens)\n",
    "\n",
    "for w, c in word_count.most_common(10):\n",
    "    print(\"%s\\t%d\" % (w, c))\n",
    "    "
   ]
  },
  {
   "cell_type": "markdown",
   "metadata": {
    "slideshow": {
     "slide_type": "slide"
    }
   },
   "source": [
    "## Stopword Removal\n",
    "\n",
    "Load an English stopword list from NTLK."
   ]
  },
  {
   "cell_type": "code",
   "execution_count": 11,
   "metadata": {
    "ExecuteTime": {
     "end_time": "2019-06-15T12:01:46.636862Z",
     "start_time": "2019-06-15T12:01:45.889642Z"
    }
   },
   "outputs": [
    {
     "name": "stdout",
     "output_type": "stream",
     "text": [
      "['i', 'me', 'my', 'myself', 'we', 'our', 'ours', 'ourselves', 'you', \"you're\", \"you've\", \"you'll\", \"you'd\", 'your', 'yours', 'yourself', 'yourselves', 'he', 'him', 'his', 'himself', 'she', \"she's\", 'her', 'hers', 'herself', 'it', \"it's\", 'its', 'itself', 'they', 'them', 'their', 'theirs', 'themselves', 'what', 'which', 'who', 'whom', 'this', 'that', \"that'll\", 'these', 'those', 'am', 'is', 'are', 'was', 'were', 'be', 'been', 'being', 'have', 'has', 'had', 'having', 'do', 'does', 'did', 'doing', 'a', 'an', 'the', 'and', 'but', 'if', 'or', 'because', 'as', 'until', 'while', 'of', 'at', 'by', 'for', 'with', 'about', 'against', 'between', 'into', 'through', 'during', 'before', 'after', 'above', 'below', 'to', 'from', 'up', 'down', 'in', 'out', 'on', 'off', 'over', 'under', 'again', 'further', 'then', 'once', 'here', 'there', 'when', 'where', 'why', 'how', 'all', 'any', 'both', 'each', 'few', 'more', 'most', 'other', 'some', 'such', 'no', 'nor', 'not', 'only', 'own', 'same', 'so', 'than', 'too', 'very', 's', 't', 'can', 'will', 'just', 'don', \"don't\", 'should', \"should've\", 'now', 'd', 'll', 'm', 'o', 're', 've', 'y', 'ain', 'aren', \"aren't\", 'couldn', \"couldn't\", 'didn', \"didn't\", 'doesn', \"doesn't\", 'hadn', \"hadn't\", 'hasn', \"hasn't\", 'haven', \"haven't\", 'isn', \"isn't\", 'ma', 'mightn', \"mightn't\", 'mustn', \"mustn't\", 'needn', \"needn't\", 'shan', \"shan't\", 'shouldn', \"shouldn't\", 'wasn', \"wasn't\", 'weren', \"weren't\", 'won', \"won't\", 'wouldn', \"wouldn't\"]\n"
     ]
    },
    {
     "name": "stderr",
     "output_type": "stream",
     "text": [
      "[nltk_data] Downloading package stopwords to\n",
      "[nltk_data]     /Users/jirlong/nltk_data...\n",
      "[nltk_data]   Package stopwords is already up-to-date!\n"
     ]
    }
   ],
   "source": [
    "import nltk\n",
    "from nltk.corpus import stopwords\n",
    "nltk.download('stopwords')\n",
    "stopword_list = stopwords.words('english')\n",
    "print(stopword_list)"
   ]
  },
  {
   "cell_type": "markdown",
   "metadata": {},
   "source": [
    "Remove stopwords from the tokens."
   ]
  },
  {
   "cell_type": "code",
   "execution_count": 12,
   "metadata": {
    "ExecuteTime": {
     "end_time": "2019-06-15T12:01:54.970278Z",
     "start_time": "2019-06-15T12:01:54.964978Z"
    }
   },
   "outputs": [
    {
     "name": "stdout",
     "output_type": "stream",
     "text": [
      "['Hindus', 'Hindustani', 'ˈɦɪndu', 'listen', 'persons', 'regard', 'culturally', 'ethnically', 'religiously', 'adhering', 'aspects', 'Hinduism', 'Historically', 'term', 'also', 'used', 'geographical', 'cultural', 'later', 'religious', 'identifier', 'people', 'living', 'Indian', 'historical', 'meaning', 'term', 'Hindu', 'evolved', 'time', 'Starting', 'Persian', 'Greek', 'references', 'land', 'Indus', 'millennium', 'BCE', 'texts', 'medieval', 'era', 'term', 'Hindu', 'implied', 'geographic', 'ethnic', 'cultural', 'identifier', 'people', 'living', 'Indian', 'subcontinent', 'around', 'beyond', 'Sindhu', 'Indus', 'river', 'By', 'century', 'term', 'began', 'refer', 'residents', 'subcontinent', 'Turkic', 'historical', 'development', 'Hindu', 'within', 'local', 'South', 'Asian', 'population', 'religious', 'cultural', 'sense', 'unclear', 'Competing', 'theories', 'state', 'Hindu', 'identity', 'developed', 'British', 'colonial', 'era', 'may', 'developed', 'century', 'CE', 'Islamic', 'invasion', 'medieval', 'wars', 'A', 'sense', 'Hindu', 'identity', 'term', 'Hindu', 'appears', 'texts', 'dated', 'century', 'Sanskrit', 'Bengali', 'The', 'Indian', 'poets', 'Vidyapati', 'Kabir', 'Eknath', 'used', 'phrase', 'Hindu', 'dharma', 'Hinduism', 'contrasted', 'Turaka', 'dharma', 'Islam', 'The', 'Christian', 'friar', 'Sebastiao', 'Manrique', 'used', 'term', 'religious', 'context', 'In', 'century', 'European', 'merchants', 'colonists', 'began', 'refer', 'followers', 'Indian', 'religions', 'collectively', 'Hindus', 'contrast', 'Mohamedans', 'Mughals', 'Arabs', 'following', 'Islam', 'By', 'century', 'colonial', 'orientalist', 'texts', 'distinguished', 'Hindus', 'Buddhists', 'Sikhs', 'Jains', 'colonial', 'laws', 'continued', 'consider', 'within', 'scope', 'term', 'Hindu', 'century']\n"
     ]
    }
   ],
   "source": [
    "def remove_stopwords(tokens):\n",
    "    tokens_clean = []\n",
    "    for tok in tokens:\n",
    "        if tok not in stopword_list:\n",
    "            tokens_clean.append(tok)\n",
    "    return tokens_clean\n",
    "\n",
    "print(remove_stopwords(tokens))"
   ]
  },
  {
   "cell_type": "markdown",
   "metadata": {
    "slideshow": {
     "slide_type": "slide"
    }
   },
   "source": [
    "## Handle Capitalization in English"
   ]
  },
  {
   "cell_type": "markdown",
   "metadata": {},
   "source": [
    "### Solution 1: Converting all characters to lowercase. "
   ]
  },
  {
   "cell_type": "code",
   "execution_count": 13,
   "metadata": {
    "ExecuteTime": {
     "end_time": "2019-06-15T12:02:09.911982Z",
     "start_time": "2019-06-15T12:02:09.906382Z"
    }
   },
   "outputs": [
    {
     "name": "stdout",
     "output_type": "stream",
     "text": [
      "['hindus', 'hindustani', 'ˈɦɪndu', 'listen', 'persons', 'regard', 'culturally', 'ethnically', 'religiously', 'adhering', 'aspects', 'hinduism', 'historically', 'term', 'also', 'used', 'geographical', 'cultural', 'later', 'religious', 'identifier', 'people', 'living', 'indian', 'historical', 'meaning', 'term', 'hindu', 'evolved', 'time', 'starting', 'persian', 'greek', 'references', 'land', 'indus', 'millennium', 'bce', 'texts', 'medieval', 'era', 'term', 'hindu', 'implied', 'geographic', 'ethnic', 'cultural', 'identifier', 'people', 'living', 'indian', 'subcontinent', 'around', 'beyond', 'sindhu', 'indus', 'river', 'century', 'term', 'began', 'refer', 'residents', 'subcontinent', 'turkic', 'historical', 'development', 'hindu', 'within', 'local', 'south', 'asian', 'population', 'religious', 'cultural', 'sense', 'unclear', 'competing', 'theories', 'state', 'hindu', 'identity', 'developed', 'british', 'colonial', 'era', 'may', 'developed', 'century', 'ce', 'islamic', 'invasion', 'medieval', 'wars', 'sense', 'hindu', 'identity', 'term', 'hindu', 'appears', 'texts', 'dated', 'century', 'sanskrit', 'bengali', 'indian', 'poets', 'vidyapati', 'kabir', 'eknath', 'used', 'phrase', 'hindu', 'dharma', 'hinduism', 'contrasted', 'turaka', 'dharma', 'islam', 'christian', 'friar', 'sebastiao', 'manrique', 'used', 'term', 'religious', 'context', 'century', 'european', 'merchants', 'colonists', 'began', 'refer', 'followers', 'indian', 'religions', 'collectively', 'hindus', 'contrast', 'mohamedans', 'mughals', 'arabs', 'following', 'islam', 'century', 'colonial', 'orientalist', 'texts', 'distinguished', 'hindus', 'buddhists', 'sikhs', 'jains', 'colonial', 'laws', 'continued', 'consider', 'within', 'scope', 'term', 'hindu', 'century']\n"
     ]
    }
   ],
   "source": [
    "def lowercase(tokens):\n",
    "    tokens_lower = []\n",
    "    for tok in tokens:\n",
    "        tokens_lower.append(tok.lower())\n",
    "    return tokens_lower\n",
    "\n",
    "print(remove_stopwords(lowercase(tokens)))\n"
   ]
  },
  {
   "cell_type": "markdown",
   "metadata": {},
   "source": [
    "### Solution 2: Maintain the capitalization."
   ]
  },
  {
   "cell_type": "code",
   "execution_count": 14,
   "metadata": {
    "ExecuteTime": {
     "end_time": "2019-06-15T12:02:25.460493Z",
     "start_time": "2019-06-15T12:02:25.454796Z"
    }
   },
   "outputs": [
    {
     "name": "stdout",
     "output_type": "stream",
     "text": [
      "['Hindus', 'Hindustani', 'ˈɦɪndu', 'listen', 'persons', 'regard', 'culturally', 'ethnically', 'religiously', 'adhering', 'aspects', 'Hinduism', 'Historically', 'term', 'also', 'used', 'geographical', 'cultural', 'later', 'religious', 'identifier', 'people', 'living', 'Indian', 'historical', 'meaning', 'term', 'Hindu', 'evolved', 'time', 'Starting', 'Persian', 'Greek', 'references', 'land', 'Indus', 'millennium', 'BCE', 'texts', 'medieval', 'era', 'term', 'Hindu', 'implied', 'geographic', 'ethnic', 'cultural', 'identifier', 'people', 'living', 'Indian', 'subcontinent', 'around', 'beyond', 'Sindhu', 'Indus', 'river', 'century', 'term', 'began', 'refer', 'residents', 'subcontinent', 'Turkic', 'historical', 'development', 'Hindu', 'within', 'local', 'South', 'Asian', 'population', 'religious', 'cultural', 'sense', 'unclear', 'Competing', 'theories', 'state', 'Hindu', 'identity', 'developed', 'British', 'colonial', 'era', 'may', 'developed', 'century', 'CE', 'Islamic', 'invasion', 'medieval', 'wars', 'sense', 'Hindu', 'identity', 'term', 'Hindu', 'appears', 'texts', 'dated', 'century', 'Sanskrit', 'Bengali', 'Indian', 'poets', 'Vidyapati', 'Kabir', 'Eknath', 'used', 'phrase', 'Hindu', 'dharma', 'Hinduism', 'contrasted', 'Turaka', 'dharma', 'Islam', 'Christian', 'friar', 'Sebastiao', 'Manrique', 'used', 'term', 'religious', 'context', 'century', 'European', 'merchants', 'colonists', 'began', 'refer', 'followers', 'Indian', 'religions', 'collectively', 'Hindus', 'contrast', 'Mohamedans', 'Mughals', 'Arabs', 'following', 'Islam', 'century', 'colonial', 'orientalist', 'texts', 'distinguished', 'Hindus', 'Buddhists', 'Sikhs', 'Jains', 'colonial', 'laws', 'continued', 'consider', 'within', 'scope', 'term', 'Hindu', 'century']\n"
     ]
    }
   ],
   "source": [
    "def remove_stopwords(tokens):\n",
    "    tokens_clean = []\n",
    "    for tok in tokens:\n",
    "        if tok.lower() not in stopword_list:\n",
    "            tokens_clean.append(tok)\n",
    "    return tokens_clean\n",
    "print(remove_stopwords(tokens))\n"
   ]
  },
  {
   "cell_type": "markdown",
   "metadata": {},
   "source": [
    "### New counting results with the removal of stopwords."
   ]
  },
  {
   "cell_type": "code",
   "execution_count": 15,
   "metadata": {
    "ExecuteTime": {
     "end_time": "2019-06-15T12:04:59.666073Z",
     "start_time": "2019-06-15T12:04:59.660387Z"
    }
   },
   "outputs": [
    {
     "name": "stdout",
     "output_type": "stream",
     "text": [
      "Hindu\t8\n",
      "term\t7\n",
      "century\t6\n",
      "Indian\t4\n",
      "Hindus\t3\n",
      "used\t3\n",
      "cultural\t3\n",
      "religious\t3\n",
      "texts\t3\n",
      "colonial\t3\n",
      "Hinduism\t2\n",
      "identifier\t2\n",
      "people\t2\n",
      "living\t2\n",
      "historical\t2\n",
      "Indus\t2\n",
      "medieval\t2\n",
      "era\t2\n",
      "subcontinent\t2\n",
      "began\t2\n"
     ]
    }
   ],
   "source": [
    "word_count = Counter(remove_stopwords(tokens))\n",
    "\n",
    "for w, c in word_count.most_common(20):\n",
    "    print(\"%s\\t%d\" % (w, c))"
   ]
  },
  {
   "cell_type": "markdown",
   "metadata": {},
   "source": [
    "### Unicase results with the removal of stopwords."
   ]
  },
  {
   "cell_type": "code",
   "execution_count": 16,
   "metadata": {
    "ExecuteTime": {
     "end_time": "2019-06-15T12:05:09.418191Z",
     "start_time": "2019-06-15T12:05:09.411483Z"
    }
   },
   "outputs": [
    {
     "name": "stdout",
     "output_type": "stream",
     "text": [
      "hindu\t8\n",
      "term\t7\n",
      "century\t6\n",
      "indian\t4\n",
      "hindus\t3\n",
      "used\t3\n",
      "cultural\t3\n",
      "religious\t3\n",
      "texts\t3\n",
      "colonial\t3\n",
      "hinduism\t2\n",
      "identifier\t2\n",
      "people\t2\n",
      "living\t2\n",
      "historical\t2\n",
      "indus\t2\n",
      "medieval\t2\n",
      "era\t2\n",
      "subcontinent\t2\n",
      "began\t2\n"
     ]
    }
   ],
   "source": [
    "word_count = Counter(remove_stopwords(lowercase(tokens)))\n",
    "\n",
    "for w, c in word_count.most_common(20):\n",
    "    print(\"%s\\t%d\" % (w, c))"
   ]
  },
  {
   "cell_type": "markdown",
   "metadata": {},
   "source": [
    "## Stemming"
   ]
  },
  {
   "cell_type": "markdown",
   "metadata": {},
   "source": [
    "Stemming with Snowball algorithm implemented by NLTK.\n",
    "\n",
    "Reference: http://snowball.tartarus.org/texts/introduction.html"
   ]
  },
  {
   "cell_type": "code",
   "execution_count": 90,
   "metadata": {
    "ExecuteTime": {
     "end_time": "2019-06-15T12:06:01.751877Z",
     "start_time": "2019-06-15T12:06:01.739792Z"
    }
   },
   "outputs": [
    {
     "name": "stdout",
     "output_type": "stream",
     "text": [
      "dutch\t9\n",
      "rembrandt\t6\n",
      "art\t6\n",
      "artist\t5\n",
      "master\t3\n",
      "histori\t3\n",
      "import\t3\n",
      "portrait\t3\n",
      "scene\t3\n",
      "mani\t3\n",
      "also\t2\n",
      "painter\t2\n",
      "printmak\t2\n",
      "innov\t2\n",
      "prolif\t2\n",
      "greatest\t2\n",
      "work\t2\n",
      "style\t2\n",
      "genr\t2\n",
      "studi\t2\n",
      "contribut\t2\n",
      "achiev\t2\n",
      "golden\t2\n",
      "age\t2\n",
      "paint\t2\n",
      "baroqu\t2\n",
      "new\t2\n",
      "like\t2\n",
      "year\t2\n",
      "etch\t2\n",
      "form\t2\n",
      "harmenszoon\t1\n",
      "van\t1\n",
      "rijn\t1\n",
      "us\t1\n",
      "ˈrɛmbrɑnt\t1\n",
      "ˈɦɑrmə\t1\n",
      "n\t1\n",
      "soːn\t1\n",
      "vɑn\t1\n",
      "ˈrɛin\t1\n",
      "listen\t1\n",
      "juli\t1\n",
      "octob\t1\n",
      "draughtsman\t1\n",
      "three\t1\n",
      "media\t1\n",
      "general\t1\n",
      "consid\t1\n",
      "one\t1\n"
     ]
    }
   ],
   "source": [
    "from nltk.stem.snowball import SnowballStemmer\n",
    "snowball_stemmer = SnowballStemmer(\"english\")\n",
    "\n",
    "stemmed_tokens = []\n",
    "for tok in remove_stopwords(tokens):\n",
    "    stemmed_tokens.append(snowball_stemmer.stem(tok))\n",
    "word_count = Counter(stemmed_tokens)\n",
    "\n",
    "for w, c in word_count.most_common(50):\n",
    "    print(\"%s\\t%d\" % (w, c))\n"
   ]
  },
  {
   "cell_type": "markdown",
   "metadata": {},
   "source": [
    "## Lemmatization\n",
    "\n",
    "Perform lemmatization with WordNet, a lexical ontology, via NLTK. This is a lazy version that does not require part-of-speech information given. "
   ]
  },
  {
   "cell_type": "code",
   "execution_count": 91,
   "metadata": {
    "ExecuteTime": {
     "end_time": "2019-06-15T12:06:37.782946Z",
     "start_time": "2019-06-15T12:06:37.776928Z"
    }
   },
   "outputs": [
    {
     "name": "stdout",
     "output_type": "stream",
     "text": [
      "Dogs\n",
      "dog\n",
      "hit\n"
     ]
    }
   ],
   "source": [
    "# import nltk\n",
    "# nltk.download('wordnet')\n",
    "from nltk.stem import WordNetLemmatizer\n",
    "wordnet_lemmatizer = WordNetLemmatizer()\n",
    "\n",
    "def lemmatize(token):\n",
    "    # ADJ (a), ADJ_SAT (s), ADV (r), NOUN (n) or VERB (v)\n",
    "    for p in ['v', 'n', 'a', 'r', 's']:\n",
    "        l = wordnet_lemmatizer.lemmatize(token, pos=p)\n",
    "        if l != token:\n",
    "            return l\n",
    "    return token\n",
    "\n",
    "print(lemmatize('Dogs'))\n",
    "print(lemmatize('dogs'))\n",
    "print(lemmatize('hits'))\n"
   ]
  },
  {
   "cell_type": "markdown",
   "metadata": {},
   "source": [
    "Show the differences between stemming and lemmatization."
   ]
  },
  {
   "cell_type": "code",
   "execution_count": 92,
   "metadata": {
    "ExecuteTime": {
     "end_time": "2019-06-15T12:06:50.981542Z",
     "start_time": "2019-06-15T12:06:50.971410Z"
    }
   },
   "outputs": [
    {
     "name": "stdout",
     "output_type": "stream",
     "text": [
      "unopened\tunopen\tunopened\n",
      "decompose\tdecompos\tdecompose\n",
      "decomposes\tdecompos\tdecompose\n",
      "decomposed\tdecompos\tdecompose\n",
      "decomposing\tdecompos\tdecompose\n",
      "does\tdoe\tdo\n",
      "did\tdid\tdo\n",
      "wrote\twrote\twrite\n",
      "written\twritten\twrite\n",
      "ran\tran\trun\n",
      "gave\tgave\tgive\n",
      "held\theld\thold\n",
      "went\twent\tgo\n",
      "gone\tgone\tgo\n",
      "lain\tlain\tlie\n",
      "people\tpeopl\tpeople\n",
      "feet\tfeet\tfoot\n",
      "women\twomen\twoman\n",
      "smoothly\tsmooth\tsmoothly\n",
      "firstly\tfirst\tfirstly\n",
      "secondly\tsecond\tsecondly\n",
      "install\tinstal\tinstall\n",
      "uninstall\tuninstal\tuninstall\n",
      "internalization\tintern\tinternalization\n",
      "internationalization\tinternation\tinternationalization\n",
      "decontextualization\tdecontextu\tdecontextualization\n",
      "decontextualized\tdecontextu\tdecontextualized\n",
      "decentralization\tdecentr\tdecentralization\n",
      "decentralized\tdecentr\tdecentralize\n"
     ]
    }
   ],
   "source": [
    "for w in [\n",
    "    'open', 'opens', 'opened', 'opening', 'unopened',\n",
    "    'talk', 'talks', 'talked', 'talking',\n",
    "    'decompose', 'decomposes', 'decomposed', 'decomposing',\n",
    "    'do', 'does', 'did', \n",
    "    'wrote', 'written', 'ran', 'gave', 'held', 'went', 'gone',\n",
    "    'lied', 'lies', 'lay', 'lain', 'lying', \n",
    "    'cats', 'people', 'feet', 'women', 'smoothly', 'firstly', 'secondly', \n",
    "    'install', 'installed', 'uninstall',\n",
    "    'internalization', 'internationalization',\n",
    "    'decontextualization', 'decontextualized', 'decentralization', 'decentralized']:\n",
    "    s = snowball_stemmer.stem(w)\n",
    "    l = lemmatize(w)\n",
    "    if s != l:\n",
    "        print(\"%s\\t%s\\t%s\" % (w, s, l))\n",
    "    \n"
   ]
  },
  {
   "cell_type": "markdown",
   "metadata": {
    "collapsed": true
   },
   "source": [
    "New counting results with lemmatization. "
   ]
  },
  {
   "cell_type": "code",
   "execution_count": 93,
   "metadata": {
    "ExecuteTime": {
     "end_time": "2019-06-15T12:15:40.305964Z",
     "start_time": "2019-06-15T12:15:40.293460Z"
    }
   },
   "outputs": [
    {
     "name": "stdout",
     "output_type": "stream",
     "text": [
      "Dutch\t9\n",
      "Rembrandt\t6\n",
      "art\t6\n",
      "artist\t5\n",
      "master\t3\n",
      "great\t3\n",
      "history\t3\n",
      "important\t3\n",
      "portrait\t3\n",
      "scene\t3\n",
      "many\t3\n",
      "also\t2\n",
      "painter\t2\n",
      "innovative\t2\n",
      "prolific\t2\n",
      "work\t2\n",
      "style\t2\n",
      "genre\t2\n",
      "study\t2\n",
      "contribution\t2\n",
      "Golden\t2\n",
      "Age\t2\n",
      "paint\t2\n",
      "Baroque\t2\n",
      "new\t2\n",
      "year\t2\n",
      "etch\t2\n",
      "form\t2\n",
      "Harmenszoon\t1\n",
      "van\t1\n",
      "Rijn\t1\n",
      "US\t1\n",
      "ˈrɛmbrɑnt\t1\n",
      "ˈɦɑrmə\t1\n",
      "n\t1\n",
      "soːn\t1\n",
      "vɑn\t1\n",
      "ˈrɛin\t1\n",
      "listen\t1\n",
      "July\t1\n",
      "October\t1\n",
      "draughtsman\t1\n",
      "printmaker\t1\n",
      "three\t1\n",
      "medium\t1\n",
      "generally\t1\n",
      "consider\t1\n",
      "one\t1\n",
      "visual\t1\n",
      "Unlike\t1\n"
     ]
    }
   ],
   "source": [
    "lemmatized_tokens = []\n",
    "for tok in remove_stopwords(tokens):\n",
    "    lemmatized_tokens.append(lemmatize(tok))\n",
    "word_count = Counter(lemmatized_tokens)\n",
    "\n",
    "for w, c in word_count.most_common(50):\n",
    "    print(\"%s\\t%d\" % (w, c))\n"
   ]
  },
  {
   "cell_type": "markdown",
   "metadata": {},
   "source": [
    "# Applications: Genearte data for WordCloud rendering. \n",
    "\n",
    "https://www.jasondavies.com/wordcloud/"
   ]
  },
  {
   "cell_type": "code",
   "execution_count": 17,
   "metadata": {},
   "outputs": [
    {
     "name": "stdout",
     "output_type": "stream",
     "text": [
      "hindu hindu hindu hindu hindu hindu hindu hindu term term term term term term term century century century century century century indian indian indian indian hindus hindus hindus used used used cultural cultural cultural religious religious religious texts texts texts colonial colonial colonial hinduism hinduism identifier identifier people people living living historical historical indus indus medieval medieval era era subcontinent subcontinent began began refer refer within within sense sense identity identity developed developed dharma dharma islam islam hindustani ˈɦɪndu listen persons regard culturally ethnically religiously adhering aspects historically also geographical later meaning evolved time starting persian greek references land millennium bce implied geographic ethnic around beyond sindhu river residents turkic development local south asian population unclear competing theories state british may ce islamic invasion wars appears dated sanskrit bengali poets vidyapati kabir eknath phrase contrasted turaka christian friar sebastiao manrique context european merchants colonists followers religions collectively contrast mohamedans mughals arabs following orientalist distinguished buddhists sikhs jains laws continued consider scope\n"
     ]
    }
   ],
   "source": [
    "repeated_tokens = []\n",
    "for w, c in word_count.most_common():\n",
    "    for i in range(c):\n",
    "        repeated_tokens.append(w)\n",
    "print(\" \".join(repeated_tokens))\n"
   ]
  }
 ],
 "metadata": {
  "celltoolbar": "Slideshow",
  "kernelspec": {
   "display_name": "Python 3",
   "language": "python",
   "name": "python3"
  },
  "language_info": {
   "codemirror_mode": {
    "name": "ipython",
    "version": 3
   },
   "file_extension": ".py",
   "mimetype": "text/x-python",
   "name": "python",
   "nbconvert_exporter": "python",
   "pygments_lexer": "ipython3",
   "version": "3.7.6"
  },
  "toc": {
   "base_numbering": 1,
   "nav_menu": {},
   "number_sections": true,
   "sideBar": true,
   "skip_h1_title": false,
   "title_cell": "Table of Contents",
   "title_sidebar": "Contents",
   "toc_cell": false,
   "toc_position": {
    "height": "calc(100% - 180px)",
    "left": "10px",
    "top": "150px",
    "width": "237px"
   },
   "toc_section_display": true,
   "toc_window_display": true
  }
 },
 "nbformat": 4,
 "nbformat_minor": 1
}
